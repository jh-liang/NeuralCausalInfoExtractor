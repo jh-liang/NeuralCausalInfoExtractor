{
 "cells": [
  {
   "cell_type": "markdown",
   "metadata": {},
   "source": [
    "# Causal discovery with `TIGRAMITE`\n",
    "\n",
    "TIGRAMITE is a time series analysis python module. It allows to reconstruct graphical models (conditional independence graphs) from discrete or continuously-valued time series based on the PCMCI framework and create high-quality plots of the results. \n",
    "\n",
    "PCMCI is described here:\n",
    "J. Runge, P. Nowack, M. Kretschmer, S. Flaxman, D. Sejdinovic, \n",
    "Detecting and quantifying causal associations in large nonlinear time series datasets. Sci. Adv. 5, eaau4996 (2019) \n",
    "https://advances.sciencemag.org/content/5/11/eaau4996\n",
    "\n",
    "For further versions of PCMCI (e.g., PCMCI+, LPCMCI, etc.), see the corresponding tutorials.\n",
    "\n",
    "This tutorial explains the LinearMediation class covering linear lagged causal effect and mediation analysis. See the following paper for theoretical background:\n",
    "Runge, Jakob, Vladimir Petoukhov, Jonathan F. Donges, Jaroslav Hlinka, Nikola Jajcay, Martin Vejmelka, David Hartman, Norbert Marwan, Milan Paluš, and Jürgen Kurths. 2015. “Identifying Causal Gateways and Mediators in Complex Spatio-Temporal Systems.” Nature Communications 6: 8502. https://doi.org/10.1038/ncomms9502.\n",
    "\n",
    "__Note:__ For general nonlinear, lagged and contemporaneous causal effect analysis, see the causal_effects.py class and the tutorial ``tigramite_tutorial_general_causal_effect_analysis.pynb``.\n",
    "\n",
    "Last, the following Nature Communications Perspective paper provides an overview of causal inference methods in general, identifies promising applications, and discusses methodological challenges (exemplified in Earth system sciences): \n",
    "https://www.nature.com/articles/s41467-019-10105-3"
   ]
  },
  {
   "cell_type": "code",
   "execution_count": 1,
   "metadata": {},
   "outputs": [
    {
     "name": "stderr",
     "output_type": "stream",
     "text": [
      "/home/jakobrunge/anaconda3/envs/py39/lib/python3.9/site-packages/tigramite-5.0.1.18-py3.9.egg/tigramite/plotting.py:26: UserWarning: [Errno 2] No such file or directory: '/home/jakobrunge/anaconda3/envs/py39/lib/python3.9/site-packages/tigramite-5.0.1.18-py3.9.egg/tigramite/../versions.py'\n",
      "  warnings.warn(str(e))\n",
      "OMP: Info #276: omp_set_nested routine deprecated, please use omp_set_max_active_levels instead.\n",
      "/home/jakobrunge/anaconda3/envs/py39/lib/python3.9/site-packages/tigramite-5.0.1.18-py3.9.egg/tigramite/independence_tests/gpdc.py:27: UserWarning: [Errno 2] No such file or directory: '/home/jakobrunge/anaconda3/envs/py39/lib/python3.9/site-packages/tigramite-5.0.1.18-py3.9.egg/tigramite/independence_tests/../../versions.py'\n",
      "  warnings.warn(str(e))\n",
      "/home/jakobrunge/anaconda3/envs/py39/lib/python3.9/site-packages/tqdm/auto.py:22: TqdmWarning: IProgress not found. Please update jupyter and ipywidgets. See https://ipywidgets.readthedocs.io/en/stable/user_install.html\n",
      "  from .autonotebook import tqdm as notebook_tqdm\n",
      "/home/jakobrunge/anaconda3/envs/py39/lib/python3.9/site-packages/tigramite-5.0.1.18-py3.9.egg/tigramite/independence_tests/gpdc_torch.py:33: UserWarning: [Errno 2] No such file or directory: '/home/jakobrunge/anaconda3/envs/py39/lib/python3.9/site-packages/tigramite-5.0.1.18-py3.9.egg/tigramite/independence_tests/../../versions.py'\n",
      "  warnings.warn(str(e))\n",
      "/home/jakobrunge/anaconda3/envs/py39/lib/python3.9/site-packages/tigramite-5.0.1.18-py3.9.egg/tigramite/models.py:29: UserWarning: [Errno 2] No such file or directory: '/home/jakobrunge/anaconda3/envs/py39/lib/python3.9/site-packages/tigramite-5.0.1.18-py3.9.egg/tigramite/../versions.py'\n",
      "  warnings.warn(str(e))\n"
     ]
    }
   ],
   "source": [
    "# Imports\n",
    "import numpy as np\n",
    "import matplotlib\n",
    "from matplotlib import pyplot as plt\n",
    "%matplotlib inline     \n",
    "## use `%matplotlib notebook` for interactive figures\n",
    "# plt.style.use('ggplot')\n",
    "import sklearn\n",
    "\n",
    "import tigramite\n",
    "from tigramite import data_processing as pp\n",
    "from tigramite.toymodels import structural_causal_processes as toys\n",
    "from tigramite import plotting as tp\n",
    "from tigramite.pcmci import PCMCI\n",
    "from tigramite.independence_tests import ParCorr, GPDC, CMIknn, CMIsymb\n",
    "from tigramite.models import LinearMediation, Prediction\n"
   ]
  },
  {
   "cell_type": "markdown",
   "metadata": {},
   "source": [
    "# Causal effects and mediation\n",
    "\n",
    "The preceding sections were concerned with estimating causal links. In this section we discuss how the estimated time series graph can be used to evaluate causal effects and causal mediation in a linear framework as discussed in more detail in Runge et al, Nature Communications 2015. \n",
    "\n",
    "__Note:__ This analysis assumes linear and time-lagged causal relations. For a general causal effect analysis please refer to the ``CausalEffects`` class and tutorial.\n",
    "\n",
    "\n",
    "Consider the following model of a simple causal chain:\n",
    "\n",
    "\\begin{align*}\n",
    "              X_t &= \\eta^X_t \\\\\n",
    "              Y_t &= 0.5 X_{t-1} +  \\eta^Y_t \\\\\n",
    "              Z_t &= 0.5 Y_{t-1} +  \\eta^Z_t\n",
    "\\end{align*}"
   ]
  },
  {
   "cell_type": "code",
   "execution_count": 2,
   "metadata": {},
   "outputs": [],
   "source": [
    "np.random.seed(42)\n",
    "# links_coeffs = {0: [],\n",
    "#                 1: [((0, -1), 0.5)],\n",
    "#                 2: [((1, -1), 0.5)],\n",
    "#                 }\n",
    "links_coeffs = {0: [((0,-1), 0.8)],\n",
    "                1: [((1,-1), 0.8), ((0, -1), 0.5)],\n",
    "                2: [((2,-1), 0.8), ((1, -1), 0.5)],\n",
    "                }\n",
    "var_names = [r\"$X$\", r\"$Y$\", r\"$Z$\"]\n",
    "    \n",
    "data, true_parents = toys.var_process(links_coeffs, T=1000)\n",
    "\n",
    "# Initialize dataframe object, specify time axis and variable names\n",
    "dataframe = pp.DataFrame(data, \n",
    "                         var_names=var_names)\n",
    "med = LinearMediation(dataframe=dataframe)\n",
    "med.fit_model(all_parents=true_parents, tau_max=4)"
   ]
  },
  {
   "cell_type": "markdown",
   "metadata": {},
   "source": [
    "We fit the linear mediation model based on the true parents here, in practice these are estimated with PCMCI. If the assumption of a linear model is justified *and* causal sufficiency is fulfilled, the *link coefficient* of $X_{t-\\tau}\\to Y_t$ estimated from standardized time series (default in ``LinearMediation`` class) corresponds to the change in the expected value of $Y_t$ (in units of its standard deviation) caused by a perturbation of one standard deviation in $X_{t-\\tau}$. Let's check the link coefficient of $X_{t-2}\\to Z_t$"
   ]
  },
  {
   "cell_type": "code",
   "execution_count": 3,
   "metadata": {},
   "outputs": [
    {
     "name": "stdout",
     "output_type": "stream",
     "text": [
      "Link coefficient (0, -2) --> 2:  0.0\n"
     ]
    }
   ],
   "source": [
    "print (\"Link coefficient (0, -2) --> 2: \", med.get_coeff(i=0, tau=-2, j=2))"
   ]
  },
  {
   "cell_type": "markdown",
   "metadata": {},
   "source": [
    "The link coefficient is non-zero only for direct links. The *causal effect* evaluates also *indirect* effects and is now simply computed by summing over the products of link coefficients along all possible paths between the two variables. For example, here the causal effect of $X_{t-2}\\to Z_t$ is"
   ]
  },
  {
   "cell_type": "code",
   "execution_count": 4,
   "metadata": {},
   "outputs": [
    {
     "name": "stdout",
     "output_type": "stream",
     "text": [
      "Causal effect (0, -2) --> 2:  0.06386220811405569\n"
     ]
    }
   ],
   "source": [
    "print (\"Causal effect (0, -2) --> 2: \", med.get_ce(i=0, tau=-2, j=2))"
   ]
  },
  {
   "cell_type": "markdown",
   "metadata": {},
   "source": [
    "The *mediated causal effect* quantifies the contribution of an intermediate variable to the causal effect. For example, let's look at the contribution of $Y$ on the causal effect of $X_{t-2}\\to Z_t$."
   ]
  },
  {
   "cell_type": "code",
   "execution_count": 5,
   "metadata": {},
   "outputs": [
    {
     "name": "stdout",
     "output_type": "stream",
     "text": [
      "Mediated Causal effect (0, -2) --> 2 through 1:  0.06386220811405569\n"
     ]
    }
   ],
   "source": [
    "print (\"Mediated Causal effect (0, -2) --> 2 through 1: \", med.get_mce(i=0, tau=-2, j=2, k=1))"
   ]
  },
  {
   "cell_type": "markdown",
   "metadata": {},
   "source": [
    "Since $Y$ mediates *all* of the causal effect, MCE is the same as CE here. Mediation analysis is a powerful tool to quantify not only direct causal links, but also indirect pathways. This can answer questions such as \"How important is one process for the causal mechanism between two others?\". In the ``tigramite.plotting`` module are functions to visualize causal pathways both in the aggregated network and in the time series graph. Here we look at all causal pathways between $X_{t-4}$ and $Z_t$:"
   ]
  },
  {
   "cell_type": "code",
   "execution_count": 6,
   "metadata": {},
   "outputs": [
    {
     "data": {
      "image/png": "[encoded data removed]",
      "text/plain": [
       "<Figure size 432x288 with 3 Axes>"
      ]
     },
     "metadata": {
      "needs_background": "light"
     },
     "output_type": "display_data"
    },
    {
     "data": {
      "image/png": "[encoded data removed]",
      "text/plain": [
       "<Figure size 432x288 with 3 Axes>"
      ]
     },
     "metadata": {
      "needs_background": "light"
     },
     "output_type": "display_data"
    }
   ],
   "source": [
    "i=0; tau=4; j=2\n",
    "graph_data = med.get_mediation_graph_data(i=i, tau=tau, j=j)\n",
    "tp.plot_mediation_time_series_graph(\n",
    "    var_names=var_names,\n",
    "    path_node_array=graph_data['path_node_array'],\n",
    "    tsg_path_val_matrix=graph_data['tsg_path_val_matrix']\n",
    "    )\n",
    "tp.plot_mediation_graph(\n",
    "                    var_names=var_names,\n",
    "                    path_val_matrix=graph_data['path_val_matrix'], \n",
    "                    path_node_array=graph_data['path_node_array'],\n",
    "                    ); plt.show()"
   ]
  },
  {
   "cell_type": "markdown",
   "metadata": {},
   "source": [
    "In both plots, the node color depicts the mediation of a variable and the link colors depict the link coefficients. The graph plot in the bottom panel is easier to visualize for more complex pathways, but it's harder to see the pathways across variables *and* in time."
   ]
  },
  {
   "cell_type": "markdown",
   "metadata": {},
   "source": [
    "Causal effect and mediation analysis can also be used for more aggregate measures. The Average Causal Effect (ACE) quantifies how strong the effect of a single variable on the whole system is and the Average Causal Susceptibility (ACS) quantifies how strong a single variable is effected by perturbations entering elsewhere in the system. Last, the Average Mediated Causal Effect (AMCE) quantifies how much a single variable mediates causal effects between any two other processes. In Runge et al, Nature Communications (2015), these measures are compared with conventional complex network measures to show that causal effect measures are better interpretable alternatives. For example, *betweenness centrality* gives the average number of shortest paths going through a particular node. However, causal effects do not necessarily take shortest paths and betweenness also does not properly take into account the causal effect weights."
   ]
  },
  {
   "cell_type": "code",
   "execution_count": 7,
   "metadata": {},
   "outputs": [
    {
     "name": "stdout",
     "output_type": "stream",
     "text": [
      "Average Causal Effect X=0.39, Y=0.24, Z=0.00 \n",
      "Average Causal Susceptibility X=0.00, Y=0.27, Z=0.36 \n",
      "Average Mediated Causal Effect X=0.00, Y=0.12, Z=0.00 \n"
     ]
    }
   ],
   "source": [
    "print (\"Average Causal Effect X=%.2f, Y=%.2f, Z=%.2f \" % tuple(med.get_all_ace()))\n",
    "print (\"Average Causal Susceptibility X=%.2f, Y=%.2f, Z=%.2f \" % tuple(med.get_all_acs()))\n",
    "print (\"Average Mediated Causal Effect X=%.2f, Y=%.2f, Z=%.2f \" % tuple(med.get_all_amce()))"
   ]
  },
  {
   "cell_type": "markdown",
   "metadata": {},
   "source": [
    "Note that per default self-loops are excluded in these measures. Currently, the Mediation class only supports lagged causal effects coming from a PCMCI analysis. For contemporaneous effects, coming from a PCMCI+ analysis, the problem is trickier and can be addressed with the ``CausalEffects`` class."
   ]
  },
  {
   "cell_type": "code",
   "execution_count": null,
   "metadata": {},
   "outputs": [],
   "source": []
  }
 ],
 "metadata": {
  "kernelspec": {
   "display_name": "Python (py39)",
   "language": "python",
   "name": "py39"
  },
  "language_info": {
   "codemirror_mode": {
    "name": "ipython",
    "version": 3
   },
   "file_extension": ".py",
   "mimetype": "text/x-python",
   "name": "python",
   "nbconvert_exporter": "python",
   "pygments_lexer": "ipython3",
   "version": "3.9.12"
  }
 },
 "nbformat": 4,
 "nbformat_minor": 1
}
