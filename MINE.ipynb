{
 "cells": [
  {
   "cell_type": "code",
   "execution_count": 1,
   "metadata": {},
   "outputs": [],
   "source": [
    "import pandas as pd\n",
    "import numpy as np\n",
    "import matplotlib.pyplot as plt"
   ]
  },
  {
   "cell_type": "code",
   "execution_count": 2,
   "metadata": {},
   "outputs": [],
   "source": [
    "etth1data = pd.read_csv('dataset/ETT-small/ETTh1.csv')\n",
    "etth1data = etth1data.drop('date', axis=1)\n",
    "target = etth1data.pop('OT')\n",
    "etth1data.insert(0, 'OT', target)\n",
    "data1 = etth1data\n",
    "# pcmci_result = np.array([8, -1, 10, -1, 11,  4, 16, 20, 14, -1, 19, 13, -1,  9, 13,  7, 10,\n",
    "#                             -1, 17, 17,  3, 16,  0, 16, 13])\n",
    "pcmci_result = np.array([1, 1, 3, 1, 3, 2, 1]).astype(int)"
   ]
  },
  {
   "cell_type": "code",
   "execution_count": 2,
   "metadata": {},
   "outputs": [],
   "source": [
    "etth2data = pd.read_csv('dataset/ETT-small/ETTh2.csv')\n",
    "etth2data = etth2data.drop('date', axis=1)\n",
    "target = etth2data.pop('OT')\n",
    "etth2data.insert(0, 'OT', target)\n",
    "data1 = etth2data\n",
    "pcmci_result = np.array([1, 1, 1, 1, 1, 1, 1]).astype(int)"
   ]
  },
  {
   "cell_type": "code",
   "execution_count": 2,
   "metadata": {},
   "outputs": [],
   "source": [
    "ettm1data = pd.read_csv('dataset/ETT-small/ETTm1.csv')\n",
    "ettm1data = ettm1data.drop('date', axis=1)\n",
    "target = ettm1data.pop('OT')\n",
    "ettm1data.insert(0, 'OT', target)\n",
    "data1 = ettm1data\n",
    "pcmci_result = np.array([1, 1, 1, 1, 1, 1, 1]).astype(int)"
   ]
  },
  {
   "cell_type": "code",
   "execution_count": 10,
   "metadata": {},
   "outputs": [],
   "source": [
    "ettm2data = pd.read_csv('dataset/ETT-small/ETTm2.csv')\n",
    "ettm2data = ettm2data.drop('date', axis=1)\n",
    "target = ettm2data.pop('OT')\n",
    "ettm2data.insert(0, 'OT', target)\n",
    "data1 = ettm2data\n",
    "pcmci_result = np.array([1, 1, 1, 1, 1, 1, 1]).astype(int)"
   ]
  },
  {
   "cell_type": "code",
   "execution_count": 2,
   "metadata": {},
   "outputs": [],
   "source": [
    "exchangedata = pd.read_csv('dataset/exchange_rate/exchange_rate.csv')\n",
    "exchangedata = exchangedata.drop('date', axis=1)\n",
    "target = exchangedata.pop('OT')\n",
    "exchangedata.insert(0, 'OT', target)\n",
    "data1 = exchangedata\n",
    "pcmci_result = np.array([1, -1, 3, 5, 3, -1, 1, 1]).astype(int)"
   ]
  },
  {
   "cell_type": "code",
   "execution_count": 12,
   "metadata": {},
   "outputs": [],
   "source": [
    "illnessdata = pd.read_csv('dataset/illness/national_illness.csv')\n",
    "illnessdata = illnessdata.drop('date', axis=1)\n",
    "target = illnessdata.pop('OT')\n",
    "illnessdata.insert(0, 'OT', target)\n",
    "data1 = illnessdata\n",
    "pcmci_result = np.array([1, 1, 1, 1, 1, 1, 1]).astype(int)"
   ]
  },
  {
   "cell_type": "code",
   "execution_count": 37,
   "metadata": {},
   "outputs": [],
   "source": [
    "metrodata = pd.read_csv('Metro_Interstate_Traffic_Volume.csv').drop(['weather_description', 'date_time'], axis=1)\n",
    "target = metrodata.pop('traffic_volume')\n",
    "metrodata.insert(0, 'OT', target)\n",
    "metrodata.loc[metrodata['holiday'] == 'None', 'holiday'] = 0\n",
    "metrodata.loc[metrodata['holiday'] != 0, 'holiday'] = 1\n",
    "metrodata['holiday'] = metrodata['holiday'].astype('int64')\n",
    "metrodata['weather_main'] = metrodata['weather_main'].map({'Clouds':0. , 'Clear':1., 'Rain':2., 'Drizzle':3., 'Mist':4., 'Haze':5., 'Fog':6.,\n",
    "                                                            'Thunderstorm':7., 'Snow':8., 'Squall':9., 'Smoke':10.})\n",
    "data1 = metrodata\n",
    "pcmci_result = np.array([1, 1, 1, 1, 1, 1, 1]).astype(int)"
   ]
  },
  {
   "cell_type": "code",
   "execution_count": 2,
   "metadata": {},
   "outputs": [],
   "source": [
    "pmdata = pd.read_csv('beijing_air.csv')\n",
    "pmdata['date'] = pd.to_datetime(pmdata['date'])\n",
    "pmdata['year'] = pmdata['date'].apply(lambda x:x.year)\n",
    "pmdata['month'] = pmdata['date'].apply(lambda x:x.month)\n",
    "pmdata['day'] = pmdata['date'].apply(lambda x:x.day)\n",
    "pmdata['hour'] = pmdata['date'].apply(lambda x:x.hour)\n",
    "pmdata = pmdata.drop(['date', 'wnd_dir'], axis=1)\n",
    "pmdata.dtypes\n",
    "\n",
    "data1 = pmdata\n",
    "pcmci_result = np.array([1, 1, 2, 1, 1, 1, 1, 1, 1, 1, 1]).astype(int)"
   ]
  },
  {
   "cell_type": "code",
   "execution_count": 3,
   "metadata": {},
   "outputs": [
    {
     "data": {
      "text/html": [
       "<div>\n",
       "<style scoped>\n",
       "    .dataframe tbody tr th:only-of-type {\n",
       "        vertical-align: middle;\n",
       "    }\n",
       "\n",
       "    .dataframe tbody tr th {\n",
       "        vertical-align: top;\n",
       "    }\n",
       "\n",
       "    .dataframe thead th {\n",
       "        text-align: right;\n",
       "    }\n",
       "</style>\n",
       "<table border=\"1\" class=\"dataframe\">\n",
       "  <thead>\n",
       "    <tr style=\"text-align: right;\">\n",
       "      <th></th>\n",
       "      <th>OT</th>\n",
       "      <th>HUFL</th>\n",
       "      <th>HULL</th>\n",
       "      <th>MUFL</th>\n",
       "      <th>MULL</th>\n",
       "      <th>LUFL</th>\n",
       "      <th>LULL</th>\n",
       "    </tr>\n",
       "  </thead>\n",
       "  <tbody>\n",
       "    <tr>\n",
       "      <th>0</th>\n",
       "      <td>30.531000</td>\n",
       "      <td>5.827</td>\n",
       "      <td>2.009</td>\n",
       "      <td>1.599</td>\n",
       "      <td>0.462</td>\n",
       "      <td>4.203</td>\n",
       "      <td>1.340</td>\n",
       "    </tr>\n",
       "    <tr>\n",
       "      <th>1</th>\n",
       "      <td>30.459999</td>\n",
       "      <td>5.760</td>\n",
       "      <td>2.076</td>\n",
       "      <td>1.492</td>\n",
       "      <td>0.426</td>\n",
       "      <td>4.264</td>\n",
       "      <td>1.401</td>\n",
       "    </tr>\n",
       "    <tr>\n",
       "      <th>2</th>\n",
       "      <td>30.038000</td>\n",
       "      <td>5.760</td>\n",
       "      <td>1.942</td>\n",
       "      <td>1.492</td>\n",
       "      <td>0.391</td>\n",
       "      <td>4.234</td>\n",
       "      <td>1.310</td>\n",
       "    </tr>\n",
       "    <tr>\n",
       "      <th>3</th>\n",
       "      <td>27.013000</td>\n",
       "      <td>5.760</td>\n",
       "      <td>1.942</td>\n",
       "      <td>1.492</td>\n",
       "      <td>0.426</td>\n",
       "      <td>4.234</td>\n",
       "      <td>1.310</td>\n",
       "    </tr>\n",
       "    <tr>\n",
       "      <th>4</th>\n",
       "      <td>27.787001</td>\n",
       "      <td>5.693</td>\n",
       "      <td>2.076</td>\n",
       "      <td>1.492</td>\n",
       "      <td>0.426</td>\n",
       "      <td>4.142</td>\n",
       "      <td>1.371</td>\n",
       "    </tr>\n",
       "    <tr>\n",
       "      <th>...</th>\n",
       "      <td>...</td>\n",
       "      <td>...</td>\n",
       "      <td>...</td>\n",
       "      <td>...</td>\n",
       "      <td>...</td>\n",
       "      <td>...</td>\n",
       "      <td>...</td>\n",
       "    </tr>\n",
       "    <tr>\n",
       "      <th>69675</th>\n",
       "      <td>9.567000</td>\n",
       "      <td>9.310</td>\n",
       "      <td>3.550</td>\n",
       "      <td>5.437</td>\n",
       "      <td>1.670</td>\n",
       "      <td>3.868</td>\n",
       "      <td>1.462</td>\n",
       "    </tr>\n",
       "    <tr>\n",
       "      <th>69676</th>\n",
       "      <td>9.567000</td>\n",
       "      <td>10.114</td>\n",
       "      <td>3.550</td>\n",
       "      <td>6.183</td>\n",
       "      <td>1.564</td>\n",
       "      <td>3.716</td>\n",
       "      <td>1.462</td>\n",
       "    </tr>\n",
       "    <tr>\n",
       "      <th>69677</th>\n",
       "      <td>9.426000</td>\n",
       "      <td>10.784</td>\n",
       "      <td>3.349</td>\n",
       "      <td>7.000</td>\n",
       "      <td>1.635</td>\n",
       "      <td>3.746</td>\n",
       "      <td>1.432</td>\n",
       "    </tr>\n",
       "    <tr>\n",
       "      <th>69678</th>\n",
       "      <td>9.426000</td>\n",
       "      <td>11.655</td>\n",
       "      <td>3.617</td>\n",
       "      <td>7.533</td>\n",
       "      <td>1.706</td>\n",
       "      <td>4.173</td>\n",
       "      <td>1.523</td>\n",
       "    </tr>\n",
       "    <tr>\n",
       "      <th>69679</th>\n",
       "      <td>9.778000</td>\n",
       "      <td>12.994</td>\n",
       "      <td>3.818</td>\n",
       "      <td>8.244</td>\n",
       "      <td>1.777</td>\n",
       "      <td>4.721</td>\n",
       "      <td>1.523</td>\n",
       "    </tr>\n",
       "  </tbody>\n",
       "</table>\n",
       "<p>69680 rows × 7 columns</p>\n",
       "</div>"
      ],
      "text/plain": [
       "              OT    HUFL   HULL   MUFL   MULL   LUFL   LULL\n",
       "0      30.531000   5.827  2.009  1.599  0.462  4.203  1.340\n",
       "1      30.459999   5.760  2.076  1.492  0.426  4.264  1.401\n",
       "2      30.038000   5.760  1.942  1.492  0.391  4.234  1.310\n",
       "3      27.013000   5.760  1.942  1.492  0.426  4.234  1.310\n",
       "4      27.787001   5.693  2.076  1.492  0.426  4.142  1.371\n",
       "...          ...     ...    ...    ...    ...    ...    ...\n",
       "69675   9.567000   9.310  3.550  5.437  1.670  3.868  1.462\n",
       "69676   9.567000  10.114  3.550  6.183  1.564  3.716  1.462\n",
       "69677   9.426000  10.784  3.349  7.000  1.635  3.746  1.432\n",
       "69678   9.426000  11.655  3.617  7.533  1.706  4.173  1.523\n",
       "69679   9.778000  12.994  3.818  8.244  1.777  4.721  1.523\n",
       "\n",
       "[69680 rows x 7 columns]"
      ]
     },
     "execution_count": 3,
     "metadata": {},
     "output_type": "execute_result"
    }
   ],
   "source": [
    "sorted_data = data1.iloc[:, pcmci_result > -1]\n",
    "sorted_data"
   ]
  },
  {
   "cell_type": "code",
   "execution_count": 4,
   "metadata": {},
   "outputs": [
    {
     "data": {
      "text/plain": [
       "array([1, 1, 1, 1, 1, 1, 1])"
      ]
     },
     "execution_count": 4,
     "metadata": {},
     "output_type": "execute_result"
    }
   ],
   "source": [
    "sorted_arrows = pcmci_result[pcmci_result > -1].astype(int)\n",
    "sorted_arrows"
   ]
  },
  {
   "cell_type": "code",
   "execution_count": 5,
   "metadata": {},
   "outputs": [],
   "source": [
    "tau_max = 20\n",
    "ar_range = 10\n",
    "\n",
    "lagged_data = pd.DataFrame(sorted_data.iloc[tau_max:, 0])\n",
    "for i in range(1, ar_range):\n",
    "    lagged_data['OT' + '_' + str(i)] = np.array(sorted_data.iloc[tau_max-i:-i, 0])\n",
    "for i in range(sorted_data.shape[1]):\n",
    "    if sorted_arrows[i] == 0:\n",
    "        lagged_data[sorted_data.columns[i] + '_' + str(sorted_arrows[i])] = np.array(sorted_data.iloc[tau_max:, i])\n",
    "        continue\n",
    "    lagged_data[sorted_data.columns[i] + '_' + str(sorted_arrows[i])] = np.array(sorted_data.iloc[tau_max - sorted_arrows[i]:-sorted_arrows[i], i])\n"
   ]
  },
  {
   "cell_type": "code",
   "execution_count": 6,
   "metadata": {},
   "outputs": [
    {
     "data": {
      "text/plain": [
       "50.22800016403198"
      ]
     },
     "execution_count": 6,
     "metadata": {},
     "output_type": "execute_result"
    }
   ],
   "source": [
    "minmaxgap =  lagged_data.iloc[:, 0].max() - lagged_data.iloc[:, 0].min()\n",
    "minmaxgap"
   ]
  },
  {
   "cell_type": "code",
   "execution_count": 7,
   "metadata": {},
   "outputs": [
    {
     "data": {
      "text/html": [
       "<div>\n",
       "<style scoped>\n",
       "    .dataframe tbody tr th:only-of-type {\n",
       "        vertical-align: middle;\n",
       "    }\n",
       "\n",
       "    .dataframe tbody tr th {\n",
       "        vertical-align: top;\n",
       "    }\n",
       "\n",
       "    .dataframe thead th {\n",
       "        text-align: right;\n",
       "    }\n",
       "</style>\n",
       "<table border=\"1\" class=\"dataframe\">\n",
       "  <thead>\n",
       "    <tr style=\"text-align: right;\">\n",
       "      <th></th>\n",
       "      <th>OT</th>\n",
       "      <th>OT_1</th>\n",
       "      <th>OT_2</th>\n",
       "      <th>OT_3</th>\n",
       "      <th>OT_4</th>\n",
       "      <th>OT_5</th>\n",
       "      <th>OT_6</th>\n",
       "      <th>OT_7</th>\n",
       "      <th>OT_8</th>\n",
       "      <th>OT_9</th>\n",
       "      <th>HUFL_1</th>\n",
       "      <th>HULL_1</th>\n",
       "      <th>MUFL_1</th>\n",
       "      <th>MULL_1</th>\n",
       "      <th>LUFL_1</th>\n",
       "      <th>LULL_1</th>\n",
       "    </tr>\n",
       "  </thead>\n",
       "  <tbody>\n",
       "    <tr>\n",
       "      <th>20</th>\n",
       "      <td>0.505594</td>\n",
       "      <td>0.502807</td>\n",
       "      <td>0.537808</td>\n",
       "      <td>0.511209</td>\n",
       "      <td>0.521004</td>\n",
       "      <td>0.512603</td>\n",
       "      <td>0.553217</td>\n",
       "      <td>0.572828</td>\n",
       "      <td>0.582643</td>\n",
       "      <td>0.621844</td>\n",
       "      <td>0.605921</td>\n",
       "      <td>0.485320</td>\n",
       "      <td>0.626693</td>\n",
       "      <td>0.470563</td>\n",
       "      <td>0.534586</td>\n",
       "      <td>0.606973</td>\n",
       "    </tr>\n",
       "    <tr>\n",
       "      <th>21</th>\n",
       "      <td>0.498606</td>\n",
       "      <td>0.505594</td>\n",
       "      <td>0.502807</td>\n",
       "      <td>0.537808</td>\n",
       "      <td>0.511209</td>\n",
       "      <td>0.521004</td>\n",
       "      <td>0.512603</td>\n",
       "      <td>0.553217</td>\n",
       "      <td>0.572828</td>\n",
       "      <td>0.582643</td>\n",
       "      <td>0.608747</td>\n",
       "      <td>0.489505</td>\n",
       "      <td>0.627503</td>\n",
       "      <td>0.473154</td>\n",
       "      <td>0.540884</td>\n",
       "      <td>0.620783</td>\n",
       "    </tr>\n",
       "    <tr>\n",
       "      <th>22</th>\n",
       "      <td>0.505594</td>\n",
       "      <td>0.498606</td>\n",
       "      <td>0.505594</td>\n",
       "      <td>0.502807</td>\n",
       "      <td>0.537808</td>\n",
       "      <td>0.511209</td>\n",
       "      <td>0.521004</td>\n",
       "      <td>0.512603</td>\n",
       "      <td>0.553217</td>\n",
       "      <td>0.572828</td>\n",
       "      <td>0.615811</td>\n",
       "      <td>0.502061</td>\n",
       "      <td>0.630697</td>\n",
       "      <td>0.478264</td>\n",
       "      <td>0.559777</td>\n",
       "      <td>0.648177</td>\n",
       "    </tr>\n",
       "    <tr>\n",
       "      <th>23</th>\n",
       "      <td>0.505594</td>\n",
       "      <td>0.505594</td>\n",
       "      <td>0.498606</td>\n",
       "      <td>0.505594</td>\n",
       "      <td>0.502807</td>\n",
       "      <td>0.537808</td>\n",
       "      <td>0.511209</td>\n",
       "      <td>0.521004</td>\n",
       "      <td>0.512603</td>\n",
       "      <td>0.553217</td>\n",
       "      <td>0.620050</td>\n",
       "      <td>0.506247</td>\n",
       "      <td>0.633104</td>\n",
       "      <td>0.478264</td>\n",
       "      <td>0.569172</td>\n",
       "      <td>0.655196</td>\n",
       "    </tr>\n",
       "    <tr>\n",
       "      <th>24</th>\n",
       "      <td>0.537808</td>\n",
       "      <td>0.505594</td>\n",
       "      <td>0.505594</td>\n",
       "      <td>0.498606</td>\n",
       "      <td>0.505594</td>\n",
       "      <td>0.502807</td>\n",
       "      <td>0.537808</td>\n",
       "      <td>0.511209</td>\n",
       "      <td>0.521004</td>\n",
       "      <td>0.512603</td>\n",
       "      <td>0.629940</td>\n",
       "      <td>0.510432</td>\n",
       "      <td>0.637895</td>\n",
       "      <td>0.488484</td>\n",
       "      <td>0.603758</td>\n",
       "      <td>0.689608</td>\n",
       "    </tr>\n",
       "    <tr>\n",
       "      <th>...</th>\n",
       "      <td>...</td>\n",
       "      <td>...</td>\n",
       "      <td>...</td>\n",
       "      <td>...</td>\n",
       "      <td>...</td>\n",
       "      <td>...</td>\n",
       "      <td>...</td>\n",
       "      <td>...</td>\n",
       "      <td>...</td>\n",
       "      <td>...</td>\n",
       "      <td>...</td>\n",
       "      <td>...</td>\n",
       "      <td>...</td>\n",
       "      <td>...</td>\n",
       "      <td>...</td>\n",
       "      <td>...</td>\n",
       "    </tr>\n",
       "    <tr>\n",
       "      <th>69675</th>\n",
       "      <td>0.274508</td>\n",
       "      <td>0.278709</td>\n",
       "      <td>0.281516</td>\n",
       "      <td>0.278709</td>\n",
       "      <td>0.280123</td>\n",
       "      <td>0.281516</td>\n",
       "      <td>0.282910</td>\n",
       "      <td>0.288524</td>\n",
       "      <td>0.291312</td>\n",
       "      <td>0.292725</td>\n",
       "      <td>0.676543</td>\n",
       "      <td>0.569028</td>\n",
       "      <td>0.706641</td>\n",
       "      <td>0.549878</td>\n",
       "      <td>0.509395</td>\n",
       "      <td>0.648177</td>\n",
       "    </tr>\n",
       "    <tr>\n",
       "      <th>69676</th>\n",
       "      <td>0.274508</td>\n",
       "      <td>0.274508</td>\n",
       "      <td>0.278709</td>\n",
       "      <td>0.281516</td>\n",
       "      <td>0.278709</td>\n",
       "      <td>0.280123</td>\n",
       "      <td>0.281516</td>\n",
       "      <td>0.282910</td>\n",
       "      <td>0.288524</td>\n",
       "      <td>0.291312</td>\n",
       "      <td>0.686432</td>\n",
       "      <td>0.577399</td>\n",
       "      <td>0.715436</td>\n",
       "      <td>0.554988</td>\n",
       "      <td>0.521990</td>\n",
       "      <td>0.641386</td>\n",
       "    </tr>\n",
       "    <tr>\n",
       "      <th>69677</th>\n",
       "      <td>0.271701</td>\n",
       "      <td>0.274508</td>\n",
       "      <td>0.274508</td>\n",
       "      <td>0.278709</td>\n",
       "      <td>0.281516</td>\n",
       "      <td>0.278709</td>\n",
       "      <td>0.280123</td>\n",
       "      <td>0.281516</td>\n",
       "      <td>0.282910</td>\n",
       "      <td>0.288524</td>\n",
       "      <td>0.703387</td>\n",
       "      <td>0.577399</td>\n",
       "      <td>0.732218</td>\n",
       "      <td>0.547359</td>\n",
       "      <td>0.506298</td>\n",
       "      <td>0.641386</td>\n",
       "    </tr>\n",
       "    <tr>\n",
       "      <th>69678</th>\n",
       "      <td>0.271701</td>\n",
       "      <td>0.271701</td>\n",
       "      <td>0.274508</td>\n",
       "      <td>0.274508</td>\n",
       "      <td>0.278709</td>\n",
       "      <td>0.281516</td>\n",
       "      <td>0.278709</td>\n",
       "      <td>0.280123</td>\n",
       "      <td>0.281516</td>\n",
       "      <td>0.282910</td>\n",
       "      <td>0.717515</td>\n",
       "      <td>0.564843</td>\n",
       "      <td>0.750596</td>\n",
       "      <td>0.552469</td>\n",
       "      <td>0.509395</td>\n",
       "      <td>0.634594</td>\n",
       "    </tr>\n",
       "    <tr>\n",
       "      <th>69679</th>\n",
       "      <td>0.278709</td>\n",
       "      <td>0.271701</td>\n",
       "      <td>0.271701</td>\n",
       "      <td>0.274508</td>\n",
       "      <td>0.274508</td>\n",
       "      <td>0.278709</td>\n",
       "      <td>0.281516</td>\n",
       "      <td>0.278709</td>\n",
       "      <td>0.280123</td>\n",
       "      <td>0.281516</td>\n",
       "      <td>0.735882</td>\n",
       "      <td>0.581584</td>\n",
       "      <td>0.762586</td>\n",
       "      <td>0.557579</td>\n",
       "      <td>0.553479</td>\n",
       "      <td>0.655196</td>\n",
       "    </tr>\n",
       "  </tbody>\n",
       "</table>\n",
       "<p>69660 rows × 16 columns</p>\n",
       "</div>"
      ],
      "text/plain": [
       "             OT      OT_1      OT_2      OT_3      OT_4      OT_5      OT_6  \\\n",
       "20     0.505594  0.502807  0.537808  0.511209  0.521004  0.512603  0.553217   \n",
       "21     0.498606  0.505594  0.502807  0.537808  0.511209  0.521004  0.512603   \n",
       "22     0.505594  0.498606  0.505594  0.502807  0.537808  0.511209  0.521004   \n",
       "23     0.505594  0.505594  0.498606  0.505594  0.502807  0.537808  0.511209   \n",
       "24     0.537808  0.505594  0.505594  0.498606  0.505594  0.502807  0.537808   \n",
       "...         ...       ...       ...       ...       ...       ...       ...   \n",
       "69675  0.274508  0.278709  0.281516  0.278709  0.280123  0.281516  0.282910   \n",
       "69676  0.274508  0.274508  0.278709  0.281516  0.278709  0.280123  0.281516   \n",
       "69677  0.271701  0.274508  0.274508  0.278709  0.281516  0.278709  0.280123   \n",
       "69678  0.271701  0.271701  0.274508  0.274508  0.278709  0.281516  0.278709   \n",
       "69679  0.278709  0.271701  0.271701  0.274508  0.274508  0.278709  0.281516   \n",
       "\n",
       "           OT_7      OT_8      OT_9    HUFL_1    HULL_1    MUFL_1    MULL_1  \\\n",
       "20     0.572828  0.582643  0.621844  0.605921  0.485320  0.626693  0.470563   \n",
       "21     0.553217  0.572828  0.582643  0.608747  0.489505  0.627503  0.473154   \n",
       "22     0.512603  0.553217  0.572828  0.615811  0.502061  0.630697  0.478264   \n",
       "23     0.521004  0.512603  0.553217  0.620050  0.506247  0.633104  0.478264   \n",
       "24     0.511209  0.521004  0.512603  0.629940  0.510432  0.637895  0.488484   \n",
       "...         ...       ...       ...       ...       ...       ...       ...   \n",
       "69675  0.288524  0.291312  0.292725  0.676543  0.569028  0.706641  0.549878   \n",
       "69676  0.282910  0.288524  0.291312  0.686432  0.577399  0.715436  0.554988   \n",
       "69677  0.281516  0.282910  0.288524  0.703387  0.577399  0.732218  0.547359   \n",
       "69678  0.280123  0.281516  0.282910  0.717515  0.564843  0.750596  0.552469   \n",
       "69679  0.278709  0.280123  0.281516  0.735882  0.581584  0.762586  0.557579   \n",
       "\n",
       "         LUFL_1    LULL_1  \n",
       "20     0.534586  0.606973  \n",
       "21     0.540884  0.620783  \n",
       "22     0.559777  0.648177  \n",
       "23     0.569172  0.655196  \n",
       "24     0.603758  0.689608  \n",
       "...         ...       ...  \n",
       "69675  0.509395  0.648177  \n",
       "69676  0.521990  0.641386  \n",
       "69677  0.506298  0.641386  \n",
       "69678  0.509395  0.634594  \n",
       "69679  0.553479  0.655196  \n",
       "\n",
       "[69660 rows x 16 columns]"
      ]
     },
     "execution_count": 7,
     "metadata": {},
     "output_type": "execute_result"
    }
   ],
   "source": [
    "lagged_data = (lagged_data - lagged_data.min()) / ( lagged_data.max() - lagged_data.min())\n",
    "lagged_data"
   ]
  },
  {
   "cell_type": "code",
   "execution_count": 8,
   "metadata": {},
   "outputs": [
    {
     "name": "stderr",
     "output_type": "stream",
     "text": [
      "/home/dell/anaconda3/lib/python3.10/site-packages/tqdm/auto.py:21: TqdmWarning: IProgress not found. Please update jupyter and ipywidgets. See https://ipywidgets.readthedocs.io/en/stable/user_install.html\n",
      "  from .autonotebook import tqdm as notebook_tqdm\n"
     ]
    }
   ],
   "source": [
    "import torch\n",
    "import torch.nn as nn\n",
    "import torch.nn.functional as F\n",
    "import torch.optim as optim\n",
    "import torch.autograd as autograd\n",
    "from tqdm import tqdm\n",
    "from matplotlib import pyplot as plt\n",
    "import seaborn as sns"
   ]
  },
  {
   "cell_type": "code",
   "execution_count": 9,
   "metadata": {},
   "outputs": [],
   "source": [
    "class Mine(nn.Module):\n",
    "    def __init__(self, input_size = 2, hidden_size = 32):\n",
    "        super().__init__()\n",
    "        self.fc1 = nn.Linear(input_size, hidden_size)\n",
    "        self.fc2 = nn.Linear(hidden_size, hidden_size)\n",
    "        self.fc3 = nn.Linear(hidden_size, 1)\n",
    "        nn.init.normal_(self.fc1.weight,std=0.02)\n",
    "        nn.init.constant_(self.fc1.bias, 0)\n",
    "        nn.init.normal_(self.fc2.weight,std=0.02)\n",
    "        nn.init.constant_(self.fc2.bias, 0)\n",
    "        nn.init.normal_(self.fc3.weight,std=0.02)\n",
    "        nn.init.constant_(self.fc3.bias, 0)\n",
    "        \n",
    "    def forward(self, input):\n",
    "        output = F.relu(self.fc1(input))\n",
    "        output = F.relu(self.fc2(output))\n",
    "        output = self.fc3(output)\n",
    "        return output"
   ]
  },
  {
   "cell_type": "code",
   "execution_count": 10,
   "metadata": {},
   "outputs": [],
   "source": [
    "class Z_RNN(nn.Module):\n",
    "    def __init__(self, input_size = 2, hidden_size = 32, num_layers = 1, output_size = 2):\n",
    "        super(Z_RNN, self).__init__()\n",
    "\n",
    "        self.rnn = nn.RNN(\n",
    "            input_size = input_size,\n",
    "            hidden_size = hidden_size,     # rnn hidden unit\n",
    "            num_layers = num_layers,       # number of rnn layer\n",
    "            batch_first = True,   # input & output will has batch size as 1s dimension. e.g. (batch, time_step, input_size)\n",
    "        )\n",
    "        self.out = nn.Linear(hidden_size, output_size)\n",
    "\n",
    "    def forward(self, x, h_state):\n",
    "        r_out, h_state = self.rnn(x, h_state)\n",
    "        # print(r_out.shape)\n",
    "        # outs = []    # save all predictions\n",
    "        # for time_step in range(r_out.size(1)):    # calculate output for each time step\n",
    "        #     outs.append(self.out(r_out[:, time_step, :]))\n",
    "\n",
    "        # return torch.stack(outs, dim=1), h_state\n",
    "\n",
    "        outs = self.out(r_out)\n",
    "        return outs, h_state"
   ]
  },
  {
   "cell_type": "code",
   "execution_count": 11,
   "metadata": {},
   "outputs": [],
   "source": [
    "class Regressor(nn.Module):\n",
    "    def __init__(self, input_size = 2, hidden_size = 32):\n",
    "        super().__init__()\n",
    "        self.fc1 = nn.Linear(input_size, hidden_size)\n",
    "        self.fc2 = nn.Linear(hidden_size, hidden_size)\n",
    "        self.fc3 = nn.Linear(hidden_size, 1)\n",
    "        nn.init.normal_(self.fc1.weight,std=0.02)\n",
    "        nn.init.constant_(self.fc1.bias, 0)\n",
    "        nn.init.normal_(self.fc2.weight,std=0.02)\n",
    "        nn.init.constant_(self.fc2.bias, 0)\n",
    "        nn.init.normal_(self.fc3.weight,std=0.02)\n",
    "        nn.init.constant_(self.fc3.bias, 0)\n",
    "        \n",
    "    def forward(self, input):\n",
    "        output = F.relu(self.fc1(input))\n",
    "        output = F.relu(self.fc2(output))\n",
    "        output = self.fc3(output)\n",
    "        return output"
   ]
  },
  {
   "cell_type": "code",
   "execution_count": 12,
   "metadata": {},
   "outputs": [
    {
     "data": {
      "text/plain": [
       "(69660, 16)"
      ]
     },
     "execution_count": 12,
     "metadata": {},
     "output_type": "execute_result"
    }
   ],
   "source": [
    "data2 = lagged_data.copy()\n",
    "data = np.array(data2)\n",
    "data.shape"
   ]
  },
  {
   "cell_type": "code",
   "execution_count": 13,
   "metadata": {},
   "outputs": [],
   "source": [
    "train_proportion = 0.6\n",
    "valid_proportion = 0.2\n",
    "test_proportion = 0.2\n",
    "\n",
    "train_size = int(data.shape[0] * train_proportion)\n",
    "valid_size = int(data.shape[0] * valid_proportion)\n",
    "\n",
    "train_data = data[:train_size]\n",
    "valid_data = data[train_size:train_size+valid_size]\n",
    "test_data = data[train_size+valid_size:]\n",
    "\n",
    "batch_size = 20\n",
    "window_size = 400\n",
    "\n",
    "z_size = data.shape[1]"
   ]
  },
  {
   "cell_type": "code",
   "execution_count": 14,
   "metadata": {},
   "outputs": [],
   "source": [
    "# Z_spare = Z\n",
    "Z = np.load('results/ettm1_z.npy')"
   ]
  },
  {
   "cell_type": "code",
   "execution_count": 15,
   "metadata": {},
   "outputs": [],
   "source": [
    "train_Z = Z[:train_size]\n",
    "valid_Z = Z[train_size:train_size+valid_size]\n",
    "test_Z = Z[train_size+valid_size:]"
   ]
  },
  {
   "cell_type": "code",
   "execution_count": 16,
   "metadata": {},
   "outputs": [],
   "source": [
    "def mutual_information_explicit(joint_X, marginal_X, Y, mine_net):\n",
    "    t = mine_net( torch.cat((joint_X, Y), axis = 1) )\n",
    "    marginal_t = mine_net( torch.cat((marginal_X, Y), axis = 1) )\n",
    "\n",
    "    # Z, h_state = zrnn_net( torch.cat((joint_X[:-1, :], Y[:-1, :]), 1), h_state)\n",
    "    # t = mine_net( torch.cat((joint_X[1:, :], Y[1:, :], Z), axis = 1) )\n",
    "    # marginal_t = mine_net( torch.cat((marginal_X[1:, :], Y[1:, :], Z), axis = 1) )\n",
    "\n",
    "    et = torch.exp(marginal_t)\n",
    "    mi_lb = torch.mean(t) - torch.log(torch.mean(et))\n",
    "    return mi_lb, t, et\n",
    "\n",
    "def learn_mine_explicit(X, Y, mine_net, mine_net_optim, ma_et, ma_rate=0.01):\n",
    "    # batch is a tuple of (joint, marginal)\n",
    "    index = np.random.choice(range(X.shape[0]), size=X.shape[0], replace=False)\n",
    "    marginal_X = X[index]\n",
    "    X = torch.autograd.Variable(torch.FloatTensor(X)).cuda()\n",
    "    Y = torch.autograd.Variable(torch.FloatTensor(Y)).cuda()\n",
    "    marginal_X = torch.autograd.Variable(torch.FloatTensor(marginal_X)).cuda()\n",
    "\n",
    "    mi_lb, t, et = mutual_information_explicit(X, marginal_X, Y, mine_net)\n",
    "    ma_et = (1-ma_rate)*ma_et + ma_rate*torch.mean(et)\n",
    "    \n",
    "    # unbiasing use moving average\n",
    "    loss = -(torch.mean(t) - (1/ma_et.mean()).detach()*torch.mean(et))\n",
    "    # use biased estimator\n",
    "#     loss = - mi_lb\n",
    "    \n",
    "    mine_net_optim.zero_grad()\n",
    "    autograd.backward(loss)\n",
    "    mine_net_optim.step()\n",
    "    return mi_lb, ma_et, loss"
   ]
  },
  {
   "cell_type": "code",
   "execution_count": 17,
   "metadata": {},
   "outputs": [],
   "source": [
    "def train_explicit(data, mine_net, mine_net_optim, batch_size=100, iter_num=int(1e+3) , log_freq=int(1e+2)):\n",
    "# def train(data, mine_net, mine_net_optim, zrnn_net, zrnn_net_optim, h_state, batch_size=100, iter_num=3000, log_freq=int(1e+2)):\n",
    "    # data is x or y\n",
    "    result = list()\n",
    "    loss = list()\n",
    "    ma_et = 1.\n",
    "    for i in tqdm(range(iter_num)):\n",
    "        X = np.expand_dims(data[:, 0], 1)\n",
    "        Y = data[:, 1:]\n",
    "        # Y = np.expand_dims(data[:, 0], 1)\n",
    "        if Y.ndim == 1:\n",
    "            Y = np.expand_dims(Y, 1)\n",
    "\n",
    "        mi_lb, ma_et, l = learn_mine_explicit(X, Y, mine_net, mine_net_optim, ma_et)\n",
    "        # if (i+1)%(10)==0:\n",
    "        result.append(mi_lb.detach().cpu().numpy())\n",
    "        loss.append(l.detach().cpu().numpy())\n",
    "        if (i+1)%(log_freq)==0:\n",
    "            print(result[-1])\n",
    "    return result, loss"
   ]
  },
  {
   "cell_type": "code",
   "execution_count": 18,
   "metadata": {},
   "outputs": [
    {
     "name": "stderr",
     "output_type": "stream",
     "text": [
      " 10%|█         | 10006/100000 [02:48<26:07, 57.42it/s]"
     ]
    },
    {
     "name": "stdout",
     "output_type": "stream",
     "text": [
      "2.8719423\n"
     ]
    },
    {
     "name": "stderr",
     "output_type": "stream",
     "text": [
      " 20%|██        | 20011/100000 [05:36<22:25, 59.47it/s]"
     ]
    },
    {
     "name": "stdout",
     "output_type": "stream",
     "text": [
      "2.9555275\n"
     ]
    },
    {
     "name": "stderr",
     "output_type": "stream",
     "text": [
      " 29%|██▉       | 29343/100000 [08:17<19:58, 58.94it/s]\n"
     ]
    },
    {
     "ename": "KeyboardInterrupt",
     "evalue": "",
     "output_type": "error",
     "traceback": [
      "\u001b[0;31m---------------------------------------------------------------------------\u001b[0m",
      "\u001b[0;31mKeyboardInterrupt\u001b[0m                         Traceback (most recent call last)",
      "\u001b[1;32m/home/dell/桌面/TCDF-copy/Recurrenttoy0+FindingResultMI.ipynb Cell 28\u001b[0m line \u001b[0;36m3\n\u001b[1;32m      <a href='vscode-notebook-cell:/home/dell/%E6%A1%8C%E9%9D%A2/TCDF-copy/Recurrenttoy0%2BFindingResultMI.ipynb#X36sZmlsZQ%3D%3D?line=0'>1</a>\u001b[0m mine_net_explicit \u001b[39m=\u001b[39m Mine(input_size \u001b[39m=\u001b[39m data\u001b[39m.\u001b[39mshape[\u001b[39m1\u001b[39m], hidden_size \u001b[39m=\u001b[39m \u001b[39m512\u001b[39m)\u001b[39m.\u001b[39mcuda()\n\u001b[1;32m      <a href='vscode-notebook-cell:/home/dell/%E6%A1%8C%E9%9D%A2/TCDF-copy/Recurrenttoy0%2BFindingResultMI.ipynb#X36sZmlsZQ%3D%3D?line=1'>2</a>\u001b[0m mine_net_explicit_optim \u001b[39m=\u001b[39m optim\u001b[39m.\u001b[39mAdam(mine_net_explicit\u001b[39m.\u001b[39mparameters(), lr\u001b[39m=\u001b[39m\u001b[39m1e-3\u001b[39m, weight_decay \u001b[39m=\u001b[39m \u001b[39m1e-5\u001b[39m)\n\u001b[0;32m----> <a href='vscode-notebook-cell:/home/dell/%E6%A1%8C%E9%9D%A2/TCDF-copy/Recurrenttoy0%2BFindingResultMI.ipynb#X36sZmlsZQ%3D%3D?line=2'>3</a>\u001b[0m result_explicit \u001b[39m=\u001b[39m train_explicit(train_data, mine_net_explicit, mine_net_explicit_optim, batch_size\u001b[39m=\u001b[39;49m\u001b[39m2000\u001b[39;49m, iter_num\u001b[39m=\u001b[39;49m\u001b[39mint\u001b[39;49m(\u001b[39m1e+5\u001b[39;49m), log_freq\u001b[39m=\u001b[39;49m\u001b[39mint\u001b[39;49m(\u001b[39m1e+4\u001b[39;49m))\n",
      "\u001b[1;32m/home/dell/桌面/TCDF-copy/Recurrenttoy0+FindingResultMI.ipynb Cell 28\u001b[0m line \u001b[0;36m1\n\u001b[1;32m     <a href='vscode-notebook-cell:/home/dell/%E6%A1%8C%E9%9D%A2/TCDF-copy/Recurrenttoy0%2BFindingResultMI.ipynb#X36sZmlsZQ%3D%3D?line=10'>11</a>\u001b[0m \u001b[39mif\u001b[39;00m Y\u001b[39m.\u001b[39mndim \u001b[39m==\u001b[39m \u001b[39m1\u001b[39m:\n\u001b[1;32m     <a href='vscode-notebook-cell:/home/dell/%E6%A1%8C%E9%9D%A2/TCDF-copy/Recurrenttoy0%2BFindingResultMI.ipynb#X36sZmlsZQ%3D%3D?line=11'>12</a>\u001b[0m     Y \u001b[39m=\u001b[39m np\u001b[39m.\u001b[39mexpand_dims(Y, \u001b[39m1\u001b[39m)\n\u001b[0;32m---> <a href='vscode-notebook-cell:/home/dell/%E6%A1%8C%E9%9D%A2/TCDF-copy/Recurrenttoy0%2BFindingResultMI.ipynb#X36sZmlsZQ%3D%3D?line=13'>14</a>\u001b[0m mi_lb, ma_et, l \u001b[39m=\u001b[39m learn_mine_explicit(X, Y, mine_net, mine_net_optim, ma_et)\n\u001b[1;32m     <a href='vscode-notebook-cell:/home/dell/%E6%A1%8C%E9%9D%A2/TCDF-copy/Recurrenttoy0%2BFindingResultMI.ipynb#X36sZmlsZQ%3D%3D?line=14'>15</a>\u001b[0m \u001b[39m# if (i+1)%(10)==0:\u001b[39;00m\n\u001b[1;32m     <a href='vscode-notebook-cell:/home/dell/%E6%A1%8C%E9%9D%A2/TCDF-copy/Recurrenttoy0%2BFindingResultMI.ipynb#X36sZmlsZQ%3D%3D?line=15'>16</a>\u001b[0m result\u001b[39m.\u001b[39mappend(mi_lb\u001b[39m.\u001b[39mdetach()\u001b[39m.\u001b[39mcpu()\u001b[39m.\u001b[39mnumpy())\n",
      "\u001b[1;32m/home/dell/桌面/TCDF-copy/Recurrenttoy0+FindingResultMI.ipynb Cell 28\u001b[0m line \u001b[0;36m1\n\u001b[1;32m     <a href='vscode-notebook-cell:/home/dell/%E6%A1%8C%E9%9D%A2/TCDF-copy/Recurrenttoy0%2BFindingResultMI.ipynb#X36sZmlsZQ%3D%3D?line=14'>15</a>\u001b[0m index \u001b[39m=\u001b[39m np\u001b[39m.\u001b[39mrandom\u001b[39m.\u001b[39mchoice(\u001b[39mrange\u001b[39m(X\u001b[39m.\u001b[39mshape[\u001b[39m0\u001b[39m]), size\u001b[39m=\u001b[39mX\u001b[39m.\u001b[39mshape[\u001b[39m0\u001b[39m], replace\u001b[39m=\u001b[39m\u001b[39mFalse\u001b[39;00m)\n\u001b[1;32m     <a href='vscode-notebook-cell:/home/dell/%E6%A1%8C%E9%9D%A2/TCDF-copy/Recurrenttoy0%2BFindingResultMI.ipynb#X36sZmlsZQ%3D%3D?line=15'>16</a>\u001b[0m marginal_X \u001b[39m=\u001b[39m X[index]\n\u001b[0;32m---> <a href='vscode-notebook-cell:/home/dell/%E6%A1%8C%E9%9D%A2/TCDF-copy/Recurrenttoy0%2BFindingResultMI.ipynb#X36sZmlsZQ%3D%3D?line=16'>17</a>\u001b[0m X \u001b[39m=\u001b[39m torch\u001b[39m.\u001b[39mautograd\u001b[39m.\u001b[39mVariable(torch\u001b[39m.\u001b[39;49mFloatTensor(X))\u001b[39m.\u001b[39mcuda()\n\u001b[1;32m     <a href='vscode-notebook-cell:/home/dell/%E6%A1%8C%E9%9D%A2/TCDF-copy/Recurrenttoy0%2BFindingResultMI.ipynb#X36sZmlsZQ%3D%3D?line=17'>18</a>\u001b[0m Y \u001b[39m=\u001b[39m torch\u001b[39m.\u001b[39mautograd\u001b[39m.\u001b[39mVariable(torch\u001b[39m.\u001b[39mFloatTensor(Y))\u001b[39m.\u001b[39mcuda()\n\u001b[1;32m     <a href='vscode-notebook-cell:/home/dell/%E6%A1%8C%E9%9D%A2/TCDF-copy/Recurrenttoy0%2BFindingResultMI.ipynb#X36sZmlsZQ%3D%3D?line=18'>19</a>\u001b[0m marginal_X \u001b[39m=\u001b[39m torch\u001b[39m.\u001b[39mautograd\u001b[39m.\u001b[39mVariable(torch\u001b[39m.\u001b[39mFloatTensor(marginal_X))\u001b[39m.\u001b[39mcuda()\n",
      "\u001b[0;31mKeyboardInterrupt\u001b[0m: "
     ]
    }
   ],
   "source": [
    "mine_net_explicit = Mine(input_size = data.shape[1], hidden_size = 512).cuda()\n",
    "mine_net_explicit_optim = optim.Adam(mine_net_explicit.parameters(), lr=1e-3, weight_decay = 1e-5)\n",
    "result_explicit = train_explicit(train_data, mine_net_explicit, mine_net_explicit_optim, batch_size=2000, iter_num=int(1e+5), log_freq=int(1e+4))"
   ]
  },
  {
   "cell_type": "code",
   "execution_count": null,
   "metadata": {},
   "outputs": [
    {
     "name": "stderr",
     "output_type": "stream",
     "text": [
      " 10%|█         | 10026/100000 [00:59<08:58, 167.21it/s]"
     ]
    },
    {
     "name": "stdout",
     "output_type": "stream",
     "text": [
      "3.1845326\n"
     ]
    },
    {
     "name": "stderr",
     "output_type": "stream",
     "text": [
      " 20%|██        | 20031/100000 [01:58<07:51, 169.62it/s]"
     ]
    },
    {
     "name": "stdout",
     "output_type": "stream",
     "text": [
      "3.1655667\n"
     ]
    },
    {
     "name": "stderr",
     "output_type": "stream",
     "text": [
      " 30%|███       | 30028/100000 [02:57<06:52, 169.43it/s]"
     ]
    },
    {
     "name": "stdout",
     "output_type": "stream",
     "text": [
      "3.2866392\n"
     ]
    },
    {
     "name": "stderr",
     "output_type": "stream",
     "text": [
      " 40%|████      | 40021/100000 [03:56<05:48, 172.01it/s]"
     ]
    },
    {
     "name": "stdout",
     "output_type": "stream",
     "text": [
      "3.2627819\n"
     ]
    },
    {
     "name": "stderr",
     "output_type": "stream",
     "text": [
      " 50%|█████     | 50019/100000 [04:56<05:04, 163.94it/s]"
     ]
    },
    {
     "name": "stdout",
     "output_type": "stream",
     "text": [
      "3.3239322\n"
     ]
    },
    {
     "name": "stderr",
     "output_type": "stream",
     "text": [
      " 60%|██████    | 60017/100000 [05:55<03:50, 173.46it/s]"
     ]
    },
    {
     "name": "stdout",
     "output_type": "stream",
     "text": [
      "3.2119262\n"
     ]
    },
    {
     "name": "stderr",
     "output_type": "stream",
     "text": [
      " 70%|███████   | 70019/100000 [06:55<02:55, 170.69it/s]"
     ]
    },
    {
     "name": "stdout",
     "output_type": "stream",
     "text": [
      "3.298956\n"
     ]
    },
    {
     "name": "stderr",
     "output_type": "stream",
     "text": [
      " 80%|████████  | 80024/100000 [07:54<01:54, 174.38it/s]"
     ]
    },
    {
     "name": "stdout",
     "output_type": "stream",
     "text": [
      "3.3584268\n"
     ]
    },
    {
     "name": "stderr",
     "output_type": "stream",
     "text": [
      " 90%|█████████ | 90034/100000 [08:53<00:56, 177.66it/s]"
     ]
    },
    {
     "name": "stdout",
     "output_type": "stream",
     "text": [
      "3.3387184\n"
     ]
    },
    {
     "name": "stderr",
     "output_type": "stream",
     "text": [
      "100%|██████████| 100000/100000 [09:51<00:00, 169.01it/s]\n"
     ]
    },
    {
     "name": "stdout",
     "output_type": "stream",
     "text": [
      "3.3866715\n"
     ]
    }
   ],
   "source": [
    "mine_net_explicit_plus_Z = Mine(input_size = data.shape[1]+z_size+1, hidden_size = 512).cuda()\n",
    "mine_net_explicit_plus_Z_optim = optim.Adam(mine_net_explicit_plus_Z.parameters(),\n",
    "                                            lr=1e-3, weight_decay = 1e-5)\n",
    "result_explicit_plus_Z = train_explicit(np.concatenate((train_data, train_Z), axis=1),\n",
    "                                        mine_net_explicit_plus_Z, mine_net_explicit_plus_Z_optim,\n",
    "                                        batch_size=2000, iter_num=int(1e+5), log_freq=int(1e+4))"
   ]
  },
  {
   "cell_type": "code",
   "execution_count": null,
   "metadata": {},
   "outputs": [
    {
     "data": {
      "text/plain": [
       "[<matplotlib.lines.Line2D at 0x7f0b2927d5d0>]"
      ]
     },
     "execution_count": 20,
     "metadata": {},
     "output_type": "execute_result"
    },
    {
     "data": {
      "image/png": "[encoded data removed]",
      "text/plain": [
       "<Figure size 640x480 with 1 Axes>"
      ]
     },
     "metadata": {},
     "output_type": "display_data"
    }
   ],
   "source": [
    "plt.plot(result_explicit_plus_Z[0])\n",
    "plt.plot(result_explicit[0])"
   ]
  },
  {
   "cell_type": "code",
   "execution_count": null,
   "metadata": {},
   "outputs": [
    {
     "name": "stderr",
     "output_type": "stream",
     "text": [
      " 10%|█         | 10026/100000 [01:01<07:55, 189.13it/s]"
     ]
    },
    {
     "name": "stdout",
     "output_type": "stream",
     "text": [
      "4.645953\n"
     ]
    },
    {
     "name": "stderr",
     "output_type": "stream",
     "text": [
      " 20%|██        | 20033/100000 [01:58<07:36, 175.29it/s]"
     ]
    },
    {
     "name": "stdout",
     "output_type": "stream",
     "text": [
      "4.570541\n"
     ]
    },
    {
     "name": "stderr",
     "output_type": "stream",
     "text": [
      " 30%|███       | 30019/100000 [02:54<06:45, 172.76it/s]"
     ]
    },
    {
     "name": "stdout",
     "output_type": "stream",
     "text": [
      "5.2976465\n"
     ]
    },
    {
     "name": "stderr",
     "output_type": "stream",
     "text": [
      " 40%|████      | 40030/100000 [03:51<06:16, 159.43it/s]"
     ]
    },
    {
     "name": "stdout",
     "output_type": "stream",
     "text": [
      "5.3081937\n"
     ]
    },
    {
     "name": "stderr",
     "output_type": "stream",
     "text": [
      " 50%|█████     | 50032/100000 [04:50<04:49, 172.86it/s]"
     ]
    },
    {
     "name": "stdout",
     "output_type": "stream",
     "text": [
      "4.532874\n"
     ]
    },
    {
     "name": "stderr",
     "output_type": "stream",
     "text": [
      " 60%|██████    | 60025/100000 [05:50<04:05, 163.01it/s]"
     ]
    },
    {
     "name": "stdout",
     "output_type": "stream",
     "text": [
      "5.674264\n"
     ]
    },
    {
     "name": "stderr",
     "output_type": "stream",
     "text": [
      " 70%|███████   | 70020/100000 [06:49<02:59, 166.65it/s]"
     ]
    },
    {
     "name": "stdout",
     "output_type": "stream",
     "text": [
      "5.5212317\n"
     ]
    },
    {
     "name": "stderr",
     "output_type": "stream",
     "text": [
      " 80%|████████  | 80017/100000 [07:48<02:00, 166.13it/s]"
     ]
    },
    {
     "name": "stdout",
     "output_type": "stream",
     "text": [
      "4.833047\n"
     ]
    },
    {
     "name": "stderr",
     "output_type": "stream",
     "text": [
      " 90%|█████████ | 90018/100000 [08:48<01:02, 159.61it/s]"
     ]
    },
    {
     "name": "stdout",
     "output_type": "stream",
     "text": [
      "5.5165496\n"
     ]
    },
    {
     "name": "stderr",
     "output_type": "stream",
     "text": [
      "100%|██████████| 100000/100000 [09:47<00:00, 170.17it/s]\n"
     ]
    },
    {
     "name": "stdout",
     "output_type": "stream",
     "text": [
      "5.8096013\n"
     ]
    }
   ],
   "source": [
    "# mine_net_explicit = Mine(input_size = data.shape[1]) #.cuda()\n",
    "mine_net_explicit = Mine(input_size = 2).cuda()\n",
    "mine_net_explicit_optim = optim.Adam(mine_net_explicit.parameters(), lr=1e-3, weight_decay = 1e-5)\n",
    "result_entropy = train_explicit(np.concatenate((np.expand_dims(train_data[:, 0], 1), (np.expand_dims(train_data[:, 0], 1))), 1), mine_net_explicit, mine_net_explicit_optim, batch_size=2000, iter_num=int(1e+5), log_freq=int(1e+4))"
   ]
  },
  {
   "cell_type": "code",
   "execution_count": null,
   "metadata": {},
   "outputs": [
    {
     "name": "stderr",
     "output_type": "stream",
     "text": [
      "  0%|          | 0/30000 [00:00<?, ?it/s]/tmp/ipykernel_1186756/508745452.py:19: UserWarning: torch.nn.utils.clip_grad_norm is now deprecated in favor of torch.nn.utils.clip_grad_norm_.\n",
      "  nn.utils.clip_grad_norm(regr_net.parameters(), max_norm=0.001, norm_type=2)\n",
      "100%|██████████| 30000/30000 [04:41<00:00, 106.43it/s]\n"
     ]
    }
   ],
   "source": [
    "def train_reg_withoutZ(data, regr_net, regr_net_optim, window_size, iter_num = 5000):\n",
    "    X = np.expand_dims(data[:, 0], 1)\n",
    "    Y = data[:, 1:]\n",
    "    X = torch.autograd.Variable(torch.FloatTensor(X)).cuda()\n",
    "    Y = torch.autograd.Variable(torch.FloatTensor(Y)).cuda()\n",
    "    pivot = np.random.randint(X.shape[0]-window_size)\n",
    "    X = X[pivot:pivot+window_size]\n",
    "    Y = Y[pivot:pivot+window_size]\n",
    "\n",
    "    loss_array = []\n",
    "    for _ in tqdm(range(iter_num)):\n",
    "        h_state = None\n",
    "        # X_pred = regr_net(Y)\n",
    "        X_pred, h_state = regr_net(Y, h_state)\n",
    "        mseloss = torch.nn.MSELoss(reduction = 'sum')\n",
    "        loss = mseloss(X_pred, X)\n",
    "        regr_net_optim.zero_grad()\n",
    "        autograd.backward(loss)\n",
    "        nn.utils.clip_grad_norm(regr_net.parameters(), max_norm=0.001, norm_type=2)\n",
    "        regr_net_optim.step()\n",
    "        loss_array.append(loss.detach().cpu().numpy())\n",
    "    \n",
    "    return loss_array, X_pred.detach().cpu().numpy()\n",
    "\n",
    "# regr_net_without_Z = Regressor(input_size = data.shape[1]-1, hidden_size = data.shape[1] * 4).cuda()\n",
    "regr_net_without_Z = Z_RNN(input_size = train_data.shape[1]-1, hidden_size = train_data.shape[1]*4, num_layers = 2, output_size = 1).cuda()\n",
    "regr_net_without_Z_optim = optim.Adam(regr_net_without_Z.parameters(), lr = 5e-4, weight_decay = 1e-5)\n",
    "loss_array, train_X_pred_without_Z = train_reg_withoutZ(train_data, regr_net_without_Z, regr_net_without_Z_optim, window_size, iter_num = 30000)\n"
   ]
  },
  {
   "cell_type": "code",
   "execution_count": null,
   "metadata": {},
   "outputs": [
    {
     "data": {
      "text/plain": [
       "array([[0.47384197],\n",
       "       [0.45519075],\n",
       "       [0.45290926],\n",
       "       ...,\n",
       "       [0.4363702 ],\n",
       "       [0.42285675],\n",
       "       [0.4048991 ]], dtype=float32)"
      ]
     },
     "execution_count": 28,
     "metadata": {},
     "output_type": "execute_result"
    }
   ],
   "source": [
    "train_Y = train_data[:, 1:]\n",
    "train_Y = torch.autograd.Variable(torch.FloatTensor(train_Y)).cuda()\n",
    "\n",
    "h_state = None\n",
    "train_X_pred, h_state = regr_net_without_Z(train_Y, h_state)\n",
    "train_X_pred = train_X_pred.detach().cpu().numpy()\n",
    "train_X_pred"
   ]
  },
  {
   "cell_type": "code",
   "execution_count": 24,
   "metadata": {},
   "outputs": [
    {
     "ename": "NameError",
     "evalue": "name 'train_X_pred' is not defined",
     "output_type": "error",
     "traceback": [
      "\u001b[0;31m---------------------------------------------------------------------------\u001b[0m",
      "\u001b[0;31mNameError\u001b[0m                                 Traceback (most recent call last)",
      "\u001b[1;32m/home/dell/桌面/TCDF-copy/Recurrenttoy0+FindingResultMI.ipynb Cell 34\u001b[0m line \u001b[0;36m3\n\u001b[1;32m      <a href='vscode-notebook-cell:/home/dell/%E6%A1%8C%E9%9D%A2/TCDF-copy/Recurrenttoy0%2BFindingResultMI.ipynb#X53sZmlsZQ%3D%3D?line=0'>1</a>\u001b[0m mine_net_explicit \u001b[39m=\u001b[39m Mine(input_size \u001b[39m=\u001b[39m \u001b[39m2\u001b[39m)\u001b[39m.\u001b[39mcuda()\n\u001b[1;32m      <a href='vscode-notebook-cell:/home/dell/%E6%A1%8C%E9%9D%A2/TCDF-copy/Recurrenttoy0%2BFindingResultMI.ipynb#X53sZmlsZQ%3D%3D?line=1'>2</a>\u001b[0m mine_net_explicit_optim \u001b[39m=\u001b[39m optim\u001b[39m.\u001b[39mAdam(mine_net_explicit\u001b[39m.\u001b[39mparameters(), lr\u001b[39m=\u001b[39m\u001b[39m1e-3\u001b[39m, weight_decay \u001b[39m=\u001b[39m \u001b[39m1e-5\u001b[39m)\n\u001b[0;32m----> <a href='vscode-notebook-cell:/home/dell/%E6%A1%8C%E9%9D%A2/TCDF-copy/Recurrenttoy0%2BFindingResultMI.ipynb#X53sZmlsZQ%3D%3D?line=2'>3</a>\u001b[0m result_pretrainX \u001b[39m=\u001b[39m train_explicit(np\u001b[39m.\u001b[39mconcatenate((np\u001b[39m.\u001b[39mexpand_dims(train_data[:, \u001b[39m0\u001b[39m], \u001b[39m1\u001b[39m), train_X_pred), \u001b[39m1\u001b[39m), mine_net_explicit, mine_net_explicit_optim, batch_size\u001b[39m=\u001b[39m\u001b[39m2000\u001b[39m, iter_num\u001b[39m=\u001b[39m\u001b[39mint\u001b[39m(\u001b[39m1e+5\u001b[39m), log_freq\u001b[39m=\u001b[39m\u001b[39mint\u001b[39m(\u001b[39m1e+4\u001b[39m))\n",
      "\u001b[0;31mNameError\u001b[0m: name 'train_X_pred' is not defined"
     ]
    }
   ],
   "source": [
    "mine_net_explicit = Mine(input_size = 2).cuda()\n",
    "mine_net_explicit_optim = optim.Adam(mine_net_explicit.parameters(), lr=1e-3, weight_decay = 1e-5)\n",
    "result_pretrainX = train_explicit(np.concatenate((np.expand_dims(train_data[:, 0], 1), train_X_pred), 1), mine_net_explicit, mine_net_explicit_optim, batch_size=2000, iter_num=int(1e+5), log_freq=int(1e+4))"
   ]
  },
  {
   "cell_type": "code",
   "execution_count": 21,
   "metadata": {},
   "outputs": [
    {
     "name": "stdout",
     "output_type": "stream",
     "text": [
      "Explicit: 3.4729977\n",
      "Explicit+Z: 3.586423\n"
     ]
    }
   ],
   "source": [
    "# print('Pretrain:', np.max(result_pretrainX[0]))\n",
    "print('Explicit:', np.max(result_explicit[0]))\n",
    "print('Explicit+Z:', np.max(result_explicit_plus_Z[0]))\n",
    "# print('Entropy:', np.max(result_entropy[0]))"
   ]
  },
  {
   "cell_type": "code",
   "execution_count": 148,
   "metadata": {},
   "outputs": [
    {
     "data": {
      "text/plain": [
       "[<matplotlib.lines.Line2D at 0x7f272e28afe0>]"
      ]
     },
     "execution_count": 148,
     "metadata": {},
     "output_type": "execute_result"
    },
    {
     "data": {
      "image/png": "[encoded data removed]",
      "text/plain": [
       "<Figure size 640x480 with 1 Axes>"
      ]
     },
     "metadata": {},
     "output_type": "display_data"
    }
   ],
   "source": [
    "# plt.plot(result)\n",
    "plt.plot(result_entropy[0])\n",
    "# plt.plot(result_explicit_plus_Z[0])\n",
    "# plt.plot(result_explicit[0])\n",
    "# plt.plot(result_pretrainX[0])\n",
    "# plt.plot(result_explicit[0])"
   ]
  },
  {
   "cell_type": "code",
   "execution_count": 138,
   "metadata": {},
   "outputs": [
    {
     "data": {
      "text/plain": [
       "<matplotlib.lines.Line2D at 0x7f278ab76350>"
      ]
     },
     "execution_count": 138,
     "metadata": {},
     "output_type": "execute_result"
    },
    {
     "data": {
      "image/png": "[encoded data removed]",
      "text/plain": [
       "<Figure size 640x480 with 1 Axes>"
      ]
     },
     "metadata": {},
     "output_type": "display_data"
    }
   ],
   "source": [
    "plt.plot(result)\n",
    "plt.axhline(np.max(result_pretrainX[0]))\n",
    "plt.axhline(np.max(result_explicit[0]))\n",
    "plt.axhline(np.max(result_explicit_plus_Z[0]))\n",
    "plt.axhline(np.max(result_entropy[0]))"
   ]
  },
  {
   "cell_type": "code",
   "execution_count": null,
   "metadata": {},
   "outputs": [
    {
     "data": {
      "text/plain": [
       "(2.8290417, 2.6582675, 6.891037)"
      ]
     },
     "metadata": {},
     "output_type": "display_data"
    }
   ],
   "source": [
    "np.max(result_explicit_plus_Z[0]), np.max(result_explicit[0]), np.max(result_entropy)"
   ]
  },
  {
   "cell_type": "code",
   "execution_count": null,
   "metadata": {},
   "outputs": [],
   "source": []
  }
 ],
 "metadata": {
  "kernelspec": {
   "display_name": "base",
   "language": "python",
   "name": "python3"
  },
  "language_info": {
   "codemirror_mode": {
    "name": "ipython",
    "version": 3
   },
   "file_extension": ".py",
   "mimetype": "text/x-python",
   "name": "python",
   "nbconvert_exporter": "python",
   "pygments_lexer": "ipython3",
   "version": "3.10.12"
  },
  "orig_nbformat": 4
 },
 "nbformat": 4,
 "nbformat_minor": 2
}
