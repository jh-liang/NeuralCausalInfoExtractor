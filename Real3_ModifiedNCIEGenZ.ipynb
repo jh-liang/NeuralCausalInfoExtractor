{
 "cells": [
  {
   "cell_type": "code",
   "execution_count": 1,
   "metadata": {},
   "outputs": [],
   "source": [
    "import pandas as pd\n",
    "import numpy as np\n",
    "import matplotlib.pyplot as plt"
   ]
  },
  {
   "cell_type": "code",
   "execution_count": 53,
   "metadata": {},
   "outputs": [],
   "source": [
    "etth1data = pd.read_csv('dataset/ETT-small/ETTh1.csv')\n",
    "etth1data = etth1data.drop('date', axis=1)\n",
    "target = etth1data.pop('OT')\n",
    "etth1data.insert(0, 'OT', target)\n",
    "data1 = etth1data\n",
    "# pcmci_result = np.array([8, -1, 10, -1, 11,  4, 16, 20, 14, -1, 19, 13, -1,  9, 13,  7, 10,\n",
    "#                             -1, 17, 17,  3, 16,  0, 16, 13])\n",
    "pcmci_result = np.array([1, 1, 3, 1, 3, 2, 1]).astype(int)"
   ]
  },
  {
   "cell_type": "code",
   "execution_count": 37,
   "metadata": {},
   "outputs": [],
   "source": [
    "etth2data = pd.read_csv('dataset/ETT-small/ETTh2.csv')\n",
    "etth2data = etth2data.drop('date', axis=1)\n",
    "target = etth2data.pop('OT')\n",
    "etth2data.insert(0, 'OT', target)\n",
    "data1 = etth2data\n",
    "pcmci_result = np.array([1, 1, 1, 1, 1, 1, 1]).astype(int)"
   ]
  },
  {
   "cell_type": "code",
   "execution_count": 9,
   "metadata": {},
   "outputs": [],
   "source": [
    "ettm1data = pd.read_csv('dataset/ETT-small/ETTm1.csv')\n",
    "ettm1data = ettm1data.drop('date', axis=1)\n",
    "target = ettm1data.pop('OT')\n",
    "ettm1data.insert(0, 'OT', target)\n",
    "data1 = ettm1data\n",
    "pcmci_result = np.array([1, 1, 1, 1, 1, 1, 1]).astype(int)"
   ]
  },
  {
   "cell_type": "code",
   "execution_count": 10,
   "metadata": {},
   "outputs": [],
   "source": [
    "ettm2data = pd.read_csv('dataset/ETT-small/ETTm2.csv')\n",
    "ettm2data = ettm2data.drop('date', axis=1)\n",
    "target = ettm2data.pop('OT')\n",
    "ettm2data.insert(0, 'OT', target)\n",
    "data1 = ettm2data\n",
    "pcmci_result = np.array([1, 1, 1, 1, 1, 1, 1]).astype(int)"
   ]
  },
  {
   "cell_type": "code",
   "execution_count": 2,
   "metadata": {},
   "outputs": [],
   "source": [
    "exchangedata = pd.read_csv('dataset/exchange_rate/exchange_rate.csv')\n",
    "exchangedata = exchangedata.drop('date', axis=1)\n",
    "target = exchangedata.pop('OT')\n",
    "exchangedata.insert(0, 'OT', target)\n",
    "data1 = exchangedata\n",
    "pcmci_result = np.array([1, -1, 3, 5, 3, -1, 1, 1]).astype(int)"
   ]
  },
  {
   "cell_type": "code",
   "execution_count": 37,
   "metadata": {},
   "outputs": [],
   "source": [
    "metrodata = pd.read_csv('dataset/Metro_Interstate_Traffic_Volume.csv').drop(['weather_description', 'date_time'], axis=1)\n",
    "target = metrodata.pop('traffic_volume')\n",
    "metrodata.insert(0, 'OT', target)\n",
    "metrodata.loc[metrodata['holiday'] == 'None', 'holiday'] = 0\n",
    "metrodata.loc[metrodata['holiday'] != 0, 'holiday'] = 1\n",
    "metrodata['holiday'] = metrodata['holiday'].astype('int64')\n",
    "metrodata['weather_main'] = metrodata['weather_main'].map({'Clouds':0. , 'Clear':1., 'Rain':2., 'Drizzle':3., 'Mist':4., 'Haze':5., 'Fog':6.,\n",
    "                                                            'Thunderstorm':7., 'Snow':8., 'Squall':9., 'Smoke':10.})\n",
    "data1 = metrodata\n",
    "pcmci_result = np.array([1, 1, 1, 1, 1, 1, 1]).astype(int)"
   ]
  },
  {
   "cell_type": "code",
   "execution_count": 2,
   "metadata": {},
   "outputs": [],
   "source": [
    "pmdata = pd.read_csv('dataset/beijing_air.csv')\n",
    "pmdata['date'] = pd.to_datetime(pmdata['date'])\n",
    "pmdata['year'] = pmdata['date'].apply(lambda x:x.year)\n",
    "pmdata['month'] = pmdata['date'].apply(lambda x:x.month)\n",
    "pmdata['day'] = pmdata['date'].apply(lambda x:x.day)\n",
    "pmdata['hour'] = pmdata['date'].apply(lambda x:x.hour)\n",
    "pmdata = pmdata.drop(['date', 'wnd_dir'], axis=1)\n",
    "pmdata.dtypes\n",
    "\n",
    "data1 = pmdata\n",
    "pcmci_result = np.array([1, 1, 2, 1, 1, 1, 1, 1, 1, 1, 1]).astype(int)"
   ]
  },
  {
   "cell_type": "code",
   "execution_count": 3,
   "metadata": {},
   "outputs": [
    {
     "data": {
      "text/html": [
       "<div>\n",
       "<style scoped>\n",
       "    .dataframe tbody tr th:only-of-type {\n",
       "        vertical-align: middle;\n",
       "    }\n",
       "\n",
       "    .dataframe tbody tr th {\n",
       "        vertical-align: top;\n",
       "    }\n",
       "\n",
       "    .dataframe thead th {\n",
       "        text-align: right;\n",
       "    }\n",
       "</style>\n",
       "<table border=\"1\" class=\"dataframe\">\n",
       "  <thead>\n",
       "    <tr style=\"text-align: right;\">\n",
       "      <th></th>\n",
       "      <th>pollution</th>\n",
       "      <th>dew</th>\n",
       "      <th>temp</th>\n",
       "      <th>press</th>\n",
       "      <th>wnd_spd</th>\n",
       "      <th>snow</th>\n",
       "      <th>rain</th>\n",
       "      <th>year</th>\n",
       "      <th>month</th>\n",
       "      <th>day</th>\n",
       "      <th>hour</th>\n",
       "    </tr>\n",
       "  </thead>\n",
       "  <tbody>\n",
       "    <tr>\n",
       "      <th>0</th>\n",
       "      <td>129.0</td>\n",
       "      <td>-16</td>\n",
       "      <td>-4.0</td>\n",
       "      <td>1020.0</td>\n",
       "      <td>1.79</td>\n",
       "      <td>0</td>\n",
       "      <td>0</td>\n",
       "      <td>2010</td>\n",
       "      <td>1</td>\n",
       "      <td>2</td>\n",
       "      <td>0</td>\n",
       "    </tr>\n",
       "    <tr>\n",
       "      <th>1</th>\n",
       "      <td>148.0</td>\n",
       "      <td>-15</td>\n",
       "      <td>-4.0</td>\n",
       "      <td>1020.0</td>\n",
       "      <td>2.68</td>\n",
       "      <td>0</td>\n",
       "      <td>0</td>\n",
       "      <td>2010</td>\n",
       "      <td>1</td>\n",
       "      <td>2</td>\n",
       "      <td>1</td>\n",
       "    </tr>\n",
       "    <tr>\n",
       "      <th>2</th>\n",
       "      <td>159.0</td>\n",
       "      <td>-11</td>\n",
       "      <td>-5.0</td>\n",
       "      <td>1021.0</td>\n",
       "      <td>3.57</td>\n",
       "      <td>0</td>\n",
       "      <td>0</td>\n",
       "      <td>2010</td>\n",
       "      <td>1</td>\n",
       "      <td>2</td>\n",
       "      <td>2</td>\n",
       "    </tr>\n",
       "    <tr>\n",
       "      <th>3</th>\n",
       "      <td>181.0</td>\n",
       "      <td>-7</td>\n",
       "      <td>-5.0</td>\n",
       "      <td>1022.0</td>\n",
       "      <td>5.36</td>\n",
       "      <td>1</td>\n",
       "      <td>0</td>\n",
       "      <td>2010</td>\n",
       "      <td>1</td>\n",
       "      <td>2</td>\n",
       "      <td>3</td>\n",
       "    </tr>\n",
       "    <tr>\n",
       "      <th>4</th>\n",
       "      <td>138.0</td>\n",
       "      <td>-7</td>\n",
       "      <td>-5.0</td>\n",
       "      <td>1022.0</td>\n",
       "      <td>6.25</td>\n",
       "      <td>2</td>\n",
       "      <td>0</td>\n",
       "      <td>2010</td>\n",
       "      <td>1</td>\n",
       "      <td>2</td>\n",
       "      <td>4</td>\n",
       "    </tr>\n",
       "    <tr>\n",
       "      <th>...</th>\n",
       "      <td>...</td>\n",
       "      <td>...</td>\n",
       "      <td>...</td>\n",
       "      <td>...</td>\n",
       "      <td>...</td>\n",
       "      <td>...</td>\n",
       "      <td>...</td>\n",
       "      <td>...</td>\n",
       "      <td>...</td>\n",
       "      <td>...</td>\n",
       "      <td>...</td>\n",
       "    </tr>\n",
       "    <tr>\n",
       "      <th>43795</th>\n",
       "      <td>8.0</td>\n",
       "      <td>-23</td>\n",
       "      <td>-2.0</td>\n",
       "      <td>1034.0</td>\n",
       "      <td>231.97</td>\n",
       "      <td>0</td>\n",
       "      <td>0</td>\n",
       "      <td>2014</td>\n",
       "      <td>12</td>\n",
       "      <td>31</td>\n",
       "      <td>19</td>\n",
       "    </tr>\n",
       "    <tr>\n",
       "      <th>43796</th>\n",
       "      <td>10.0</td>\n",
       "      <td>-22</td>\n",
       "      <td>-3.0</td>\n",
       "      <td>1034.0</td>\n",
       "      <td>237.78</td>\n",
       "      <td>0</td>\n",
       "      <td>0</td>\n",
       "      <td>2014</td>\n",
       "      <td>12</td>\n",
       "      <td>31</td>\n",
       "      <td>20</td>\n",
       "    </tr>\n",
       "    <tr>\n",
       "      <th>43797</th>\n",
       "      <td>10.0</td>\n",
       "      <td>-22</td>\n",
       "      <td>-3.0</td>\n",
       "      <td>1034.0</td>\n",
       "      <td>242.70</td>\n",
       "      <td>0</td>\n",
       "      <td>0</td>\n",
       "      <td>2014</td>\n",
       "      <td>12</td>\n",
       "      <td>31</td>\n",
       "      <td>21</td>\n",
       "    </tr>\n",
       "    <tr>\n",
       "      <th>43798</th>\n",
       "      <td>8.0</td>\n",
       "      <td>-22</td>\n",
       "      <td>-4.0</td>\n",
       "      <td>1034.0</td>\n",
       "      <td>246.72</td>\n",
       "      <td>0</td>\n",
       "      <td>0</td>\n",
       "      <td>2014</td>\n",
       "      <td>12</td>\n",
       "      <td>31</td>\n",
       "      <td>22</td>\n",
       "    </tr>\n",
       "    <tr>\n",
       "      <th>43799</th>\n",
       "      <td>12.0</td>\n",
       "      <td>-21</td>\n",
       "      <td>-3.0</td>\n",
       "      <td>1034.0</td>\n",
       "      <td>249.85</td>\n",
       "      <td>0</td>\n",
       "      <td>0</td>\n",
       "      <td>2014</td>\n",
       "      <td>12</td>\n",
       "      <td>31</td>\n",
       "      <td>23</td>\n",
       "    </tr>\n",
       "  </tbody>\n",
       "</table>\n",
       "<p>43800 rows × 11 columns</p>\n",
       "</div>"
      ],
      "text/plain": [
       "       pollution  dew  temp   press  wnd_spd  snow  rain  year  month  day  \\\n",
       "0          129.0  -16  -4.0  1020.0     1.79     0     0  2010      1    2   \n",
       "1          148.0  -15  -4.0  1020.0     2.68     0     0  2010      1    2   \n",
       "2          159.0  -11  -5.0  1021.0     3.57     0     0  2010      1    2   \n",
       "3          181.0   -7  -5.0  1022.0     5.36     1     0  2010      1    2   \n",
       "4          138.0   -7  -5.0  1022.0     6.25     2     0  2010      1    2   \n",
       "...          ...  ...   ...     ...      ...   ...   ...   ...    ...  ...   \n",
       "43795        8.0  -23  -2.0  1034.0   231.97     0     0  2014     12   31   \n",
       "43796       10.0  -22  -3.0  1034.0   237.78     0     0  2014     12   31   \n",
       "43797       10.0  -22  -3.0  1034.0   242.70     0     0  2014     12   31   \n",
       "43798        8.0  -22  -4.0  1034.0   246.72     0     0  2014     12   31   \n",
       "43799       12.0  -21  -3.0  1034.0   249.85     0     0  2014     12   31   \n",
       "\n",
       "       hour  \n",
       "0         0  \n",
       "1         1  \n",
       "2         2  \n",
       "3         3  \n",
       "4         4  \n",
       "...     ...  \n",
       "43795    19  \n",
       "43796    20  \n",
       "43797    21  \n",
       "43798    22  \n",
       "43799    23  \n",
       "\n",
       "[43800 rows x 11 columns]"
      ]
     },
     "execution_count": 3,
     "metadata": {},
     "output_type": "execute_result"
    }
   ],
   "source": [
    "sorted_data = data1.iloc[:, pcmci_result > -1]\n",
    "sorted_data"
   ]
  },
  {
   "cell_type": "code",
   "execution_count": 4,
   "metadata": {},
   "outputs": [
    {
     "data": {
      "text/plain": [
       "array([1, 1, 2, 1, 1, 1, 1, 1, 1, 1, 1])"
      ]
     },
     "execution_count": 4,
     "metadata": {},
     "output_type": "execute_result"
    }
   ],
   "source": [
    "sorted_arrows = pcmci_result[pcmci_result > -1].astype(int)\n",
    "sorted_arrows"
   ]
  },
  {
   "cell_type": "code",
   "execution_count": 5,
   "metadata": {},
   "outputs": [],
   "source": [
    "tau_max = 20\n",
    "ar_range = 10\n",
    "\n",
    "lagged_data = pd.DataFrame(sorted_data.iloc[tau_max:, 0])\n",
    "for i in range(1, ar_range):\n",
    "    lagged_data['OT' + '_' + str(i)] = np.array(sorted_data.iloc[tau_max-i:-i, 0])\n",
    "for i in range(sorted_data.shape[1]):\n",
    "    if sorted_arrows[i] == 0:\n",
    "        lagged_data[sorted_data.columns[i] + '_' + str(sorted_arrows[i])] = np.array(sorted_data.iloc[tau_max:, i])\n",
    "        continue\n",
    "    lagged_data[sorted_data.columns[i] + '_' + str(sorted_arrows[i])] = np.array(sorted_data.iloc[tau_max - sorted_arrows[i]:-sorted_arrows[i], i])\n"
   ]
  },
  {
   "cell_type": "code",
   "execution_count": 6,
   "metadata": {},
   "outputs": [
    {
     "data": {
      "text/plain": [
       "994.0"
      ]
     },
     "execution_count": 6,
     "metadata": {},
     "output_type": "execute_result"
    }
   ],
   "source": [
    "minmaxgap =  lagged_data.iloc[:, 0].max() - lagged_data.iloc[:, 0].min()\n",
    "minmaxgap"
   ]
  },
  {
   "cell_type": "code",
   "execution_count": 7,
   "metadata": {},
   "outputs": [
    {
     "data": {
      "text/html": [
       "<div>\n",
       "<style scoped>\n",
       "    .dataframe tbody tr th:only-of-type {\n",
       "        vertical-align: middle;\n",
       "    }\n",
       "\n",
       "    .dataframe tbody tr th {\n",
       "        vertical-align: top;\n",
       "    }\n",
       "\n",
       "    .dataframe thead th {\n",
       "        text-align: right;\n",
       "    }\n",
       "</style>\n",
       "<table border=\"1\" class=\"dataframe\">\n",
       "  <thead>\n",
       "    <tr style=\"text-align: right;\">\n",
       "      <th></th>\n",
       "      <th>pollution</th>\n",
       "      <th>OT_1</th>\n",
       "      <th>OT_2</th>\n",
       "      <th>OT_3</th>\n",
       "      <th>OT_4</th>\n",
       "      <th>OT_5</th>\n",
       "      <th>OT_6</th>\n",
       "      <th>OT_7</th>\n",
       "      <th>OT_8</th>\n",
       "      <th>OT_9</th>\n",
       "      <th>...</th>\n",
       "      <th>dew_1</th>\n",
       "      <th>temp_2</th>\n",
       "      <th>press_1</th>\n",
       "      <th>wnd_spd_1</th>\n",
       "      <th>snow_1</th>\n",
       "      <th>rain_1</th>\n",
       "      <th>year_1</th>\n",
       "      <th>month_1</th>\n",
       "      <th>day_1</th>\n",
       "      <th>hour_1</th>\n",
       "    </tr>\n",
       "  </thead>\n",
       "  <tbody>\n",
       "    <tr>\n",
       "      <th>20</th>\n",
       "      <td>0.154930</td>\n",
       "      <td>0.149899</td>\n",
       "      <td>0.171026</td>\n",
       "      <td>0.164990</td>\n",
       "      <td>0.159960</td>\n",
       "      <td>0.154930</td>\n",
       "      <td>0.158954</td>\n",
       "      <td>0.164990</td>\n",
       "      <td>0.148893</td>\n",
       "      <td>0.152918</td>\n",
       "      <td>...</td>\n",
       "      <td>0.470588</td>\n",
       "      <td>0.229508</td>\n",
       "      <td>0.672727</td>\n",
       "      <td>0.074853</td>\n",
       "      <td>0.000000</td>\n",
       "      <td>0.0</td>\n",
       "      <td>0.0</td>\n",
       "      <td>0.0</td>\n",
       "      <td>0.033333</td>\n",
       "      <td>0.826087</td>\n",
       "    </tr>\n",
       "    <tr>\n",
       "      <th>21</th>\n",
       "      <td>0.164990</td>\n",
       "      <td>0.154930</td>\n",
       "      <td>0.149899</td>\n",
       "      <td>0.171026</td>\n",
       "      <td>0.164990</td>\n",
       "      <td>0.159960</td>\n",
       "      <td>0.154930</td>\n",
       "      <td>0.158954</td>\n",
       "      <td>0.164990</td>\n",
       "      <td>0.148893</td>\n",
       "      <td>...</td>\n",
       "      <td>0.485294</td>\n",
       "      <td>0.229508</td>\n",
       "      <td>0.672727</td>\n",
       "      <td>0.077912</td>\n",
       "      <td>0.000000</td>\n",
       "      <td>0.0</td>\n",
       "      <td>0.0</td>\n",
       "      <td>0.0</td>\n",
       "      <td>0.033333</td>\n",
       "      <td>0.869565</td>\n",
       "    </tr>\n",
       "    <tr>\n",
       "      <th>22</th>\n",
       "      <td>0.156942</td>\n",
       "      <td>0.164990</td>\n",
       "      <td>0.154930</td>\n",
       "      <td>0.149899</td>\n",
       "      <td>0.171026</td>\n",
       "      <td>0.164990</td>\n",
       "      <td>0.159960</td>\n",
       "      <td>0.154930</td>\n",
       "      <td>0.158954</td>\n",
       "      <td>0.164990</td>\n",
       "      <td>...</td>\n",
       "      <td>0.485294</td>\n",
       "      <td>0.229508</td>\n",
       "      <td>0.654545</td>\n",
       "      <td>0.083261</td>\n",
       "      <td>0.037037</td>\n",
       "      <td>0.0</td>\n",
       "      <td>0.0</td>\n",
       "      <td>0.0</td>\n",
       "      <td>0.033333</td>\n",
       "      <td>0.913043</td>\n",
       "    </tr>\n",
       "    <tr>\n",
       "      <th>23</th>\n",
       "      <td>0.126761</td>\n",
       "      <td>0.156942</td>\n",
       "      <td>0.164990</td>\n",
       "      <td>0.154930</td>\n",
       "      <td>0.149899</td>\n",
       "      <td>0.171026</td>\n",
       "      <td>0.164990</td>\n",
       "      <td>0.159960</td>\n",
       "      <td>0.154930</td>\n",
       "      <td>0.158954</td>\n",
       "      <td>...</td>\n",
       "      <td>0.470588</td>\n",
       "      <td>0.229508</td>\n",
       "      <td>0.672727</td>\n",
       "      <td>0.088610</td>\n",
       "      <td>0.074074</td>\n",
       "      <td>0.0</td>\n",
       "      <td>0.0</td>\n",
       "      <td>0.0</td>\n",
       "      <td>0.033333</td>\n",
       "      <td>0.956522</td>\n",
       "    </tr>\n",
       "    <tr>\n",
       "      <th>24</th>\n",
       "      <td>0.090543</td>\n",
       "      <td>0.126761</td>\n",
       "      <td>0.156942</td>\n",
       "      <td>0.164990</td>\n",
       "      <td>0.154930</td>\n",
       "      <td>0.149899</td>\n",
       "      <td>0.171026</td>\n",
       "      <td>0.164990</td>\n",
       "      <td>0.159960</td>\n",
       "      <td>0.154930</td>\n",
       "      <td>...</td>\n",
       "      <td>0.470588</td>\n",
       "      <td>0.213115</td>\n",
       "      <td>0.654545</td>\n",
       "      <td>0.093959</td>\n",
       "      <td>0.111111</td>\n",
       "      <td>0.0</td>\n",
       "      <td>0.0</td>\n",
       "      <td>0.0</td>\n",
       "      <td>0.033333</td>\n",
       "      <td>1.000000</td>\n",
       "    </tr>\n",
       "    <tr>\n",
       "      <th>...</th>\n",
       "      <td>...</td>\n",
       "      <td>...</td>\n",
       "      <td>...</td>\n",
       "      <td>...</td>\n",
       "      <td>...</td>\n",
       "      <td>...</td>\n",
       "      <td>...</td>\n",
       "      <td>...</td>\n",
       "      <td>...</td>\n",
       "      <td>...</td>\n",
       "      <td>...</td>\n",
       "      <td>...</td>\n",
       "      <td>...</td>\n",
       "      <td>...</td>\n",
       "      <td>...</td>\n",
       "      <td>...</td>\n",
       "      <td>...</td>\n",
       "      <td>...</td>\n",
       "      <td>...</td>\n",
       "      <td>...</td>\n",
       "      <td>...</td>\n",
       "    </tr>\n",
       "    <tr>\n",
       "      <th>43795</th>\n",
       "      <td>0.008048</td>\n",
       "      <td>0.010060</td>\n",
       "      <td>0.009054</td>\n",
       "      <td>0.008048</td>\n",
       "      <td>0.011066</td>\n",
       "      <td>0.009054</td>\n",
       "      <td>0.011066</td>\n",
       "      <td>0.017103</td>\n",
       "      <td>0.012072</td>\n",
       "      <td>0.007042</td>\n",
       "      <td>...</td>\n",
       "      <td>0.264706</td>\n",
       "      <td>0.295082</td>\n",
       "      <td>0.763636</td>\n",
       "      <td>0.385730</td>\n",
       "      <td>0.000000</td>\n",
       "      <td>0.0</td>\n",
       "      <td>1.0</td>\n",
       "      <td>1.0</td>\n",
       "      <td>1.000000</td>\n",
       "      <td>0.782609</td>\n",
       "    </tr>\n",
       "    <tr>\n",
       "      <th>43796</th>\n",
       "      <td>0.010060</td>\n",
       "      <td>0.008048</td>\n",
       "      <td>0.010060</td>\n",
       "      <td>0.009054</td>\n",
       "      <td>0.008048</td>\n",
       "      <td>0.011066</td>\n",
       "      <td>0.009054</td>\n",
       "      <td>0.011066</td>\n",
       "      <td>0.017103</td>\n",
       "      <td>0.012072</td>\n",
       "      <td>...</td>\n",
       "      <td>0.250000</td>\n",
       "      <td>0.278689</td>\n",
       "      <td>0.781818</td>\n",
       "      <td>0.395659</td>\n",
       "      <td>0.000000</td>\n",
       "      <td>0.0</td>\n",
       "      <td>1.0</td>\n",
       "      <td>1.0</td>\n",
       "      <td>1.000000</td>\n",
       "      <td>0.826087</td>\n",
       "    </tr>\n",
       "    <tr>\n",
       "      <th>43797</th>\n",
       "      <td>0.010060</td>\n",
       "      <td>0.010060</td>\n",
       "      <td>0.008048</td>\n",
       "      <td>0.010060</td>\n",
       "      <td>0.009054</td>\n",
       "      <td>0.008048</td>\n",
       "      <td>0.011066</td>\n",
       "      <td>0.009054</td>\n",
       "      <td>0.011066</td>\n",
       "      <td>0.017103</td>\n",
       "      <td>...</td>\n",
       "      <td>0.264706</td>\n",
       "      <td>0.278689</td>\n",
       "      <td>0.781818</td>\n",
       "      <td>0.405588</td>\n",
       "      <td>0.000000</td>\n",
       "      <td>0.0</td>\n",
       "      <td>1.0</td>\n",
       "      <td>1.0</td>\n",
       "      <td>1.000000</td>\n",
       "      <td>0.869565</td>\n",
       "    </tr>\n",
       "    <tr>\n",
       "      <th>43798</th>\n",
       "      <td>0.008048</td>\n",
       "      <td>0.010060</td>\n",
       "      <td>0.010060</td>\n",
       "      <td>0.008048</td>\n",
       "      <td>0.010060</td>\n",
       "      <td>0.009054</td>\n",
       "      <td>0.008048</td>\n",
       "      <td>0.011066</td>\n",
       "      <td>0.009054</td>\n",
       "      <td>0.011066</td>\n",
       "      <td>...</td>\n",
       "      <td>0.264706</td>\n",
       "      <td>0.262295</td>\n",
       "      <td>0.781818</td>\n",
       "      <td>0.413996</td>\n",
       "      <td>0.000000</td>\n",
       "      <td>0.0</td>\n",
       "      <td>1.0</td>\n",
       "      <td>1.0</td>\n",
       "      <td>1.000000</td>\n",
       "      <td>0.913043</td>\n",
       "    </tr>\n",
       "    <tr>\n",
       "      <th>43799</th>\n",
       "      <td>0.012072</td>\n",
       "      <td>0.008048</td>\n",
       "      <td>0.010060</td>\n",
       "      <td>0.010060</td>\n",
       "      <td>0.008048</td>\n",
       "      <td>0.010060</td>\n",
       "      <td>0.009054</td>\n",
       "      <td>0.008048</td>\n",
       "      <td>0.011066</td>\n",
       "      <td>0.009054</td>\n",
       "      <td>...</td>\n",
       "      <td>0.264706</td>\n",
       "      <td>0.262295</td>\n",
       "      <td>0.781818</td>\n",
       "      <td>0.420866</td>\n",
       "      <td>0.000000</td>\n",
       "      <td>0.0</td>\n",
       "      <td>1.0</td>\n",
       "      <td>1.0</td>\n",
       "      <td>1.000000</td>\n",
       "      <td>0.956522</td>\n",
       "    </tr>\n",
       "  </tbody>\n",
       "</table>\n",
       "<p>43780 rows × 21 columns</p>\n",
       "</div>"
      ],
      "text/plain": [
       "       pollution      OT_1      OT_2      OT_3      OT_4      OT_5      OT_6  \\\n",
       "20      0.154930  0.149899  0.171026  0.164990  0.159960  0.154930  0.158954   \n",
       "21      0.164990  0.154930  0.149899  0.171026  0.164990  0.159960  0.154930   \n",
       "22      0.156942  0.164990  0.154930  0.149899  0.171026  0.164990  0.159960   \n",
       "23      0.126761  0.156942  0.164990  0.154930  0.149899  0.171026  0.164990   \n",
       "24      0.090543  0.126761  0.156942  0.164990  0.154930  0.149899  0.171026   \n",
       "...          ...       ...       ...       ...       ...       ...       ...   \n",
       "43795   0.008048  0.010060  0.009054  0.008048  0.011066  0.009054  0.011066   \n",
       "43796   0.010060  0.008048  0.010060  0.009054  0.008048  0.011066  0.009054   \n",
       "43797   0.010060  0.010060  0.008048  0.010060  0.009054  0.008048  0.011066   \n",
       "43798   0.008048  0.010060  0.010060  0.008048  0.010060  0.009054  0.008048   \n",
       "43799   0.012072  0.008048  0.010060  0.010060  0.008048  0.010060  0.009054   \n",
       "\n",
       "           OT_7      OT_8      OT_9  ...     dew_1    temp_2   press_1  \\\n",
       "20     0.164990  0.148893  0.152918  ...  0.470588  0.229508  0.672727   \n",
       "21     0.158954  0.164990  0.148893  ...  0.485294  0.229508  0.672727   \n",
       "22     0.154930  0.158954  0.164990  ...  0.485294  0.229508  0.654545   \n",
       "23     0.159960  0.154930  0.158954  ...  0.470588  0.229508  0.672727   \n",
       "24     0.164990  0.159960  0.154930  ...  0.470588  0.213115  0.654545   \n",
       "...         ...       ...       ...  ...       ...       ...       ...   \n",
       "43795  0.017103  0.012072  0.007042  ...  0.264706  0.295082  0.763636   \n",
       "43796  0.011066  0.017103  0.012072  ...  0.250000  0.278689  0.781818   \n",
       "43797  0.009054  0.011066  0.017103  ...  0.264706  0.278689  0.781818   \n",
       "43798  0.011066  0.009054  0.011066  ...  0.264706  0.262295  0.781818   \n",
       "43799  0.008048  0.011066  0.009054  ...  0.264706  0.262295  0.781818   \n",
       "\n",
       "       wnd_spd_1    snow_1  rain_1  year_1  month_1     day_1    hour_1  \n",
       "20      0.074853  0.000000     0.0     0.0      0.0  0.033333  0.826087  \n",
       "21      0.077912  0.000000     0.0     0.0      0.0  0.033333  0.869565  \n",
       "22      0.083261  0.037037     0.0     0.0      0.0  0.033333  0.913043  \n",
       "23      0.088610  0.074074     0.0     0.0      0.0  0.033333  0.956522  \n",
       "24      0.093959  0.111111     0.0     0.0      0.0  0.033333  1.000000  \n",
       "...          ...       ...     ...     ...      ...       ...       ...  \n",
       "43795   0.385730  0.000000     0.0     1.0      1.0  1.000000  0.782609  \n",
       "43796   0.395659  0.000000     0.0     1.0      1.0  1.000000  0.826087  \n",
       "43797   0.405588  0.000000     0.0     1.0      1.0  1.000000  0.869565  \n",
       "43798   0.413996  0.000000     0.0     1.0      1.0  1.000000  0.913043  \n",
       "43799   0.420866  0.000000     0.0     1.0      1.0  1.000000  0.956522  \n",
       "\n",
       "[43780 rows x 21 columns]"
      ]
     },
     "execution_count": 7,
     "metadata": {},
     "output_type": "execute_result"
    }
   ],
   "source": [
    "lagged_data = (lagged_data - lagged_data.min()) / ( lagged_data.max() - lagged_data.min())\n",
    "lagged_data"
   ]
  },
  {
   "cell_type": "code",
   "execution_count": 8,
   "metadata": {},
   "outputs": [
    {
     "name": "stderr",
     "output_type": "stream",
     "text": [
      "/home/dell/anaconda3/lib/python3.10/site-packages/tqdm/auto.py:21: TqdmWarning: IProgress not found. Please update jupyter and ipywidgets. See https://ipywidgets.readthedocs.io/en/stable/user_install.html\n",
      "  from .autonotebook import tqdm as notebook_tqdm\n"
     ]
    }
   ],
   "source": [
    "import torch\n",
    "import torch.nn as nn\n",
    "import torch.nn.functional as F\n",
    "import torch.optim as optim\n",
    "import torch.autograd as autograd\n",
    "from tqdm import tqdm\n",
    "from matplotlib import pyplot as plt\n",
    "import seaborn as sns"
   ]
  },
  {
   "cell_type": "code",
   "execution_count": 9,
   "metadata": {},
   "outputs": [],
   "source": [
    "class Mine(nn.Module):\n",
    "    def __init__(self, input_size = 2, hidden_size = 32):\n",
    "        super().__init__()\n",
    "        self.fc1 = nn.Linear(input_size, hidden_size)\n",
    "        self.fc2 = nn.Linear(hidden_size, hidden_size)\n",
    "        self.fc3 = nn.Linear(hidden_size, 1)\n",
    "        nn.init.normal_(self.fc1.weight,std=0.02)\n",
    "        nn.init.constant_(self.fc1.bias, 0)\n",
    "        nn.init.normal_(self.fc2.weight,std=0.02)\n",
    "        nn.init.constant_(self.fc2.bias, 0)\n",
    "        nn.init.normal_(self.fc3.weight,std=0.02)\n",
    "        nn.init.constant_(self.fc3.bias, 0)\n",
    "        \n",
    "    def forward(self, input):\n",
    "        output = F.relu(self.fc1(input))\n",
    "        output = F.relu(self.fc2(output))\n",
    "        output = self.fc3(output)\n",
    "        return output"
   ]
  },
  {
   "cell_type": "code",
   "execution_count": 10,
   "metadata": {},
   "outputs": [],
   "source": [
    "class Z_RNN(nn.Module):\n",
    "    def __init__(self, input_size = 2, hidden_size = 32, num_layers = 1, output_size = 2):\n",
    "        super(Z_RNN, self).__init__()\n",
    "\n",
    "        self.rnn = nn.RNN(\n",
    "            input_size = input_size,\n",
    "            hidden_size = hidden_size,     # rnn hidden unit\n",
    "            num_layers = num_layers,       # number of rnn layer\n",
    "            batch_first = True,   # input & output will has batch size as 1s dimension. e.g. (batch, time_step, input_size)\n",
    "        )\n",
    "        self.out = nn.Linear(hidden_size, output_size)\n",
    "\n",
    "    def forward(self, x, h_state):\n",
    "        r_out, h_state = self.rnn(x, h_state)\n",
    "        # print(r_out.shape)\n",
    "        # outs = []    # save all predictions\n",
    "        # for time_step in range(r_out.size(1)):    # calculate output for each time step\n",
    "        #     outs.append(self.out(r_out[:, time_step, :]))\n",
    "\n",
    "        # return torch.stack(outs, dim=1), h_state\n",
    "\n",
    "        outs = self.out(r_out)\n",
    "        return outs, h_state"
   ]
  },
  {
   "cell_type": "code",
   "execution_count": 11,
   "metadata": {},
   "outputs": [],
   "source": [
    "def mutual_information(joint_X, marginal_X, reg_X, Y,\n",
    "                        mine_net, zrnn_net, h_state):\n",
    "    h_state = None\n",
    "    Z, h_state = zrnn_net( torch.cat((reg_X, Y), axis = 1), h_state)\n",
    "    # Z, h_state = zrnn_net(joint_X[:-1, :], h_state)\n",
    "    t = mine_net( torch.cat((joint_X, Y, Z), axis = 1) )\n",
    "    marginal_t = mine_net( torch.cat((marginal_X, Y, Z), axis = 1) )\n",
    "    et = torch.exp(marginal_t)\n",
    "    mi_lb = torch.mean(t) - torch.log(torch.mean(et))\n",
    "    return mi_lb, t, et, h_state"
   ]
  },
  {
   "cell_type": "code",
   "execution_count": 12,
   "metadata": {},
   "outputs": [],
   "source": [
    "def learn_mine(X, Y, mine_net, mine_net_optim, zrnn_net, zrnn_net_optim,\n",
    "                regr_net_without_Z, h_state, ma_et,\n",
    "                batch_size = 100, window_size = 100, ma_rate=0.01):\n",
    "    # batch is a tuple of (joint, marginal)\n",
    "    X_all = X\n",
    "    Y_all = Y\n",
    "    loss = 0\n",
    "    # for _ in range(batch_size):\n",
    "    pivot = 0\n",
    "    pivot = np.random.randint(X_all.shape[0]-window_size)\n",
    "    X = X_all[pivot:pivot+window_size]\n",
    "    Y = Y_all[pivot:pivot+window_size]\n",
    "    # index = np.random.choice(range(X.shape[0]), size=X.shape[0], replace=False)\n",
    "    index = np.random.choice(range(X.shape[0]), size=window_size, replace=False)\n",
    "    marginal_X = X[index]\n",
    "    # marginal_X = marginal_X[pivot:pivot+window_size]\n",
    "\n",
    "    X = torch.autograd.Variable(torch.FloatTensor(X)).cuda()\n",
    "    Y = torch.autograd.Variable(torch.FloatTensor(Y)).cuda()\n",
    "    marginal_X = torch.autograd.Variable(torch.FloatTensor(marginal_X)).cuda()\n",
    "\n",
    "    h_state = None\n",
    "    reg_X, h_state = regr_net_without_Z(Y, h_state)\n",
    "\n",
    "    mi_lb, t, et, h_state = mutual_information(X, marginal_X, reg_X, Y,\n",
    "                                                mine_net, zrnn_net, h_state)\n",
    "    ma_et = (1-ma_rate)*ma_et + ma_rate*torch.mean(et)\n",
    "\n",
    "# unbiasing use moving average\n",
    "    loss = (-(torch.mean(t) - (1/ma_et.mean()).detach()*torch.mean(et)) )\n",
    "    # use biased estimator\n",
    "#     loss = - mi_lb\n",
    "    \n",
    "    mine_net_optim.zero_grad()\n",
    "    zrnn_net_optim.zero_grad()\n",
    "    autograd.backward(loss)\n",
    "    # nn.utils.clip_grad_norm(mine_net.parameters(), max_norm=0.1, norm_type=2)\n",
    "    # nn.utils.clip_grad_norm(zrnn_net.parameters(), max_norm=0.1, norm_type=2)\n",
    "    mine_net_optim.step()\n",
    "    zrnn_net_optim.step()\n",
    "    return mi_lb, ma_et, loss, h_state"
   ]
  },
  {
   "cell_type": "code",
   "execution_count": 13,
   "metadata": {},
   "outputs": [],
   "source": [
    "class Regressor(nn.Module):\n",
    "    def __init__(self, input_size = 2, hidden_size = 32):\n",
    "        super().__init__()\n",
    "        self.fc1 = nn.Linear(input_size, hidden_size)\n",
    "        self.fc2 = nn.Linear(hidden_size, hidden_size)\n",
    "        self.fc3 = nn.Linear(hidden_size, 1)\n",
    "        nn.init.normal_(self.fc1.weight,std=0.02)\n",
    "        nn.init.constant_(self.fc1.bias, 0)\n",
    "        nn.init.normal_(self.fc2.weight,std=0.02)\n",
    "        nn.init.constant_(self.fc2.bias, 0)\n",
    "        nn.init.normal_(self.fc3.weight,std=0.02)\n",
    "        nn.init.constant_(self.fc3.bias, 0)\n",
    "        \n",
    "    def forward(self, input):\n",
    "        output = F.relu(self.fc1(input))\n",
    "        output = F.relu(self.fc2(output))\n",
    "        output = self.fc3(output)\n",
    "        return output"
   ]
  },
  {
   "cell_type": "code",
   "execution_count": 14,
   "metadata": {},
   "outputs": [
    {
     "data": {
      "text/plain": [
       "(43780, 21)"
      ]
     },
     "execution_count": 14,
     "metadata": {},
     "output_type": "execute_result"
    }
   ],
   "source": [
    "data2 = lagged_data.copy()\n",
    "data = np.array(data2)\n",
    "data.shape"
   ]
  },
  {
   "cell_type": "code",
   "execution_count": 15,
   "metadata": {},
   "outputs": [],
   "source": [
    "train_proportion = 0.6\n",
    "valid_proportion = 0.2\n",
    "test_proportion = 0.2\n",
    "\n",
    "train_size = int(data.shape[0] * train_proportion)\n",
    "valid_size = int(data.shape[0] * valid_proportion)\n",
    "\n",
    "train_data = data[:train_size]\n",
    "valid_data = data[train_size:train_size+valid_size]\n",
    "test_data = data[train_size+valid_size:]\n",
    "\n",
    "batch_size = 20\n",
    "window_size = 400\n",
    "\n",
    "z_size = data.shape[1]"
   ]
  },
  {
   "cell_type": "code",
   "execution_count": 16,
   "metadata": {},
   "outputs": [
    {
     "name": "stderr",
     "output_type": "stream",
     "text": [
      "  0%|          | 0/30000 [00:00<?, ?it/s]/tmp/ipykernel_1207575/848888754.py:19: UserWarning: torch.nn.utils.clip_grad_norm is now deprecated in favor of torch.nn.utils.clip_grad_norm_.\n",
      "  nn.utils.clip_grad_norm(regr_net.parameters(), max_norm=0.001, norm_type=2)\n",
      "100%|██████████| 30000/30000 [04:32<00:00, 110.03it/s]\n"
     ]
    }
   ],
   "source": [
    "def train_reg_withoutZ(data, regr_net, regr_net_optim, window_size, iter_num = 5000):\n",
    "    X = np.expand_dims(data[:, 0], 1)\n",
    "    Y = data[:, 1:]\n",
    "    X = torch.autograd.Variable(torch.FloatTensor(X)).cuda()\n",
    "    Y = torch.autograd.Variable(torch.FloatTensor(Y)).cuda()\n",
    "    pivot = np.random.randint(X.shape[0]-window_size)\n",
    "    X = X[pivot:pivot+window_size]\n",
    "    Y = Y[pivot:pivot+window_size]\n",
    "\n",
    "    loss_array = []\n",
    "    for _ in tqdm(range(iter_num)):\n",
    "        h_state = None\n",
    "        # X_pred = regr_net(Y)\n",
    "        X_pred, h_state = regr_net(Y, h_state)\n",
    "        mseloss = torch.nn.MSELoss(reduction = 'sum')\n",
    "        loss = mseloss(X_pred, X)\n",
    "        regr_net_optim.zero_grad()\n",
    "        autograd.backward(loss)\n",
    "        nn.utils.clip_grad_norm(regr_net.parameters(), max_norm=0.001, norm_type=2)\n",
    "        regr_net_optim.step()\n",
    "        loss_array.append(loss.detach().cpu().numpy())\n",
    "    \n",
    "    return loss_array, X_pred.detach().cpu().numpy()\n",
    "\n",
    "# regr_net_without_Z = Regressor(input_size = data.shape[1]-1, hidden_size = data.shape[1] * 4).cuda()\n",
    "regr_net_without_Z = Z_RNN(input_size = data.shape[1]-1, hidden_size = data.shape[1]*4, num_layers = 2, output_size = 1).cuda()\n",
    "regr_net_without_Z_optim = optim.Adam(regr_net_without_Z.parameters(), lr = 1e-3, weight_decay = 1e-5)\n",
    "loss_array, train_X_pred_without_Z = train_reg_withoutZ(train_data, regr_net_without_Z, regr_net_without_Z_optim, window_size, iter_num = 30000)"
   ]
  },
  {
   "cell_type": "code",
   "execution_count": 17,
   "metadata": {},
   "outputs": [
    {
     "data": {
      "text/plain": [
       "[<matplotlib.lines.Line2D at 0x7fd09011d2a0>]"
      ]
     },
     "execution_count": 17,
     "metadata": {},
     "output_type": "execute_result"
    },
    {
     "data": {
      "image/png": "[encoded data removed]",
      "text/plain": [
       "<Figure size 640x480 with 1 Axes>"
      ]
     },
     "metadata": {},
     "output_type": "display_data"
    }
   ],
   "source": [
    "plt.plot(loss_array)"
   ]
  },
  {
   "cell_type": "code",
   "execution_count": 18,
   "metadata": {},
   "outputs": [
    {
     "data": {
      "text/plain": [
       "[<matplotlib.lines.Line2D at 0x7fd07d759810>]"
      ]
     },
     "execution_count": 18,
     "metadata": {},
     "output_type": "execute_result"
    },
    {
     "data": {
      "image/png": "[encoded data removed]",
      "text/plain": [
       "<Figure size 640x480 with 1 Axes>"
      ]
     },
     "metadata": {},
     "output_type": "display_data"
    }
   ],
   "source": [
    "plt.plot(loss_array[-5000:])"
   ]
  },
  {
   "cell_type": "code",
   "execution_count": 19,
   "metadata": {},
   "outputs": [],
   "source": [
    "mine_net = Mine(input_size = data.shape[1]+z_size, hidden_size = 512).cuda()\n",
    "mine_net_optim = optim.Adam(mine_net.parameters(), lr = 1e-4, weight_decay = 1e-5)\n",
    "zrnn_net = Z_RNN(input_size = data.shape[1], hidden_size = 256, num_layers = 2, output_size = z_size).cuda()\n",
    "zrnn_net_optim = optim.Adam(zrnn_net.parameters(), lr = 1e-4, weight_decay = 1e-5)\n",
    "h_state = torch.zeros((2, data.shape[1]*2))\n",
    "h_state = h_state.to('cuda:0')"
   ]
  },
  {
   "cell_type": "code",
   "execution_count": 20,
   "metadata": {},
   "outputs": [],
   "source": [
    "def train(train_data, valid_data, mine_net, mine_net_optim, zrnn_net, zrnn_net_optim, regr_net_without_Z,\n",
    "            h_state, result, loss, ma_et, batch_size=100, window_size=100,\n",
    "            iter_num=int(10e+3) , log_freq=int(1e+3)):\n",
    "\n",
    "    train_best_result = 0\n",
    "    valid_best_result = 10000\n",
    "    early_stop_count = 0\n",
    "\n",
    "    for i in tqdm(range(iter_num)):\n",
    "        # 1. train zrnn + mine\n",
    "        X = np.expand_dims(train_data[:, 0], 1)\n",
    "        Y = train_data[:, 1:]\n",
    "        if Y.ndim == 1:\n",
    "            Y = np.expand_dims(Y, 1)\n",
    "        mi_lb, ma_et, loss_, h_state = learn_mine(X, Y, mine_net, mine_net_optim, \n",
    "                                                    zrnn_net, zrnn_net_optim,\n",
    "                                                    regr_net_without_Z,\n",
    "                                                    h_state, ma_et, batch_size, window_size)\n",
    "        # h_state = h_state.data\n",
    "        \n",
    "        if mi_lb > train_best_result:\n",
    "            train_best_result = mi_lb\n",
    "            torch.save(zrnn_net.state_dict(), 'zrnn_net.pt')\n",
    "            torch.save(mine_net.state_dict(), 'mine_net.pt')\n",
    "\n",
    "        result.append(mi_lb.detach().cpu().numpy())\n",
    "        loss.append(loss_.detach().cpu().numpy())\n",
    "\n",
    "        # 2. determine early stop by validation set\n",
    "        if (i+1)%(log_freq) == 0:\n",
    "            zrnn_best = zrnn_net\n",
    "            zrnn_best.load_state_dict(torch.load('zrnn_net.pt'))\n",
    "\n",
    "            X_valid = np.expand_dims(valid_data[:, 0], 1)\n",
    "            Y_valid = valid_data[:, 1:]\n",
    "\n",
    "            X_valid = torch.autograd.Variable(torch.FloatTensor(X_valid)).cuda()\n",
    "            Y_valid = torch.autograd.Variable(torch.FloatTensor(Y_valid)).cuda()\n",
    "\n",
    "            h_state = None\n",
    "            reg_X_valid, h_state = regr_net_without_Z(Y_valid, h_state)\n",
    "            h_state = None\n",
    "            Z_valid, h_state = zrnn_net( torch.cat((reg_X_valid, Y_valid), axis = 1), h_state)\n",
    "            Z_valid = Z_valid.detach()\n",
    "\n",
    "            pivot = np.random.randint(X_valid.shape[0]-window_size)\n",
    "            X_valid = X_valid[pivot:pivot+window_size]\n",
    "            Y_valid = Y_valid[pivot:pivot+window_size]\n",
    "            Z_valid = Z_valid[pivot:pivot+window_size]\n",
    "\n",
    "            regr_net = Regressor(input_size = valid_data.shape[1]-1+z_size, hidden_size = z_size * 4).cuda()\n",
    "            regr_net_optim = optim.Adam(regr_net.parameters(), lr = 5e-4, weight_decay = 1e-5)\n",
    "            vbr =  valid_best_result\n",
    "            for _ in tqdm(range(15000)):\n",
    "                h_state = None\n",
    "                # X_pred = regr_net(Y)\n",
    "                X_pred = regr_net(torch.cat((Y_valid, Z_valid), axis = 1))\n",
    "                mseloss = torch.nn.MSELoss(reduction = 'mean')\n",
    "                mse_loss = mseloss(X_pred, X_valid)\n",
    "                regr_net_optim.zero_grad()\n",
    "                autograd.backward(mse_loss)\n",
    "                nn.utils.clip_grad_norm(regr_net.parameters(), max_norm=0.001, norm_type=2)\n",
    "                regr_net_optim.step()\n",
    "\n",
    "                if mse_loss < vbr:\n",
    "                    vbr = mse_loss\n",
    "                    torch.save(zrnn_best.state_dict(), 'zrnn_valid_best.pt')\n",
    "            \n",
    "            if vbr < valid_best_result:\n",
    "                valid_best_result = vbr\n",
    "                early_stop_count = 0\n",
    "                \n",
    "            else:\n",
    "                early_stop_count += 0\n",
    "\n",
    "            # print(i, '/', iter_num, 'MI =', result[-1])\n",
    "            # print(i, '/', iter_num, 'Best MI =', best_result)\n",
    "            print(i, '/', iter_num, 'Best train MI =', train_best_result, 'Best valid loss =', valid_best_result)\n",
    "\n",
    "        if early_stop_count == 10:\n",
    "            print('Early stop triggered at', i, '/', iter_num)\n",
    "            break\n",
    "    return result, loss, ma_et, train_best_result"
   ]
  },
  {
   "cell_type": "code",
   "execution_count": 21,
   "metadata": {},
   "outputs": [],
   "source": [
    "result = list()\n",
    "loss = list()\n",
    "ma_et = 1."
   ]
  },
  {
   "cell_type": "code",
   "execution_count": 22,
   "metadata": {},
   "outputs": [
    {
     "name": "stderr",
     "output_type": "stream",
     "text": [
      "  2%|▏         | 9994/500000 [02:55<2:24:42, 56.44it/s]/tmp/ipykernel_1207575/879029495.py:62: UserWarning: torch.nn.utils.clip_grad_norm is now deprecated in favor of torch.nn.utils.clip_grad_norm_.\n",
      "  nn.utils.clip_grad_norm(regr_net.parameters(), max_norm=0.001, norm_type=2)\n",
      "100%|██████████| 15000/15000 [00:51<00:00, 290.83it/s]]\n",
      "  2%|▏         | 10006/500000 [03:47<248:25:39,  1.83s/it]"
     ]
    },
    {
     "name": "stdout",
     "output_type": "stream",
     "text": [
      "9999 / 500000 Best train MI = tensor(1.9736, device='cuda:0', grad_fn=<SubBackward0>) Best valid loss = tensor(0.0001, device='cuda:0', grad_fn=<MseLossBackward0>)\n"
     ]
    },
    {
     "name": "stderr",
     "output_type": "stream",
     "text": [
      "100%|██████████| 15000/15000 [00:50<00:00, 299.01it/s]s]  \n",
      "  4%|▍         | 20006/500000 [07:31<264:17:13,  1.98s/it]"
     ]
    },
    {
     "name": "stdout",
     "output_type": "stream",
     "text": [
      "19999 / 500000 Best train MI = tensor(2.0643, device='cuda:0', grad_fn=<SubBackward0>) Best valid loss = tensor(8.4108e-05, device='cuda:0', grad_fn=<MseLossBackward0>)\n"
     ]
    },
    {
     "name": "stderr",
     "output_type": "stream",
     "text": [
      "100%|██████████| 15000/15000 [00:49<00:00, 302.37it/s]s]  \n",
      "  6%|▌         | 30006/500000 [11:16<246:21:35,  1.89s/it]"
     ]
    },
    {
     "name": "stdout",
     "output_type": "stream",
     "text": [
      "29999 / 500000 Best train MI = tensor(2.0823, device='cuda:0', grad_fn=<SubBackward0>) Best valid loss = tensor(8.4108e-05, device='cuda:0', grad_fn=<MseLossBackward0>)\n"
     ]
    },
    {
     "name": "stderr",
     "output_type": "stream",
     "text": [
      "100%|██████████| 15000/15000 [00:49<00:00, 305.19it/s]s]  \n",
      "  8%|▊         | 40007/500000 [15:01<226:48:45,  1.78s/it]"
     ]
    },
    {
     "name": "stdout",
     "output_type": "stream",
     "text": [
      "39999 / 500000 Best train MI = tensor(2.1484, device='cuda:0', grad_fn=<SubBackward0>) Best valid loss = tensor(8.4108e-05, device='cuda:0', grad_fn=<MseLossBackward0>)\n"
     ]
    },
    {
     "name": "stderr",
     "output_type": "stream",
     "text": [
      "100%|██████████| 15000/15000 [00:49<00:00, 306.05it/s]s]  \n",
      " 10%|█         | 50007/500000 [18:46<246:10:37,  1.97s/it]"
     ]
    },
    {
     "name": "stdout",
     "output_type": "stream",
     "text": [
      "49999 / 500000 Best train MI = tensor(2.1562, device='cuda:0', grad_fn=<SubBackward0>) Best valid loss = tensor(8.1585e-05, device='cuda:0', grad_fn=<MseLossBackward0>)\n"
     ]
    },
    {
     "name": "stderr",
     "output_type": "stream",
     "text": [
      "100%|██████████| 15000/15000 [00:49<00:00, 302.49it/s]s]  \n",
      " 12%|█▏        | 60007/500000 [22:34<226:51:32,  1.86s/it]"
     ]
    },
    {
     "name": "stdout",
     "output_type": "stream",
     "text": [
      "59999 / 500000 Best train MI = tensor(2.2281, device='cuda:0', grad_fn=<SubBackward0>) Best valid loss = tensor(7.2333e-05, device='cuda:0', grad_fn=<MseLossBackward0>)\n"
     ]
    },
    {
     "name": "stderr",
     "output_type": "stream",
     "text": [
      "100%|██████████| 15000/15000 [00:49<00:00, 304.50it/s]s]  \n",
      " 14%|█▍        | 70006/500000 [26:20<208:17:17,  1.74s/it]"
     ]
    },
    {
     "name": "stdout",
     "output_type": "stream",
     "text": [
      "69999 / 500000 Best train MI = tensor(2.2307, device='cuda:0', grad_fn=<SubBackward0>) Best valid loss = tensor(7.2333e-05, device='cuda:0', grad_fn=<MseLossBackward0>)\n"
     ]
    },
    {
     "name": "stderr",
     "output_type": "stream",
     "text": [
      "100%|██████████| 15000/15000 [00:49<00:00, 305.22it/s]s]  \n",
      " 16%|█▌        | 80006/500000 [30:07<226:18:49,  1.94s/it]"
     ]
    },
    {
     "name": "stdout",
     "output_type": "stream",
     "text": [
      "79999 / 500000 Best train MI = tensor(2.2669, device='cuda:0', grad_fn=<SubBackward0>) Best valid loss = tensor(3.5205e-05, device='cuda:0', grad_fn=<MseLossBackward0>)\n"
     ]
    },
    {
     "name": "stderr",
     "output_type": "stream",
     "text": [
      "100%|██████████| 15000/15000 [00:50<00:00, 299.62it/s]s]  \n",
      " 18%|█▊        | 90006/500000 [33:55<225:16:54,  1.98s/it]"
     ]
    },
    {
     "name": "stdout",
     "output_type": "stream",
     "text": [
      "89999 / 500000 Best train MI = tensor(2.2881, device='cuda:0', grad_fn=<SubBackward0>) Best valid loss = tensor(2.4696e-05, device='cuda:0', grad_fn=<MseLossBackward0>)\n"
     ]
    },
    {
     "name": "stderr",
     "output_type": "stream",
     "text": [
      "100%|██████████| 15000/15000 [00:49<00:00, 304.17it/s]s]  \n",
      " 20%|██        | 100006/500000 [37:44<225:14:27,  2.03s/it]"
     ]
    },
    {
     "name": "stdout",
     "output_type": "stream",
     "text": [
      "99999 / 500000 Best train MI = tensor(2.5591, device='cuda:0', grad_fn=<SubBackward0>) Best valid loss = tensor(2.4696e-05, device='cuda:0', grad_fn=<MseLossBackward0>)\n"
     ]
    },
    {
     "name": "stderr",
     "output_type": "stream",
     "text": [
      "100%|██████████| 15000/15000 [00:48<00:00, 306.26it/s]/s]  \n",
      " 22%|██▏       | 110006/500000 [41:31<184:45:52,  1.71s/it]"
     ]
    },
    {
     "name": "stdout",
     "output_type": "stream",
     "text": [
      "109999 / 500000 Best train MI = tensor(2.5591, device='cuda:0', grad_fn=<SubBackward0>) Best valid loss = tensor(2.4696e-05, device='cuda:0', grad_fn=<MseLossBackward0>)\n"
     ]
    },
    {
     "name": "stderr",
     "output_type": "stream",
     "text": [
      "100%|██████████| 15000/15000 [00:48<00:00, 308.15it/s]/s]  \n",
      " 24%|██▍       | 120006/500000 [45:19<190:29:32,  1.80s/it]"
     ]
    },
    {
     "name": "stdout",
     "output_type": "stream",
     "text": [
      "119999 / 500000 Best train MI = tensor(2.5591, device='cuda:0', grad_fn=<SubBackward0>) Best valid loss = tensor(2.4696e-05, device='cuda:0', grad_fn=<MseLossBackward0>)\n"
     ]
    },
    {
     "name": "stderr",
     "output_type": "stream",
     "text": [
      "100%|██████████| 15000/15000 [00:49<00:00, 304.28it/s]/s]  \n",
      " 26%|██▌       | 130006/500000 [49:08<179:24:29,  1.75s/it]"
     ]
    },
    {
     "name": "stdout",
     "output_type": "stream",
     "text": [
      "129999 / 500000 Best train MI = tensor(2.5591, device='cuda:0', grad_fn=<SubBackward0>) Best valid loss = tensor(2.4696e-05, device='cuda:0', grad_fn=<MseLossBackward0>)\n"
     ]
    },
    {
     "name": "stderr",
     "output_type": "stream",
     "text": [
      "100%|██████████| 15000/15000 [00:48<00:00, 307.59it/s]/s]  \n",
      " 28%|██▊       | 140006/500000 [52:56<200:31:19,  2.01s/it]"
     ]
    },
    {
     "name": "stdout",
     "output_type": "stream",
     "text": [
      "139999 / 500000 Best train MI = tensor(2.5591, device='cuda:0', grad_fn=<SubBackward0>) Best valid loss = tensor(2.4696e-05, device='cuda:0', grad_fn=<MseLossBackward0>)\n"
     ]
    },
    {
     "name": "stderr",
     "output_type": "stream",
     "text": [
      "100%|██████████| 15000/15000 [00:49<00:00, 300.13it/s]/s]  \n",
      " 30%|███       | 150006/500000 [56:46<178:13:53,  1.83s/it]"
     ]
    },
    {
     "name": "stdout",
     "output_type": "stream",
     "text": [
      "149999 / 500000 Best train MI = tensor(2.5591, device='cuda:0', grad_fn=<SubBackward0>) Best valid loss = tensor(1.9588e-05, device='cuda:0', grad_fn=<MseLossBackward0>)\n"
     ]
    },
    {
     "name": "stderr",
     "output_type": "stream",
     "text": [
      "100%|██████████| 15000/15000 [00:49<00:00, 306.00it/s]/s]  \n",
      " 32%|███▏      | 160006/500000 [1:00:35<163:56:08,  1.74s/it]"
     ]
    },
    {
     "name": "stdout",
     "output_type": "stream",
     "text": [
      "159999 / 500000 Best train MI = tensor(2.5591, device='cuda:0', grad_fn=<SubBackward0>) Best valid loss = tensor(1.9588e-05, device='cuda:0', grad_fn=<MseLossBackward0>)\n"
     ]
    },
    {
     "name": "stderr",
     "output_type": "stream",
     "text": [
      "100%|██████████| 15000/15000 [00:50<00:00, 298.71it/s]it/s]  \n",
      " 34%|███▍      | 170006/500000 [1:04:26<197:13:10,  2.15s/it]"
     ]
    },
    {
     "name": "stdout",
     "output_type": "stream",
     "text": [
      "169999 / 500000 Best train MI = tensor(2.5591, device='cuda:0', grad_fn=<SubBackward0>) Best valid loss = tensor(1.7949e-05, device='cuda:0', grad_fn=<MseLossBackward0>)\n"
     ]
    },
    {
     "name": "stderr",
     "output_type": "stream",
     "text": [
      "100%|██████████| 15000/15000 [00:49<00:00, 305.32it/s]it/s]  \n",
      " 36%|███▌      | 180006/500000 [1:08:17<166:10:05,  1.87s/it]"
     ]
    },
    {
     "name": "stdout",
     "output_type": "stream",
     "text": [
      "179999 / 500000 Best train MI = tensor(2.5591, device='cuda:0', grad_fn=<SubBackward0>) Best valid loss = tensor(1.7949e-05, device='cuda:0', grad_fn=<MseLossBackward0>)\n"
     ]
    },
    {
     "name": "stderr",
     "output_type": "stream",
     "text": [
      "100%|██████████| 15000/15000 [00:48<00:00, 311.99it/s]it/s]  \n",
      " 38%|███▊      | 190006/500000 [1:12:06<163:38:54,  1.90s/it]"
     ]
    },
    {
     "name": "stdout",
     "output_type": "stream",
     "text": [
      "189999 / 500000 Best train MI = tensor(2.5591, device='cuda:0', grad_fn=<SubBackward0>) Best valid loss = tensor(1.7949e-05, device='cuda:0', grad_fn=<MseLossBackward0>)\n"
     ]
    },
    {
     "name": "stderr",
     "output_type": "stream",
     "text": [
      "100%|██████████| 15000/15000 [00:49<00:00, 303.59it/s]it/s]  \n",
      " 40%|████      | 200006/500000 [1:15:58<176:25:28,  2.12s/it]"
     ]
    },
    {
     "name": "stdout",
     "output_type": "stream",
     "text": [
      "199999 / 500000 Best train MI = tensor(2.7321, device='cuda:0', grad_fn=<SubBackward0>) Best valid loss = tensor(6.5709e-06, device='cuda:0', grad_fn=<MseLossBackward0>)\n"
     ]
    },
    {
     "name": "stderr",
     "output_type": "stream",
     "text": [
      "100%|██████████| 15000/15000 [00:48<00:00, 307.20it/s]it/s]  \n",
      " 42%|████▏     | 210006/500000 [1:19:49<149:42:53,  1.86s/it]"
     ]
    },
    {
     "name": "stdout",
     "output_type": "stream",
     "text": [
      "209999 / 500000 Best train MI = tensor(2.7321, device='cuda:0', grad_fn=<SubBackward0>) Best valid loss = tensor(6.5709e-06, device='cuda:0', grad_fn=<MseLossBackward0>)\n"
     ]
    },
    {
     "name": "stderr",
     "output_type": "stream",
     "text": [
      "100%|██████████| 15000/15000 [00:50<00:00, 296.11it/s]it/s]  \n",
      " 44%|████▍     | 220006/500000 [1:23:41<162:01:49,  2.08s/it]"
     ]
    },
    {
     "name": "stdout",
     "output_type": "stream",
     "text": [
      "219999 / 500000 Best train MI = tensor(2.7321, device='cuda:0', grad_fn=<SubBackward0>) Best valid loss = tensor(6.5709e-06, device='cuda:0', grad_fn=<MseLossBackward0>)\n"
     ]
    },
    {
     "name": "stderr",
     "output_type": "stream",
     "text": [
      "100%|██████████| 15000/15000 [00:49<00:00, 300.66it/s]it/s]  \n",
      " 46%|████▌     | 230006/500000 [1:27:33<142:22:34,  1.90s/it]"
     ]
    },
    {
     "name": "stdout",
     "output_type": "stream",
     "text": [
      "229999 / 500000 Best train MI = tensor(2.7321, device='cuda:0', grad_fn=<SubBackward0>) Best valid loss = tensor(6.5709e-06, device='cuda:0', grad_fn=<MseLossBackward0>)\n"
     ]
    },
    {
     "name": "stderr",
     "output_type": "stream",
     "text": [
      "100%|██████████| 15000/15000 [00:49<00:00, 305.15it/s]it/s]  \n",
      " 48%|████▊     | 240006/500000 [1:31:25<140:20:42,  1.94s/it]"
     ]
    },
    {
     "name": "stdout",
     "output_type": "stream",
     "text": [
      "239999 / 500000 Best train MI = tensor(2.7321, device='cuda:0', grad_fn=<SubBackward0>) Best valid loss = tensor(6.5709e-06, device='cuda:0', grad_fn=<MseLossBackward0>)\n"
     ]
    },
    {
     "name": "stderr",
     "output_type": "stream",
     "text": [
      "100%|██████████| 15000/15000 [00:49<00:00, 303.82it/s]it/s]  \n",
      " 50%|█████     | 250006/500000 [1:35:17<140:19:33,  2.02s/it]"
     ]
    },
    {
     "name": "stdout",
     "output_type": "stream",
     "text": [
      "249999 / 500000 Best train MI = tensor(2.7321, device='cuda:0', grad_fn=<SubBackward0>) Best valid loss = tensor(6.5709e-06, device='cuda:0', grad_fn=<MseLossBackward0>)\n"
     ]
    },
    {
     "name": "stderr",
     "output_type": "stream",
     "text": [
      "100%|██████████| 15000/15000 [00:48<00:00, 306.53it/s]it/s]  \n",
      " 52%|█████▏    | 260006/500000 [1:39:09<134:10:02,  2.01s/it]"
     ]
    },
    {
     "name": "stdout",
     "output_type": "stream",
     "text": [
      "259999 / 500000 Best train MI = tensor(2.7321, device='cuda:0', grad_fn=<SubBackward0>) Best valid loss = tensor(6.5709e-06, device='cuda:0', grad_fn=<MseLossBackward0>)\n"
     ]
    },
    {
     "name": "stderr",
     "output_type": "stream",
     "text": [
      "100%|██████████| 15000/15000 [00:49<00:00, 305.51it/s]it/s]  \n",
      " 54%|█████▍    | 270006/500000 [1:43:00<119:22:51,  1.87s/it]"
     ]
    },
    {
     "name": "stdout",
     "output_type": "stream",
     "text": [
      "269999 / 500000 Best train MI = tensor(2.7321, device='cuda:0', grad_fn=<SubBackward0>) Best valid loss = tensor(6.5709e-06, device='cuda:0', grad_fn=<MseLossBackward0>)\n"
     ]
    },
    {
     "name": "stderr",
     "output_type": "stream",
     "text": [
      "100%|██████████| 15000/15000 [00:49<00:00, 301.47it/s]it/s]  \n",
      " 56%|█████▌    | 280006/500000 [1:46:54<130:16:49,  2.13s/it]"
     ]
    },
    {
     "name": "stdout",
     "output_type": "stream",
     "text": [
      "279999 / 500000 Best train MI = tensor(2.7321, device='cuda:0', grad_fn=<SubBackward0>) Best valid loss = tensor(3.5145e-06, device='cuda:0', grad_fn=<MseLossBackward0>)\n"
     ]
    },
    {
     "name": "stderr",
     "output_type": "stream",
     "text": [
      "100%|██████████| 15000/15000 [00:50<00:00, 299.85it/s]it/s]  \n",
      " 58%|█████▊    | 290006/500000 [1:50:47<103:19:55,  1.77s/it]"
     ]
    },
    {
     "name": "stdout",
     "output_type": "stream",
     "text": [
      "289999 / 500000 Best train MI = tensor(2.7321, device='cuda:0', grad_fn=<SubBackward0>) Best valid loss = tensor(3.5145e-06, device='cuda:0', grad_fn=<MseLossBackward0>)\n"
     ]
    },
    {
     "name": "stderr",
     "output_type": "stream",
     "text": [
      "100%|██████████| 15000/15000 [00:48<00:00, 306.39it/s]it/s]  \n",
      " 60%|██████    | 300006/500000 [1:54:40<107:30:57,  1.94s/it]"
     ]
    },
    {
     "name": "stdout",
     "output_type": "stream",
     "text": [
      "299999 / 500000 Best train MI = tensor(2.7321, device='cuda:0', grad_fn=<SubBackward0>) Best valid loss = tensor(3.5145e-06, device='cuda:0', grad_fn=<MseLossBackward0>)\n"
     ]
    },
    {
     "name": "stderr",
     "output_type": "stream",
     "text": [
      "100%|██████████| 15000/15000 [00:49<00:00, 304.79it/s]/s]    \n",
      " 62%|██████▏   | 310006/500000 [1:58:32<111:19:18,  2.11s/it]"
     ]
    },
    {
     "name": "stdout",
     "output_type": "stream",
     "text": [
      "309999 / 500000 Best train MI = tensor(2.7321, device='cuda:0', grad_fn=<SubBackward0>) Best valid loss = tensor(3.5145e-06, device='cuda:0', grad_fn=<MseLossBackward0>)\n"
     ]
    },
    {
     "name": "stderr",
     "output_type": "stream",
     "text": [
      "100%|██████████| 15000/15000 [00:48<00:00, 307.14it/s]/s]    \n",
      " 64%|██████▍   | 320006/500000 [2:02:25<86:30:30,  1.73s/it] "
     ]
    },
    {
     "name": "stdout",
     "output_type": "stream",
     "text": [
      "319999 / 500000 Best train MI = tensor(2.7321, device='cuda:0', grad_fn=<SubBackward0>) Best valid loss = tensor(3.5145e-06, device='cuda:0', grad_fn=<MseLossBackward0>)\n"
     ]
    },
    {
     "name": "stderr",
     "output_type": "stream",
     "text": [
      "100%|██████████| 15000/15000 [00:49<00:00, 304.27it/s]/s]   \n",
      " 66%|██████▌   | 330006/500000 [2:06:18<95:44:20,  2.03s/it] "
     ]
    },
    {
     "name": "stdout",
     "output_type": "stream",
     "text": [
      "329999 / 500000 Best train MI = tensor(2.7321, device='cuda:0', grad_fn=<SubBackward0>) Best valid loss = tensor(3.5145e-06, device='cuda:0', grad_fn=<MseLossBackward0>)\n"
     ]
    },
    {
     "name": "stderr",
     "output_type": "stream",
     "text": [
      "100%|██████████| 15000/15000 [00:49<00:00, 305.58it/s]/s]   \n",
      " 68%|██████▊   | 340006/500000 [2:10:11<77:16:37,  1.74s/it] "
     ]
    },
    {
     "name": "stdout",
     "output_type": "stream",
     "text": [
      "339999 / 500000 Best train MI = tensor(2.7321, device='cuda:0', grad_fn=<SubBackward0>) Best valid loss = tensor(3.5145e-06, device='cuda:0', grad_fn=<MseLossBackward0>)\n"
     ]
    },
    {
     "name": "stderr",
     "output_type": "stream",
     "text": [
      "100%|██████████| 15000/15000 [00:49<00:00, 304.75it/s]/s]   \n",
      " 70%|███████   | 350006/500000 [2:14:05<87:52:15,  2.11s/it] "
     ]
    },
    {
     "name": "stdout",
     "output_type": "stream",
     "text": [
      "349999 / 500000 Best train MI = tensor(2.7321, device='cuda:0', grad_fn=<SubBackward0>) Best valid loss = tensor(3.5145e-06, device='cuda:0', grad_fn=<MseLossBackward0>)\n"
     ]
    },
    {
     "name": "stderr",
     "output_type": "stream",
     "text": [
      "100%|██████████| 15000/15000 [00:49<00:00, 302.19it/s]/s]   \n",
      " 72%|███████▏  | 360006/500000 [2:17:58<70:49:10,  1.82s/it] "
     ]
    },
    {
     "name": "stdout",
     "output_type": "stream",
     "text": [
      "359999 / 500000 Best train MI = tensor(2.7321, device='cuda:0', grad_fn=<SubBackward0>) Best valid loss = tensor(3.5145e-06, device='cuda:0', grad_fn=<MseLossBackward0>)\n"
     ]
    },
    {
     "name": "stderr",
     "output_type": "stream",
     "text": [
      "100%|██████████| 15000/15000 [00:49<00:00, 304.93it/s]/s]   \n",
      " 74%|███████▍  | 370006/500000 [2:21:52<76:07:15,  2.11s/it] "
     ]
    },
    {
     "name": "stdout",
     "output_type": "stream",
     "text": [
      "369999 / 500000 Best train MI = tensor(2.7321, device='cuda:0', grad_fn=<SubBackward0>) Best valid loss = tensor(3.5145e-06, device='cuda:0', grad_fn=<MseLossBackward0>)\n"
     ]
    },
    {
     "name": "stderr",
     "output_type": "stream",
     "text": [
      "100%|██████████| 15000/15000 [00:49<00:00, 303.14it/s]/s]   \n",
      " 76%|███████▌  | 380006/500000 [2:25:45<58:25:22,  1.75s/it]"
     ]
    },
    {
     "name": "stdout",
     "output_type": "stream",
     "text": [
      "379999 / 500000 Best train MI = tensor(2.7321, device='cuda:0', grad_fn=<SubBackward0>) Best valid loss = tensor(3.5145e-06, device='cuda:0', grad_fn=<MseLossBackward0>)\n"
     ]
    },
    {
     "name": "stderr",
     "output_type": "stream",
     "text": [
      "100%|██████████| 15000/15000 [00:49<00:00, 302.46it/s]/s]   \n",
      " 78%|███████▊  | 390006/500000 [2:29:39<62:18:53,  2.04s/it]"
     ]
    },
    {
     "name": "stdout",
     "output_type": "stream",
     "text": [
      "389999 / 500000 Best train MI = tensor(2.7321, device='cuda:0', grad_fn=<SubBackward0>) Best valid loss = tensor(3.5145e-06, device='cuda:0', grad_fn=<MseLossBackward0>)\n"
     ]
    },
    {
     "name": "stderr",
     "output_type": "stream",
     "text": [
      "100%|██████████| 15000/15000 [00:49<00:00, 302.33it/s]/s]   \n",
      " 80%|████████  | 400006/500000 [2:33:33<54:28:55,  1.96s/it]"
     ]
    },
    {
     "name": "stdout",
     "output_type": "stream",
     "text": [
      "399999 / 500000 Best train MI = tensor(2.7321, device='cuda:0', grad_fn=<SubBackward0>) Best valid loss = tensor(3.5145e-06, device='cuda:0', grad_fn=<MseLossBackward0>)\n"
     ]
    },
    {
     "name": "stderr",
     "output_type": "stream",
     "text": [
      "100%|██████████| 15000/15000 [00:49<00:00, 301.59it/s]/s]   \n",
      " 82%|████████▏ | 410006/500000 [2:37:27<51:07:56,  2.05s/it]"
     ]
    },
    {
     "name": "stdout",
     "output_type": "stream",
     "text": [
      "409999 / 500000 Best train MI = tensor(2.7321, device='cuda:0', grad_fn=<SubBackward0>) Best valid loss = tensor(3.5145e-06, device='cuda:0', grad_fn=<MseLossBackward0>)\n"
     ]
    },
    {
     "name": "stderr",
     "output_type": "stream",
     "text": [
      "100%|██████████| 15000/15000 [00:50<00:00, 299.21it/s]/s]   \n",
      " 84%|████████▍ | 420006/500000 [2:41:22<42:23:01,  1.91s/it]"
     ]
    },
    {
     "name": "stdout",
     "output_type": "stream",
     "text": [
      "419999 / 500000 Best train MI = tensor(2.7321, device='cuda:0', grad_fn=<SubBackward0>) Best valid loss = tensor(3.5145e-06, device='cuda:0', grad_fn=<MseLossBackward0>)\n"
     ]
    },
    {
     "name": "stderr",
     "output_type": "stream",
     "text": [
      "100%|██████████| 15000/15000 [00:49<00:00, 304.25it/s]/s]   \n",
      " 86%|████████▌ | 430006/500000 [2:45:16<37:53:45,  1.95s/it]"
     ]
    },
    {
     "name": "stdout",
     "output_type": "stream",
     "text": [
      "429999 / 500000 Best train MI = tensor(2.7321, device='cuda:0', grad_fn=<SubBackward0>) Best valid loss = tensor(3.5145e-06, device='cuda:0', grad_fn=<MseLossBackward0>)\n"
     ]
    },
    {
     "name": "stderr",
     "output_type": "stream",
     "text": [
      "100%|██████████| 15000/15000 [00:48<00:00, 306.87it/s]/s]   \n",
      " 88%|████████▊ | 440006/500000 [2:49:10<33:30:32,  2.01s/it]"
     ]
    },
    {
     "name": "stdout",
     "output_type": "stream",
     "text": [
      "439999 / 500000 Best train MI = tensor(2.7321, device='cuda:0', grad_fn=<SubBackward0>) Best valid loss = tensor(3.5145e-06, device='cuda:0', grad_fn=<MseLossBackward0>)\n"
     ]
    },
    {
     "name": "stderr",
     "output_type": "stream",
     "text": [
      "100%|██████████| 15000/15000 [00:49<00:00, 302.42it/s]/s]   \n",
      " 90%|█████████ | 450006/500000 [2:53:04<28:19:21,  2.04s/it]"
     ]
    },
    {
     "name": "stdout",
     "output_type": "stream",
     "text": [
      "449999 / 500000 Best train MI = tensor(2.7321, device='cuda:0', grad_fn=<SubBackward0>) Best valid loss = tensor(3.5145e-06, device='cuda:0', grad_fn=<MseLossBackward0>)\n"
     ]
    },
    {
     "name": "stderr",
     "output_type": "stream",
     "text": [
      "100%|██████████| 15000/15000 [00:49<00:00, 304.72it/s]/s]   \n",
      " 92%|█████████▏| 460006/500000 [2:56:58<19:22:00,  1.74s/it]"
     ]
    },
    {
     "name": "stdout",
     "output_type": "stream",
     "text": [
      "459999 / 500000 Best train MI = tensor(2.7321, device='cuda:0', grad_fn=<SubBackward0>) Best valid loss = tensor(3.5145e-06, device='cuda:0', grad_fn=<MseLossBackward0>)\n"
     ]
    },
    {
     "name": "stderr",
     "output_type": "stream",
     "text": [
      "100%|██████████| 15000/15000 [00:49<00:00, 300.09it/s]/s]   \n",
      " 94%|█████████▍| 470006/500000 [3:00:53<15:16:42,  1.83s/it]"
     ]
    },
    {
     "name": "stdout",
     "output_type": "stream",
     "text": [
      "469999 / 500000 Best train MI = tensor(2.7321, device='cuda:0', grad_fn=<SubBackward0>) Best valid loss = tensor(3.5145e-06, device='cuda:0', grad_fn=<MseLossBackward0>)\n"
     ]
    },
    {
     "name": "stderr",
     "output_type": "stream",
     "text": [
      "100%|██████████| 15000/15000 [00:49<00:00, 304.43it/s]/s]   \n",
      " 96%|█████████▌| 480006/500000 [3:04:47<10:49:03,  1.95s/it]"
     ]
    },
    {
     "name": "stdout",
     "output_type": "stream",
     "text": [
      "479999 / 500000 Best train MI = tensor(2.7321, device='cuda:0', grad_fn=<SubBackward0>) Best valid loss = tensor(3.5145e-06, device='cuda:0', grad_fn=<MseLossBackward0>)\n"
     ]
    },
    {
     "name": "stderr",
     "output_type": "stream",
     "text": [
      "100%|██████████| 15000/15000 [00:48<00:00, 307.21it/s]/s]   \n",
      " 98%|█████████▊| 490006/500000 [3:08:41<5:21:31,  1.93s/it]"
     ]
    },
    {
     "name": "stdout",
     "output_type": "stream",
     "text": [
      "489999 / 500000 Best train MI = tensor(2.7321, device='cuda:0', grad_fn=<SubBackward0>) Best valid loss = tensor(3.5145e-06, device='cuda:0', grad_fn=<MseLossBackward0>)\n"
     ]
    },
    {
     "name": "stderr",
     "output_type": "stream",
     "text": [
      "100%|██████████| 15000/15000 [00:49<00:00, 305.09it/s]/s]  \n",
      "100%|██████████| 500000/500000 [3:12:35<00:00, 43.27it/s]"
     ]
    },
    {
     "name": "stdout",
     "output_type": "stream",
     "text": [
      "499999 / 500000 Best train MI = tensor(2.8229, device='cuda:0', grad_fn=<SubBackward0>) Best valid loss = tensor(3.5145e-06, device='cuda:0', grad_fn=<MseLossBackward0>)\n"
     ]
    },
    {
     "name": "stderr",
     "output_type": "stream",
     "text": [
      "\n"
     ]
    }
   ],
   "source": [
    "result, loss, ma_et, best_result = train(train_data, valid_data, mine_net, mine_net_optim,\n",
    "                                            zrnn_net, zrnn_net_optim, regr_net_without_Z,\n",
    "                                            h_state, result, loss, ma_et,\n",
    "                                            batch_size=batch_size, window_size=window_size,\n",
    "                                            iter_num=int(500000), log_freq=int(1e+4))"
   ]
  },
  {
   "cell_type": "code",
   "execution_count": 23,
   "metadata": {},
   "outputs": [
    {
     "data": {
      "text/plain": [
       "tensor(2.8229, device='cuda:0', grad_fn=<SubBackward0>)"
      ]
     },
     "execution_count": 23,
     "metadata": {},
     "output_type": "execute_result"
    }
   ],
   "source": [
    "best_result"
   ]
  },
  {
   "cell_type": "code",
   "execution_count": 24,
   "metadata": {},
   "outputs": [
    {
     "data": {
      "text/plain": [
       "<All keys matched successfully>"
      ]
     },
     "execution_count": 24,
     "metadata": {},
     "output_type": "execute_result"
    }
   ],
   "source": [
    "zrnn_trained = zrnn_net\n",
    "zrnn_net = Z_RNN(input_size = data.shape[1], hidden_size = 256, num_layers = 2, output_size = z_size).cuda()\n",
    "zrnn_net.load_state_dict(torch.load('zrnn_valid_best.pt'))\n",
    "# zrnn_net = zrnn_trained"
   ]
  },
  {
   "cell_type": "code",
   "execution_count": 25,
   "metadata": {},
   "outputs": [
    {
     "data": {
      "text/plain": [
       "[<matplotlib.lines.Line2D at 0x7fd07c0e70d0>]"
      ]
     },
     "execution_count": 25,
     "metadata": {},
     "output_type": "execute_result"
    },
    {
     "data": {
      "image/png": "[encoded data removed]",
      "text/plain": [
       "<Figure size 640x480 with 1 Axes>"
      ]
     },
     "metadata": {},
     "output_type": "display_data"
    }
   ],
   "source": [
    "def ma(a, window_size=100):\n",
    "    return [np.mean(a[i:i+window_size]) for i in range(0,len(a)-window_size)]\n",
    "\n",
    "\n",
    "result_cor_ma = ma(result)\n",
    "# print(result_cor_ma[-1])\n",
    "plt.plot(result)\n",
    "# plt.plot(result_cor_ma)\n",
    "# plt.plot(range(200, 1300), result_cor_ma[200:1300])"
   ]
  },
  {
   "cell_type": "code",
   "execution_count": 26,
   "metadata": {},
   "outputs": [
    {
     "data": {
      "text/plain": [
       "[<matplotlib.lines.Line2D at 0x7fd07d75add0>]"
      ]
     },
     "execution_count": 26,
     "metadata": {},
     "output_type": "execute_result"
    },
    {
     "data": {
      "image/png": "[encoded data removed]",
      "text/plain": [
       "<Figure size 640x480 with 1 Axes>"
      ]
     },
     "metadata": {},
     "output_type": "display_data"
    }
   ],
   "source": [
    "plt.plot(loss)"
   ]
  },
  {
   "cell_type": "code",
   "execution_count": 27,
   "metadata": {},
   "outputs": [
    {
     "data": {
      "text/plain": [
       "Z_RNN(\n",
       "  (rnn): RNN(20, 84, num_layers=2, batch_first=True)\n",
       "  (out): Linear(in_features=84, out_features=1, bias=True)\n",
       ")"
      ]
     },
     "execution_count": 27,
     "metadata": {},
     "output_type": "execute_result"
    }
   ],
   "source": [
    "regr_net_without_Z"
   ]
  },
  {
   "cell_type": "code",
   "execution_count": 28,
   "metadata": {},
   "outputs": [],
   "source": [
    "def generate_Z(data, zrnn_net):\n",
    "    h_state = None\n",
    "    X = np.expand_dims(data[:, 0], 1)\n",
    "    Y = data[:, 1:]\n",
    "\n",
    "    X = torch.autograd.Variable(torch.FloatTensor(X)).cuda()\n",
    "    Y = torch.autograd.Variable(torch.FloatTensor(Y)).cuda()\n",
    "    index = np.random.choice(range(X.shape[0]), size=X.shape[0], replace=False)\n",
    "    marginal_X = X[index]\n",
    "    h_state = None\n",
    "    reg_X, h_state = regr_net_without_Z(Y, h_state)\n",
    "\n",
    "    h_state = None\n",
    "    Z, h_state = zrnn_net( torch.cat((reg_X, Y), axis = 1), h_state)\n",
    "    Z = Z.detach().cpu().numpy()\n",
    "\n",
    "    return Z"
   ]
  },
  {
   "cell_type": "code",
   "execution_count": 29,
   "metadata": {},
   "outputs": [],
   "source": [
    "Z = generate_Z(data, zrnn_net)\n",
    "Z = (Z - Z.min())/(Z.max() - Z.min())"
   ]
  },
  {
   "cell_type": "code",
   "execution_count": null,
   "metadata": {},
   "outputs": [],
   "source": [
    "# Z_spare = Z\n",
    "# Z = np.load('results/exchange_rate_z.npy')"
   ]
  },
  {
   "cell_type": "code",
   "execution_count": 30,
   "metadata": {},
   "outputs": [],
   "source": [
    "train_Z = Z[:train_size]\n",
    "valid_Z = Z[train_size:train_size+valid_size]\n",
    "test_Z = Z[train_size+valid_size:]"
   ]
  },
  {
   "cell_type": "code",
   "execution_count": 31,
   "metadata": {},
   "outputs": [],
   "source": [
    "def train_reg(data, Z, regr_net, regr_net_optim, iter_num = 5000):\n",
    "    X = np.expand_dims(data[:, 0], 1)\n",
    "    Y = data[:, 1:]\n",
    "    # X_lagged = np.concatenate((np.ones(shape=(1,1), dtype=np.float)*data[0,0], np.expand_dims((data[0:-1:, 0]), 0)), 1)\n",
    "    # Y = np.concatenate((X_lagged.T, data[:, 1:]), 1)\n",
    "    X = torch.autograd.Variable(torch.FloatTensor(X)).cuda()\n",
    "    Y = torch.autograd.Variable(torch.FloatTensor(Y)).cuda()\n",
    "    Z = torch.autograd.Variable(torch.FloatTensor(Z)).cuda()\n",
    "\n",
    "    best_result = 1000\n",
    "    loss_array = []\n",
    "    for _ in tqdm(range(iter_num)):\n",
    "        X_pred = regr_net(torch.cat((Y, Z), axis = 1))\n",
    "        mseloss = torch.nn.MSELoss(reduction = 'mean')\n",
    "        loss = mseloss(X_pred, X)\n",
    "        regr_net_optim.zero_grad()\n",
    "        autograd.backward(loss)\n",
    "        nn.utils.clip_grad_norm(regr_net.parameters(), max_norm=0.001, norm_type=2)\n",
    "        regr_net_optim.step()\n",
    "        loss_array.append(loss.detach().cpu().numpy())\n",
    "\n",
    "        if loss < best_result:\n",
    "            best_result = loss\n",
    "            torch.save(regr_net.state_dict(), 'regr_net.pt')\n",
    "    \n",
    "    return loss_array, X_pred.detach().cpu().numpy()"
   ]
  },
  {
   "cell_type": "code",
   "execution_count": 32,
   "metadata": {},
   "outputs": [],
   "source": [
    "def train_reg_withoutZ(data, regr_net, regr_net_optim, iter_num = 5000):\n",
    "    X = np.expand_dims(data[:, 0], 1)\n",
    "    Y = data[:, 1:]\n",
    "    X = torch.autograd.Variable(torch.FloatTensor(X)).cuda()\n",
    "    Y = torch.autograd.Variable(torch.FloatTensor(Y)).cuda()\n",
    "\n",
    "    best_result = 1000\n",
    "    loss_array = []\n",
    "    for _ in tqdm(range(iter_num)):\n",
    "        X_pred = regr_net(Y)\n",
    "        mseloss = torch.nn.MSELoss(reduction = 'mean')\n",
    "        loss = mseloss(X_pred, X)\n",
    "        regr_net_optim.zero_grad()\n",
    "        autograd.backward(loss)\n",
    "        nn.utils.clip_grad_norm(regr_net.parameters(), max_norm=0.001, norm_type=2)\n",
    "        regr_net_optim.step()\n",
    "        loss_array.append(loss.detach().cpu().numpy())\n",
    "\n",
    "        if loss < best_result:\n",
    "            best_result = loss\n",
    "            torch.save(regr_net.state_dict(), 'regr_net.pt')\n",
    "    \n",
    "    return loss_array, X_pred.detach().cpu().numpy()"
   ]
  },
  {
   "cell_type": "code",
   "execution_count": 33,
   "metadata": {},
   "outputs": [
    {
     "name": "stderr",
     "output_type": "stream",
     "text": [
      "  0%|          | 0/50000 [00:00<?, ?it/s]/tmp/ipykernel_1207575/1729585600.py:15: UserWarning: torch.nn.utils.clip_grad_norm is now deprecated in favor of torch.nn.utils.clip_grad_norm_.\n",
      "  nn.utils.clip_grad_norm(regr_net.parameters(), max_norm=0.001, norm_type=2)\n",
      "100%|██████████| 50000/50000 [02:49<00:00, 294.72it/s]\n"
     ]
    },
    {
     "data": {
      "text/plain": [
       "<All keys matched successfully>"
      ]
     },
     "execution_count": 33,
     "metadata": {},
     "output_type": "execute_result"
    }
   ],
   "source": [
    "regr_net_without_Z = Regressor(input_size = data.shape[1]-1, hidden_size = data.shape[1] * 4).cuda()\n",
    "regr_net_without_Z_optim = optim.Adam(regr_net_without_Z.parameters(), lr = 1e-3, weight_decay = 1e-5)\n",
    "loss_array, train_X_pred_without_Z = train_reg_withoutZ(train_data, regr_net_without_Z, regr_net_without_Z_optim, iter_num = 50000)\n",
    "\n",
    "regr_without_Z_trained = regr_net_without_Z\n",
    "regr_net_without_Z = Regressor(input_size = data.shape[1]-1, hidden_size = data.shape[1] * 4).cuda()\n",
    "regr_net_without_Z.load_state_dict(torch.load('regr_net.pt'))"
   ]
  },
  {
   "cell_type": "code",
   "execution_count": 34,
   "metadata": {},
   "outputs": [
    {
     "data": {
      "text/plain": [
       "[<matplotlib.lines.Line2D at 0x7fce5de17520>]"
      ]
     },
     "execution_count": 34,
     "metadata": {},
     "output_type": "execute_result"
    },
    {
     "data": {
      "image/png": "[encoded data removed]",
      "text/plain": [
       "<Figure size 640x480 with 1 Axes>"
      ]
     },
     "metadata": {},
     "output_type": "display_data"
    }
   ],
   "source": [
    "plt.plot(loss_array[-10000:])"
   ]
  },
  {
   "cell_type": "code",
   "execution_count": 35,
   "metadata": {},
   "outputs": [
    {
     "data": {
      "text/plain": [
       "[<matplotlib.lines.Line2D at 0x7fd097be3d60>]"
      ]
     },
     "execution_count": 35,
     "metadata": {},
     "output_type": "execute_result"
    },
    {
     "data": {
      "image/png": "[encoded data removed]",
      "text/plain": [
       "<Figure size 640x480 with 1 Axes>"
      ]
     },
     "metadata": {},
     "output_type": "display_data"
    }
   ],
   "source": [
    "# plt.plot(train_X_pred_without_Z)\n",
    "# plt.plot(train_data[:,0])\n",
    "plt.plot(train_X_pred_without_Z[:2000])\n",
    "plt.plot(train_data[:2000,0])"
   ]
  },
  {
   "cell_type": "code",
   "execution_count": 36,
   "metadata": {},
   "outputs": [],
   "source": [
    "def test(data, Z, regr_net):\n",
    "    X = np.expand_dims(data[:, 0], 1)\n",
    "    Y = data[:, 1:]\n",
    "    X = torch.autograd.Variable(torch.FloatTensor(X)).cuda()\n",
    "    Y = torch.autograd.Variable(torch.FloatTensor(Y)).cuda()\n",
    "    Z = torch.autograd.Variable(torch.FloatTensor(Z)).cuda()\n",
    "    \n",
    "    X_pred = regr_net(torch.cat((Y, Z), axis = 1))\n",
    "    mseloss = torch.nn.MSELoss(reduction = 'sum')\n",
    "    loss = mseloss(X_pred, X)\n",
    "    return loss.detach(), X_pred.detach().cpu().numpy()"
   ]
  },
  {
   "cell_type": "code",
   "execution_count": 37,
   "metadata": {},
   "outputs": [
    {
     "name": "stderr",
     "output_type": "stream",
     "text": [
      "  0%|          | 0/50000 [00:00<?, ?it/s]/tmp/ipykernel_1207575/3979216300.py:18: UserWarning: torch.nn.utils.clip_grad_norm is now deprecated in favor of torch.nn.utils.clip_grad_norm_.\n",
      "  nn.utils.clip_grad_norm(regr_net.parameters(), max_norm=0.001, norm_type=2)\n",
      "100%|██████████| 50000/50000 [02:45<00:00, 301.64it/s]\n"
     ]
    }
   ],
   "source": [
    "regr_net = Regressor(input_size = data.shape[1]-1+z_size, hidden_size = z_size * 4).cuda()\n",
    "regr_net_optim = optim.Adam(regr_net.parameters(), lr = 1e-3, weight_decay = 1e-5)\n",
    "# loss_array, train_X_pred = train_reg(train_data, train_Z, regr_net, regr_net_optim, iter_num = 50000)\n",
    "loss_array, valid_X_pred = train_reg(valid_data, valid_Z, regr_net, regr_net_optim, iter_num = 50000)\n",
    "\n",
    "regr_trained = regr_net\n",
    "regr_net = Regressor(input_size = data.shape[1]-1+z_size, hidden_size = z_size * 4).cuda()\n",
    "regr_net.load_state_dict(torch.load('regr_net.pt'))\n",
    "\n",
    "test_loss, X_pred = test(test_data, test_Z, regr_net)\n",
    "MSEloss = np.mean(np.square(test_data[10:,0] - X_pred[10:].T))# * minmaxgap"
   ]
  },
  {
   "cell_type": "code",
   "execution_count": 38,
   "metadata": {},
   "outputs": [
    {
     "data": {
      "text/plain": [
       "0.0006156714707275788"
      ]
     },
     "execution_count": 38,
     "metadata": {},
     "output_type": "execute_result"
    }
   ],
   "source": [
    "MSEloss"
   ]
  },
  {
   "cell_type": "code",
   "execution_count": 39,
   "metadata": {},
   "outputs": [
    {
     "data": {
      "text/plain": [
       "[<matplotlib.lines.Line2D at 0x7fce58966ad0>]"
      ]
     },
     "execution_count": 39,
     "metadata": {},
     "output_type": "execute_result"
    },
    {
     "data": {
      "image/png": "[encoded data removed]",
      "text/plain": [
       "<Figure size 640x480 with 1 Axes>"
      ]
     },
     "metadata": {},
     "output_type": "display_data"
    }
   ],
   "source": [
    "plt.plot(loss_array[-48000:])"
   ]
  },
  {
   "cell_type": "code",
   "execution_count": 40,
   "metadata": {},
   "outputs": [
    {
     "data": {
      "text/plain": [
       "0.0006156714707275788"
      ]
     },
     "execution_count": 40,
     "metadata": {},
     "output_type": "execute_result"
    }
   ],
   "source": [
    "MSEloss"
   ]
  },
  {
   "cell_type": "code",
   "execution_count": 41,
   "metadata": {},
   "outputs": [
    {
     "data": {
      "text/plain": [
       "[<matplotlib.lines.Line2D at 0x7fce5dd9fb80>]"
      ]
     },
     "execution_count": 41,
     "metadata": {},
     "output_type": "execute_result"
    },
    {
     "data": {
      "image/png": "[encoded data removed]",
      "text/plain": [
       "<Figure size 640x480 with 1 Axes>"
      ]
     },
     "metadata": {},
     "output_type": "display_data"
    }
   ],
   "source": [
    "# plt.plot(train_X_pred)\n",
    "# plt.plot(train_data[:,0])\n",
    "# plt.plot(train_X_pred[:2000, ])\n",
    "# plt.plot(train_data[:2000,0])\n",
    "plt.plot(valid_X_pred)\n",
    "plt.plot(valid_data[:,0])"
   ]
  },
  {
   "cell_type": "code",
   "execution_count": 42,
   "metadata": {},
   "outputs": [
    {
     "name": "stderr",
     "output_type": "stream",
     "text": [
      "  0%|          | 0/50000 [00:00<?, ?it/s]/tmp/ipykernel_1207575/3979216300.py:18: UserWarning: torch.nn.utils.clip_grad_norm is now deprecated in favor of torch.nn.utils.clip_grad_norm_.\n",
      "  nn.utils.clip_grad_norm(regr_net.parameters(), max_norm=0.001, norm_type=2)\n",
      "100%|██████████| 50000/50000 [02:50<00:00, 293.82it/s]\n",
      "100%|██████████| 50000/50000 [02:48<00:00, 296.02it/s]\n",
      "100%|██████████| 50000/50000 [02:48<00:00, 296.43it/s]\n",
      "100%|██████████| 50000/50000 [02:50<00:00, 294.08it/s]\n",
      "100%|██████████| 50000/50000 [02:48<00:00, 296.54it/s]\n",
      "100%|██████████| 50000/50000 [02:50<00:00, 292.56it/s]\n",
      "100%|██████████| 50000/50000 [02:50<00:00, 293.74it/s]\n",
      "100%|██████████| 50000/50000 [02:50<00:00, 293.83it/s]\n",
      "100%|██████████| 50000/50000 [02:48<00:00, 295.91it/s]\n",
      "100%|██████████| 50000/50000 [02:49<00:00, 294.30it/s]\n"
     ]
    },
    {
     "data": {
      "text/plain": [
       "0.0005453847464506553"
      ]
     },
     "execution_count": 42,
     "metadata": {},
     "output_type": "execute_result"
    }
   ],
   "source": [
    "min_loss = 1000\n",
    "for i in range(10):\n",
    "    regr_net = Regressor(input_size = data.shape[1]-1+z_size, hidden_size = z_size * 4).cuda()\n",
    "    regr_net_optim = optim.Adam(regr_net.parameters(), lr = 1e-3, weight_decay = 1e-5)\n",
    "    loss_array, train_X_pred = train_reg(train_data, train_Z, regr_net, regr_net_optim, iter_num = 50000)\n",
    "    # loss_array, train_X_pred = train_reg(valid_data, valid_Z, regr_net, regr_net_optim, iter_num = 50000)\n",
    "\n",
    "    regr_trained = regr_net\n",
    "    regr_net = Regressor(input_size = data.shape[1]-1+z_size, hidden_size = z_size * 4).cuda()\n",
    "    regr_net.load_state_dict(torch.load('regr_net.pt'))\n",
    "\n",
    "    test_loss, X_pred = test(test_data, test_Z, regr_net)\n",
    "    MSEloss = np.mean(np.square(test_data[10:,0] - X_pred[10:].T))# * minmaxgap\n",
    "    if MSEloss < min_loss:\n",
    "        min_loss = MSEloss\n",
    "\n",
    "min_loss"
   ]
  },
  {
   "cell_type": "code",
   "execution_count": 43,
   "metadata": {},
   "outputs": [
    {
     "data": {
      "text/plain": [
       "0.0005453847464506553"
      ]
     },
     "execution_count": 43,
     "metadata": {},
     "output_type": "execute_result"
    }
   ],
   "source": [
    "min_loss"
   ]
  },
  {
   "cell_type": "code",
   "execution_count": 44,
   "metadata": {},
   "outputs": [],
   "source": [
    "def test_without_Z(data, regr_net):\n",
    "    X = np.expand_dims(data[:, 0], 1)\n",
    "    Y = data[:, 1:]\n",
    "    X = torch.autograd.Variable(torch.FloatTensor(X)).cuda()\n",
    "    Y = torch.autograd.Variable(torch.FloatTensor(Y)).cuda()\n",
    "\n",
    "    X_pred = regr_net(Y)\n",
    "    mseloss = torch.nn.MSELoss(reduction = 'sum')\n",
    "    loss = mseloss(X_pred, X)\n",
    "    return loss.detach(), X_pred.detach().cpu().numpy()"
   ]
  },
  {
   "cell_type": "code",
   "execution_count": 45,
   "metadata": {},
   "outputs": [
    {
     "name": "stderr",
     "output_type": "stream",
     "text": [
      "  0%|          | 0/50000 [00:00<?, ?it/s]/tmp/ipykernel_1207575/1729585600.py:15: UserWarning: torch.nn.utils.clip_grad_norm is now deprecated in favor of torch.nn.utils.clip_grad_norm_.\n",
      "  nn.utils.clip_grad_norm(regr_net.parameters(), max_norm=0.001, norm_type=2)\n",
      "100%|██████████| 50000/50000 [03:04<00:00, 270.74it/s]\n",
      "100%|██████████| 50000/50000 [03:03<00:00, 272.39it/s]\n",
      "100%|██████████| 50000/50000 [03:04<00:00, 270.76it/s]\n",
      "100%|██████████| 50000/50000 [03:03<00:00, 271.91it/s]\n",
      "100%|██████████| 50000/50000 [03:04<00:00, 271.71it/s]\n",
      "100%|██████████| 50000/50000 [03:04<00:00, 271.11it/s]\n",
      "100%|██████████| 50000/50000 [03:03<00:00, 271.80it/s]\n",
      "100%|██████████| 50000/50000 [03:05<00:00, 269.90it/s]\n",
      "100%|██████████| 50000/50000 [03:05<00:00, 269.38it/s]\n",
      "100%|██████████| 50000/50000 [03:04<00:00, 270.85it/s]\n"
     ]
    },
    {
     "data": {
      "text/plain": [
       "0.0005492523422509986"
      ]
     },
     "execution_count": 45,
     "metadata": {},
     "output_type": "execute_result"
    }
   ],
   "source": [
    "min_loss = 1000\n",
    "for i in range(10):\n",
    "    regr_net_without_Z = Regressor(input_size = data.shape[1]-1, hidden_size = data.shape[1] * 4).cuda()\n",
    "    regr_net_without_Z_optim = optim.Adam(regr_net_without_Z.parameters(), lr = 1e-3, weight_decay = 1e-5)\n",
    "    loss_array, train_X_pred_without_Z = train_reg_withoutZ(train_data, regr_net_without_Z, regr_net_without_Z_optim, iter_num = 50000)\n",
    "    # loss_array, train_X_pred_without_Z = train_reg_withoutZ(valid_data, regr_net_without_Z, regr_net_without_Z_optim, iter_num = 50000)\n",
    "\n",
    "    regr_without_Z_trained = regr_net_without_Z\n",
    "    regr_net_without_Z = Regressor(input_size = data.shape[1]-1, hidden_size = data.shape[1] * 4).cuda()\n",
    "    regr_net_without_Z.load_state_dict(torch.load('regr_net.pt'))\n",
    "\n",
    "    test_loss, X_pred_without_Z = test_without_Z(test_data, regr_net_without_Z)\n",
    "    MSEloss = np.mean(np.square(test_data[:,0] - X_pred_without_Z[:].T))# * minmaxgap\n",
    "    if MSEloss < min_loss:\n",
    "        min_loss = MSEloss\n",
    "\n",
    "min_loss"
   ]
  },
  {
   "cell_type": "code",
   "execution_count": 46,
   "metadata": {},
   "outputs": [
    {
     "data": {
      "text/plain": [
       "0.0005492523422509986"
      ]
     },
     "execution_count": 46,
     "metadata": {},
     "output_type": "execute_result"
    }
   ],
   "source": [
    "min_loss"
   ]
  },
  {
   "cell_type": "code",
   "execution_count": null,
   "metadata": {},
   "outputs": [
    {
     "data": {
      "text/plain": [
       "0.00016576672922772112"
      ]
     },
     "execution_count": 48,
     "metadata": {},
     "output_type": "execute_result"
    }
   ],
   "source": [
    "test_loss, X_pred_without_Z = test_without_Z(test_data, regr_net_without_Z)\n",
    "MSEloss = np.mean(np.square(test_data[:,0] - X_pred_without_Z[:].T))# * minmaxgap\n",
    "MSEloss"
   ]
  },
  {
   "cell_type": "code",
   "execution_count": null,
   "metadata": {},
   "outputs": [
    {
     "data": {
      "text/plain": [
       "8.919050102218905e-05"
      ]
     },
     "execution_count": 49,
     "metadata": {},
     "output_type": "execute_result"
    }
   ],
   "source": [
    "MSEloss = np.mean(np.square(test_data[1:,0] - test_data[:-1,0]))# * minmaxgap\n",
    "MSEloss"
   ]
  },
  {
   "cell_type": "code",
   "execution_count": null,
   "metadata": {},
   "outputs": [
    {
     "data": {
      "text/plain": [
       "[<matplotlib.lines.Line2D at 0x7f98c7c26890>]"
      ]
     },
     "execution_count": 50,
     "metadata": {},
     "output_type": "execute_result"
    },
    {
     "data": {
      "image/png": "[encoded data removed]",
      "text/plain": [
       "<Figure size 640x480 with 1 Axes>"
      ]
     },
     "metadata": {},
     "output_type": "display_data"
    }
   ],
   "source": [
    "plt.plot(X_pred[:])\n",
    "plt.plot(test_data[:,0])"
   ]
  },
  {
   "cell_type": "code",
   "execution_count": null,
   "metadata": {},
   "outputs": [],
   "source": []
  },
  {
   "cell_type": "code",
   "execution_count": 102,
   "metadata": {},
   "outputs": [],
   "source": [
    "np.save('results/exchange_rate_z.npy', Z)"
   ]
  },
  {
   "cell_type": "code",
   "execution_count": null,
   "metadata": {},
   "outputs": [],
   "source": []
  },
  {
   "cell_type": "code",
   "execution_count": 100,
   "metadata": {},
   "outputs": [],
   "source": [
    "def mutual_information_explicit(joint_X, marginal_X, Y, mine_net):\n",
    "    t = mine_net( torch.cat((joint_X, Y), axis = 1) )\n",
    "    marginal_t = mine_net( torch.cat((marginal_X, Y), axis = 1) )\n",
    "\n",
    "    # Z, h_state = zrnn_net( torch.cat((joint_X[:-1, :], Y[:-1, :]), 1), h_state)\n",
    "    # t = mine_net( torch.cat((joint_X[1:, :], Y[1:, :], Z), axis = 1) )\n",
    "    # marginal_t = mine_net( torch.cat((marginal_X[1:, :], Y[1:, :], Z), axis = 1) )\n",
    "\n",
    "    et = torch.exp(marginal_t)\n",
    "    mi_lb = torch.mean(t) - torch.log(torch.mean(et))\n",
    "    return mi_lb, t, et\n",
    "\n",
    "def learn_mine_explicit(X, Y, mine_net, mine_net_optim, ma_et, ma_rate=0.01):\n",
    "    # batch is a tuple of (joint, marginal)\n",
    "    index = np.random.choice(range(X.shape[0]), size=X.shape[0], replace=False)\n",
    "    marginal_X = X[index]\n",
    "    X = torch.autograd.Variable(torch.FloatTensor(X)).cuda()\n",
    "    Y = torch.autograd.Variable(torch.FloatTensor(Y)).cuda()\n",
    "    marginal_X = torch.autograd.Variable(torch.FloatTensor(marginal_X)).cuda()\n",
    "\n",
    "    mi_lb, t, et = mutual_information_explicit(X, marginal_X, Y, mine_net)\n",
    "    ma_et = (1-ma_rate)*ma_et + ma_rate*torch.mean(et)\n",
    "    \n",
    "    # unbiasing use moving average\n",
    "    loss = -(torch.mean(t) - (1/ma_et.mean()).detach()*torch.mean(et))\n",
    "    # use biased estimator\n",
    "#     loss = - mi_lb\n",
    "    \n",
    "    mine_net_optim.zero_grad()\n",
    "    autograd.backward(loss)\n",
    "    mine_net_optim.step()\n",
    "    return mi_lb, ma_et, loss"
   ]
  },
  {
   "cell_type": "code",
   "execution_count": 101,
   "metadata": {},
   "outputs": [],
   "source": [
    "def train_explicit(data, mine_net, mine_net_optim, batch_size=100, iter_num=int(1e+3) , log_freq=int(1e+2)):\n",
    "# def train(data, mine_net, mine_net_optim, zrnn_net, zrnn_net_optim, h_state, batch_size=100, iter_num=3000, log_freq=int(1e+2)):\n",
    "    # data is x or y\n",
    "    result = list()\n",
    "    loss = list()\n",
    "    ma_et = 1.\n",
    "    for i in tqdm(range(iter_num)):\n",
    "        X = np.expand_dims(data[:, 0], 1)\n",
    "        Y = data[:, 1:]\n",
    "        # Y = np.expand_dims(data[:, 0], 1)\n",
    "        if Y.ndim == 1:\n",
    "            Y = np.expand_dims(Y, 1)\n",
    "\n",
    "        mi_lb, ma_et, l = learn_mine_explicit(X, Y, mine_net, mine_net_optim, ma_et)\n",
    "        # if (i+1)%(10)==0:\n",
    "        result.append(mi_lb.detach().cpu().numpy())\n",
    "        loss.append(l.detach().cpu().numpy())\n",
    "        if (i+1)%(log_freq)==0:\n",
    "            print(result[-1])\n",
    "    return result, loss"
   ]
  },
  {
   "cell_type": "code",
   "execution_count": 102,
   "metadata": {},
   "outputs": [
    {
     "name": "stderr",
     "output_type": "stream",
     "text": [
      " 10%|█         | 10011/100000 [02:16<20:50, 71.97it/s]"
     ]
    },
    {
     "name": "stdout",
     "output_type": "stream",
     "text": [
      "1.8619697\n"
     ]
    },
    {
     "name": "stderr",
     "output_type": "stream",
     "text": [
      " 20%|██        | 20009/100000 [04:32<17:50, 74.75it/s]"
     ]
    },
    {
     "name": "stdout",
     "output_type": "stream",
     "text": [
      "2.030606\n"
     ]
    },
    {
     "name": "stderr",
     "output_type": "stream",
     "text": [
      " 30%|███       | 30010/100000 [06:49<15:22, 75.89it/s]"
     ]
    },
    {
     "name": "stdout",
     "output_type": "stream",
     "text": [
      "2.1319544\n"
     ]
    },
    {
     "name": "stderr",
     "output_type": "stream",
     "text": [
      " 40%|████      | 40014/100000 [09:05<13:09, 75.98it/s]"
     ]
    },
    {
     "name": "stdout",
     "output_type": "stream",
     "text": [
      "2.2634463\n"
     ]
    },
    {
     "name": "stderr",
     "output_type": "stream",
     "text": [
      " 50%|█████     | 50009/100000 [11:21<11:40, 71.38it/s]"
     ]
    },
    {
     "name": "stdout",
     "output_type": "stream",
     "text": [
      "2.2955139\n"
     ]
    },
    {
     "name": "stderr",
     "output_type": "stream",
     "text": [
      " 60%|██████    | 60015/100000 [13:38<09:00, 73.94it/s]"
     ]
    },
    {
     "name": "stdout",
     "output_type": "stream",
     "text": [
      "2.3492603\n"
     ]
    },
    {
     "name": "stderr",
     "output_type": "stream",
     "text": [
      " 70%|███████   | 70009/100000 [15:55<06:48, 73.46it/s]"
     ]
    },
    {
     "name": "stdout",
     "output_type": "stream",
     "text": [
      "2.3747838\n"
     ]
    },
    {
     "name": "stderr",
     "output_type": "stream",
     "text": [
      " 80%|████████  | 80009/100000 [18:10<04:26, 74.97it/s]"
     ]
    },
    {
     "name": "stdout",
     "output_type": "stream",
     "text": [
      "2.2697828\n"
     ]
    },
    {
     "name": "stderr",
     "output_type": "stream",
     "text": [
      " 90%|█████████ | 90007/100000 [20:25<02:10, 76.45it/s]"
     ]
    },
    {
     "name": "stdout",
     "output_type": "stream",
     "text": [
      "2.511119\n"
     ]
    },
    {
     "name": "stderr",
     "output_type": "stream",
     "text": [
      "100%|██████████| 100000/100000 [22:34<00:00, 73.80it/s]\n"
     ]
    },
    {
     "name": "stdout",
     "output_type": "stream",
     "text": [
      "2.5120118\n"
     ]
    }
   ],
   "source": [
    "mine_net_explicit = Mine(input_size = data.shape[1], hidden_size = 512).cuda()\n",
    "mine_net_explicit_optim = optim.Adam(mine_net_explicit.parameters(), lr=1e-3, weight_decay = 1e-5)\n",
    "result_explicit = train_explicit(train_data, mine_net_explicit, mine_net_explicit_optim, batch_size=2000, iter_num=int(1e+5), log_freq=int(1e+4))"
   ]
  },
  {
   "cell_type": "code",
   "execution_count": 406,
   "metadata": {},
   "outputs": [
    {
     "data": {
      "text/plain": [
       "(4540, 54)"
      ]
     },
     "execution_count": 406,
     "metadata": {},
     "output_type": "execute_result"
    }
   ],
   "source": [
    "np.concatenate((train_data, train_Z), axis=1).shape"
   ]
  },
  {
   "cell_type": "code",
   "execution_count": 103,
   "metadata": {},
   "outputs": [
    {
     "data": {
      "text/plain": [
       "[<matplotlib.lines.Line2D at 0x7f27fef4a470>]"
      ]
     },
     "execution_count": 103,
     "metadata": {},
     "output_type": "execute_result"
    },
    {
     "data": {
      "image/png": "[encoded data removed]",
      "text/plain": [
       "<Figure size 640x480 with 1 Axes>"
      ]
     },
     "metadata": {},
     "output_type": "display_data"
    }
   ],
   "source": [
    "# plt.plot(range(len(ma(result_explicit))), ma(result_explicit))\n",
    "plt.plot(result_explicit[0])"
   ]
  },
  {
   "cell_type": "code",
   "execution_count": 105,
   "metadata": {},
   "outputs": [
    {
     "data": {
      "text/plain": [
       "[<matplotlib.lines.Line2D at 0x7f27a43ddc30>]"
      ]
     },
     "execution_count": 105,
     "metadata": {},
     "output_type": "execute_result"
    },
    {
     "data": {
      "image/png": "[encoded data removed]",
      "text/plain": [
       "<Figure size 640x480 with 1 Axes>"
      ]
     },
     "metadata": {},
     "output_type": "display_data"
    }
   ],
   "source": [
    "plt.plot(result)\n",
    "plt.plot(result_explicit[0])"
   ]
  },
  {
   "cell_type": "code",
   "execution_count": 318,
   "metadata": {},
   "outputs": [
    {
     "data": {
      "text/plain": [
       "[<matplotlib.lines.Line2D at 0x7f20ed4db940>]"
      ]
     },
     "execution_count": 318,
     "metadata": {},
     "output_type": "execute_result"
    },
    {
     "data": {
      "image/png": "[encoded data removed]",
      "text/plain": [
       "<Figure size 640x480 with 1 Axes>"
      ]
     },
     "metadata": {},
     "output_type": "display_data"
    }
   ],
   "source": [
    "plt.plot(result_explicit[1])"
   ]
  },
  {
   "cell_type": "code",
   "execution_count": 106,
   "metadata": {},
   "outputs": [
    {
     "name": "stderr",
     "output_type": "stream",
     "text": [
      "  0%|          | 0/100000 [00:00<?, ?it/s]"
     ]
    },
    {
     "name": "stderr",
     "output_type": "stream",
     "text": [
      " 10%|█         | 10007/100000 [02:29<21:45, 68.94it/s]"
     ]
    },
    {
     "name": "stdout",
     "output_type": "stream",
     "text": [
      "1.9755644\n"
     ]
    },
    {
     "name": "stderr",
     "output_type": "stream",
     "text": [
      " 20%|██        | 20010/100000 [04:56<19:29, 68.38it/s]"
     ]
    },
    {
     "name": "stdout",
     "output_type": "stream",
     "text": [
      "2.122621\n"
     ]
    },
    {
     "name": "stderr",
     "output_type": "stream",
     "text": [
      " 30%|███       | 30014/100000 [07:23<15:50, 73.62it/s]"
     ]
    },
    {
     "name": "stdout",
     "output_type": "stream",
     "text": [
      "2.2169259\n"
     ]
    },
    {
     "name": "stderr",
     "output_type": "stream",
     "text": [
      " 40%|████      | 40010/100000 [09:55<16:15, 61.52it/s]"
     ]
    },
    {
     "name": "stdout",
     "output_type": "stream",
     "text": [
      "2.387099\n"
     ]
    },
    {
     "name": "stderr",
     "output_type": "stream",
     "text": [
      " 50%|█████     | 50010/100000 [12:30<13:32, 61.55it/s]"
     ]
    },
    {
     "name": "stdout",
     "output_type": "stream",
     "text": [
      "2.360812\n"
     ]
    },
    {
     "name": "stderr",
     "output_type": "stream",
     "text": [
      " 60%|██████    | 60009/100000 [15:06<09:54, 67.30it/s]"
     ]
    },
    {
     "name": "stdout",
     "output_type": "stream",
     "text": [
      "2.4093761\n"
     ]
    },
    {
     "name": "stderr",
     "output_type": "stream",
     "text": [
      " 70%|███████   | 70010/100000 [17:42<07:34, 65.96it/s]"
     ]
    },
    {
     "name": "stdout",
     "output_type": "stream",
     "text": [
      "2.5514102\n"
     ]
    },
    {
     "name": "stderr",
     "output_type": "stream",
     "text": [
      " 80%|████████  | 80008/100000 [20:17<05:04, 65.64it/s]"
     ]
    },
    {
     "name": "stdout",
     "output_type": "stream",
     "text": [
      "2.1565466\n"
     ]
    },
    {
     "name": "stderr",
     "output_type": "stream",
     "text": [
      " 90%|█████████ | 90013/100000 [22:49<02:32, 65.66it/s]"
     ]
    },
    {
     "name": "stdout",
     "output_type": "stream",
     "text": [
      "2.6015007\n"
     ]
    },
    {
     "name": "stderr",
     "output_type": "stream",
     "text": [
      "100%|██████████| 100000/100000 [25:14<00:00, 66.02it/s]\n"
     ]
    },
    {
     "name": "stdout",
     "output_type": "stream",
     "text": [
      "2.5764937\n"
     ]
    }
   ],
   "source": [
    "mine_net_explicit_plus_Z = Mine(input_size = data.shape[1]+z_size, hidden_size = 512).cuda()\n",
    "mine_net_explicit_plus_Z_optim = optim.Adam(mine_net_explicit_plus_Z.parameters(),\n",
    "                                            lr=1e-3, weight_decay = 1e-5)\n",
    "result_explicit_plus_Z = train_explicit(np.concatenate((train_data, train_Z), axis=1),\n",
    "                                        mine_net_explicit_plus_Z, mine_net_explicit_plus_Z_optim,\n",
    "                                        batch_size=2000, iter_num=int(1e+5), log_freq=int(1e+4))"
   ]
  },
  {
   "cell_type": "code",
   "execution_count": 108,
   "metadata": {},
   "outputs": [
    {
     "data": {
      "text/plain": [
       "[<matplotlib.lines.Line2D at 0x7f2790844d00>]"
      ]
     },
     "execution_count": 108,
     "metadata": {},
     "output_type": "execute_result"
    },
    {
     "data": {
      "image/png": "[encoded data removed]",
      "text/plain": [
       "<Figure size 640x480 with 1 Axes>"
      ]
     },
     "metadata": {},
     "output_type": "display_data"
    }
   ],
   "source": [
    "plt.plot(result_explicit_plus_Z[0])\n",
    "plt.plot(result_explicit[0])"
   ]
  },
  {
   "cell_type": "code",
   "execution_count": 413,
   "metadata": {},
   "outputs": [
    {
     "data": {
      "text/plain": [
       "[<matplotlib.lines.Line2D at 0x7f21a4a1e1d0>]"
      ]
     },
     "execution_count": 413,
     "metadata": {},
     "output_type": "execute_result"
    },
    {
     "data": {
      "image/png": "[encoded data removed]",
      "text/plain": [
       "<Figure size 640x480 with 1 Axes>"
      ]
     },
     "metadata": {},
     "output_type": "display_data"
    }
   ],
   "source": [
    "plt.plot(result_explicit_plus_Z[1])"
   ]
  },
  {
   "cell_type": "code",
   "execution_count": 130,
   "metadata": {},
   "outputs": [
    {
     "name": "stderr",
     "output_type": "stream",
     "text": [
      " 10%|█         | 10026/100000 [01:09<09:38, 155.57it/s]"
     ]
    },
    {
     "name": "stdout",
     "output_type": "stream",
     "text": [
      "5.5123687\n"
     ]
    },
    {
     "name": "stderr",
     "output_type": "stream",
     "text": [
      " 20%|██        | 20030/100000 [02:21<09:16, 143.83it/s]"
     ]
    },
    {
     "name": "stdout",
     "output_type": "stream",
     "text": [
      "5.600969\n"
     ]
    },
    {
     "name": "stderr",
     "output_type": "stream",
     "text": [
      " 30%|███       | 30029/100000 [03:32<07:34, 153.85it/s]"
     ]
    },
    {
     "name": "stdout",
     "output_type": "stream",
     "text": [
      "4.5534906\n"
     ]
    },
    {
     "name": "stderr",
     "output_type": "stream",
     "text": [
      " 40%|████      | 40028/100000 [04:44<07:23, 135.33it/s]"
     ]
    },
    {
     "name": "stdout",
     "output_type": "stream",
     "text": [
      "5.9385295\n"
     ]
    },
    {
     "name": "stderr",
     "output_type": "stream",
     "text": [
      " 50%|█████     | 50015/100000 [05:56<06:01, 138.14it/s]"
     ]
    },
    {
     "name": "stdout",
     "output_type": "stream",
     "text": [
      "5.719413\n"
     ]
    },
    {
     "name": "stderr",
     "output_type": "stream",
     "text": [
      " 60%|██████    | 60017/100000 [07:08<05:12, 128.10it/s]"
     ]
    },
    {
     "name": "stdout",
     "output_type": "stream",
     "text": [
      "6.72899\n"
     ]
    },
    {
     "name": "stderr",
     "output_type": "stream",
     "text": [
      " 70%|███████   | 70028/100000 [08:21<03:30, 142.15it/s]"
     ]
    },
    {
     "name": "stdout",
     "output_type": "stream",
     "text": [
      "6.2774653\n"
     ]
    },
    {
     "name": "stderr",
     "output_type": "stream",
     "text": [
      " 80%|████████  | 80017/100000 [09:34<02:32, 130.86it/s]"
     ]
    },
    {
     "name": "stdout",
     "output_type": "stream",
     "text": [
      "6.6623726\n"
     ]
    },
    {
     "name": "stderr",
     "output_type": "stream",
     "text": [
      " 90%|█████████ | 90026/100000 [10:47<00:59, 168.98it/s]"
     ]
    },
    {
     "name": "stdout",
     "output_type": "stream",
     "text": [
      "6.4303427\n"
     ]
    },
    {
     "name": "stderr",
     "output_type": "stream",
     "text": [
      "100%|██████████| 100000/100000 [11:58<00:00, 139.27it/s]\n"
     ]
    },
    {
     "name": "stdout",
     "output_type": "stream",
     "text": [
      "6.6305847\n"
     ]
    }
   ],
   "source": [
    "# mine_net_explicit = Mine(input_size = data.shape[1]) #.cuda()\n",
    "mine_net_explicit = Mine(input_size = 2).cuda()\n",
    "mine_net_explicit_optim = optim.Adam(mine_net_explicit.parameters(), lr=1e-3, weight_decay = 1e-5)\n",
    "result_entropy = train_explicit(np.concatenate((np.expand_dims(train_data[:, 0], 1), (np.expand_dims(train_data[:, 0], 1))), 1), mine_net_explicit, mine_net_explicit_optim, batch_size=2000, iter_num=int(1e+5), log_freq=int(1e+4))"
   ]
  },
  {
   "cell_type": "code",
   "execution_count": 117,
   "metadata": {},
   "outputs": [
    {
     "name": "stderr",
     "output_type": "stream",
     "text": [
      "  0%|          | 0/30000 [00:00<?, ?it/s]"
     ]
    },
    {
     "name": "stderr",
     "output_type": "stream",
     "text": [
      "/tmp/ipykernel_4663/908396659.py:19: UserWarning: torch.nn.utils.clip_grad_norm is now deprecated in favor of torch.nn.utils.clip_grad_norm_.\n",
      "  nn.utils.clip_grad_norm(regr_net.parameters(), max_norm=0.001, norm_type=2)\n",
      "100%|██████████| 30000/30000 [05:11<00:00, 96.28it/s] \n"
     ]
    }
   ],
   "source": [
    "def train_reg_withoutZ(data, regr_net, regr_net_optim, window_size, iter_num = 5000):\n",
    "    X = np.expand_dims(data[:, 0], 1)\n",
    "    Y = data[:, 1:]\n",
    "    X = torch.autograd.Variable(torch.FloatTensor(X)).cuda()\n",
    "    Y = torch.autograd.Variable(torch.FloatTensor(Y)).cuda()\n",
    "    pivot = np.random.randint(X.shape[0]-window_size)\n",
    "    X = X[pivot:pivot+window_size]\n",
    "    Y = Y[pivot:pivot+window_size]\n",
    "\n",
    "    loss_array = []\n",
    "    for _ in tqdm(range(iter_num)):\n",
    "        h_state = None\n",
    "        # X_pred = regr_net(Y)\n",
    "        X_pred, h_state = regr_net(Y, h_state)\n",
    "        mseloss = torch.nn.MSELoss(reduction = 'sum')\n",
    "        loss = mseloss(X_pred, X)\n",
    "        regr_net_optim.zero_grad()\n",
    "        autograd.backward(loss)\n",
    "        nn.utils.clip_grad_norm(regr_net.parameters(), max_norm=0.001, norm_type=2)\n",
    "        regr_net_optim.step()\n",
    "        loss_array.append(loss.detach().cpu().numpy())\n",
    "    \n",
    "    return loss_array, X_pred.detach().cpu().numpy()\n",
    "\n",
    "# regr_net_without_Z = Regressor(input_size = data.shape[1]-1, hidden_size = data.shape[1] * 4).cuda()\n",
    "regr_net_without_Z = Z_RNN(input_size = train_data.shape[1]-1, hidden_size = train_data.shape[1]*4, num_layers = 2, output_size = 1).cuda()\n",
    "regr_net_without_Z_optim = optim.Adam(regr_net_without_Z.parameters(), lr = 5e-4, weight_decay = 1e-5)\n",
    "loss_array, train_X_pred_without_Z = train_reg_withoutZ(train_data, regr_net_without_Z, regr_net_without_Z_optim, window_size, iter_num = 30000)\n"
   ]
  },
  {
   "cell_type": "code",
   "execution_count": 125,
   "metadata": {},
   "outputs": [
    {
     "data": {
      "text/plain": [
       "array([[0.2992866 ],\n",
       "       [0.43159273],\n",
       "       [0.6923245 ],\n",
       "       ...,\n",
       "       [0.7893907 ],\n",
       "       [0.7813078 ],\n",
       "       [0.7824389 ]], dtype=float32)"
      ]
     },
     "execution_count": 125,
     "metadata": {},
     "output_type": "execute_result"
    }
   ],
   "source": [
    "train_Y = train_data[:, 1:]\n",
    "train_Y = torch.autograd.Variable(torch.FloatTensor(train_Y)).cuda()\n",
    "\n",
    "h_state = None\n",
    "train_X_pred, h_state = regr_net_without_Z(train_Y, h_state)\n",
    "train_X_pred = train_X_pred.detach().cpu().numpy()\n",
    "train_X_pred"
   ]
  },
  {
   "cell_type": "code",
   "execution_count": 129,
   "metadata": {},
   "outputs": [
    {
     "name": "stderr",
     "output_type": "stream",
     "text": [
      " 10%|█         | 10018/100000 [01:15<11:52, 126.29it/s]"
     ]
    },
    {
     "name": "stdout",
     "output_type": "stream",
     "text": [
      "0.8624305\n"
     ]
    },
    {
     "name": "stderr",
     "output_type": "stream",
     "text": [
      " 20%|██        | 20023/100000 [02:29<10:30, 126.92it/s]"
     ]
    },
    {
     "name": "stdout",
     "output_type": "stream",
     "text": [
      "0.8739004\n"
     ]
    },
    {
     "name": "stderr",
     "output_type": "stream",
     "text": [
      " 30%|███       | 30028/100000 [03:44<08:03, 144.87it/s]"
     ]
    },
    {
     "name": "stdout",
     "output_type": "stream",
     "text": [
      "0.8764024\n"
     ]
    },
    {
     "name": "stderr",
     "output_type": "stream",
     "text": [
      " 40%|████      | 40018/100000 [04:57<08:34, 116.62it/s]"
     ]
    },
    {
     "name": "stdout",
     "output_type": "stream",
     "text": [
      "0.8819754\n"
     ]
    },
    {
     "name": "stderr",
     "output_type": "stream",
     "text": [
      " 50%|█████     | 50015/100000 [06:10<05:55, 140.71it/s]"
     ]
    },
    {
     "name": "stdout",
     "output_type": "stream",
     "text": [
      "0.89029616\n"
     ]
    },
    {
     "name": "stderr",
     "output_type": "stream",
     "text": [
      " 60%|██████    | 60025/100000 [07:18<04:09, 160.16it/s]"
     ]
    },
    {
     "name": "stdout",
     "output_type": "stream",
     "text": [
      "0.8924142\n"
     ]
    },
    {
     "name": "stderr",
     "output_type": "stream",
     "text": [
      " 70%|███████   | 70026/100000 [08:26<03:34, 139.43it/s]"
     ]
    },
    {
     "name": "stdout",
     "output_type": "stream",
     "text": [
      "0.8943744\n"
     ]
    },
    {
     "name": "stderr",
     "output_type": "stream",
     "text": [
      " 80%|████████  | 80013/100000 [09:34<02:26, 136.07it/s]"
     ]
    },
    {
     "name": "stdout",
     "output_type": "stream",
     "text": [
      "0.8758975\n"
     ]
    },
    {
     "name": "stderr",
     "output_type": "stream",
     "text": [
      " 90%|█████████ | 90021/100000 [10:43<01:10, 140.61it/s]"
     ]
    },
    {
     "name": "stdout",
     "output_type": "stream",
     "text": [
      "0.8866976\n"
     ]
    },
    {
     "name": "stderr",
     "output_type": "stream",
     "text": [
      "100%|██████████| 100000/100000 [11:54<00:00, 139.94it/s]\n"
     ]
    },
    {
     "name": "stdout",
     "output_type": "stream",
     "text": [
      "0.88096744\n"
     ]
    }
   ],
   "source": [
    "mine_net_explicit = Mine(input_size = 2).cuda()\n",
    "mine_net_explicit_optim = optim.Adam(mine_net_explicit.parameters(), lr=1e-3, weight_decay = 1e-5)\n",
    "result_pretrainX = train_explicit(np.concatenate((np.expand_dims(train_data[:, 0], 1), train_X_pred), 1), mine_net_explicit, mine_net_explicit_optim, batch_size=2000, iter_num=int(1e+5), log_freq=int(1e+4))"
   ]
  },
  {
   "cell_type": "code",
   "execution_count": 134,
   "metadata": {},
   "outputs": [
    {
     "name": "stdout",
     "output_type": "stream",
     "text": [
      "Pretrain: 0.9188759\n",
      "Explicit: 2.6582675\n",
      "Explicit+Z: 2.8290417\n",
      "Entropy: 7.3737607\n"
     ]
    }
   ],
   "source": [
    "print('Pretrain:', np.max(result_pretrainX[0]))\n",
    "print('Explicit:', np.max(result_explicit[0]))\n",
    "print('Explicit+Z:', np.max(result_explicit_plus_Z[0]))\n",
    "print('Entropy:', np.max(result_entropy[0]))"
   ]
  },
  {
   "cell_type": "code",
   "execution_count": 148,
   "metadata": {},
   "outputs": [
    {
     "data": {
      "text/plain": [
       "[<matplotlib.lines.Line2D at 0x7f272e28afe0>]"
      ]
     },
     "execution_count": 148,
     "metadata": {},
     "output_type": "execute_result"
    },
    {
     "data": {
      "image/png": "[encoded data removed]",
      "text/plain": [
       "<Figure size 640x480 with 1 Axes>"
      ]
     },
     "metadata": {},
     "output_type": "display_data"
    }
   ],
   "source": [
    "# plt.plot(result)\n",
    "plt.plot(result_entropy[0])\n",
    "# plt.plot(result_explicit_plus_Z[0])\n",
    "# plt.plot(result_explicit[0])\n",
    "# plt.plot(result_pretrainX[0])\n",
    "# plt.plot(result_explicit[0])"
   ]
  },
  {
   "cell_type": "code",
   "execution_count": 138,
   "metadata": {},
   "outputs": [
    {
     "data": {
      "text/plain": [
       "<matplotlib.lines.Line2D at 0x7f278ab76350>"
      ]
     },
     "execution_count": 138,
     "metadata": {},
     "output_type": "execute_result"
    },
    {
     "data": {
      "image/png": "[encoded data removed]",
      "text/plain": [
       "<Figure size 640x480 with 1 Axes>"
      ]
     },
     "metadata": {},
     "output_type": "display_data"
    }
   ],
   "source": [
    "plt.plot(result)\n",
    "plt.axhline(np.max(result_pretrainX[0]))\n",
    "plt.axhline(np.max(result_explicit[0]))\n",
    "plt.axhline(np.max(result_explicit_plus_Z[0]))\n",
    "plt.axhline(np.max(result_entropy[0]))"
   ]
  },
  {
   "cell_type": "code",
   "execution_count": null,
   "metadata": {},
   "outputs": [
    {
     "data": {
      "text/plain": [
       "(2.8290417, 2.6582675, 6.891037)"
      ]
     },
     "metadata": {},
     "output_type": "display_data"
    }
   ],
   "source": [
    "np.max(result_explicit_plus_Z[0]), np.max(result_explicit[0]), np.max(result_entropy)"
   ]
  },
  {
   "cell_type": "code",
   "execution_count": null,
   "metadata": {},
   "outputs": [],
   "source": []
  }
 ],
 "metadata": {
  "kernelspec": {
   "display_name": "base",
   "language": "python",
   "name": "python3"
  },
  "language_info": {
   "codemirror_mode": {
    "name": "ipython",
    "version": 3
   },
   "file_extension": ".py",
   "mimetype": "text/x-python",
   "name": "python",
   "nbconvert_exporter": "python",
   "pygments_lexer": "ipython3",
   "version": "3.10.12"
  },
  "orig_nbformat": 4
 },
 "nbformat": 4,
 "nbformat_minor": 2
}
